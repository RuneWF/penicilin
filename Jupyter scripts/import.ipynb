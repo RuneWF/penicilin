{
 "cells": [
  {
   "cell_type": "code",
   "execution_count": 1,
   "metadata": {},
   "outputs": [],
   "source": [
    "path = r'C:/Users/ruw/Desktop'\n",
    "import sys # https://stackoverflow.com/questions/4383571/importing-files-from-different-folder\n",
    "sys.path.insert(1, rf'{path}\\RA\\penicilin\\Libaries')"
   ]
  },
  {
   "cell_type": "code",
   "execution_count": 2,
   "metadata": {},
   "outputs": [],
   "source": [
    "import reload_lib as rl\n",
    "import database_manipulation as dm"
   ]
  },
  {
   "cell_type": "code",
   "execution_count": 3,
   "metadata": {},
   "outputs": [
    {
     "name": "stdout",
     "output_type": "stream",
     "text": [
      "Biosphere is already present in the project.\n",
      "Ecoinvent 3.9.1 is already present in the project.\n",
      "Extracted 1 worksheets in 0.04 seconds\n",
      "Applying strategy: csv_restore_tuples\n",
      "Applying strategy: csv_restore_booleans\n",
      "Applying strategy: csv_numerize\n",
      "Applying strategy: csv_drop_unknown\n",
      "Applying strategy: csv_add_missing_exchanges_section\n",
      "Applying strategy: normalize_units\n",
      "Applying strategy: normalize_biosphere_categories\n",
      "Applying strategy: normalize_biosphere_names\n",
      "Applying strategy: strip_biosphere_exc_locations\n",
      "Applying strategy: set_code_by_activity_hash\n",
      "Applying strategy: link_iterable_by_fields\n",
      "Applying strategy: assign_only_product_as_production\n",
      "Applying strategy: link_technosphere_by_activity_hash\n",
      "Applying strategy: drop_falsey_uncertainty_fields_but_keep_zeros\n",
      "Applying strategy: convert_uncertainty_types_to_integers\n",
      "Applying strategy: convert_activity_parameters_to_list\n",
      "Applied 16 strategies in 3.32 seconds\n",
      "Matching database: ev391consq\n",
      "Applying strategy: link_iterable_by_fields\n",
      "Unlinked items after matching ev391consq: []\n",
      "Applying strategy: link_iterable_by_fields\n",
      "23 datasets\n",
      "206 exchanges\n",
      "0 unlinked exchanges\n",
      "  \n",
      "Wrote matching file to:\n",
      "C:\\Users\\ruw\\AppData\\Local\\pylca\\Brightway3\\Peniciliin.7f630ec0f23fb9a217f2bac08a90ca5e\\output\\db-matching-penicillin-unlinked.xlsx\n",
      "[]\n",
      "penicillin is loaded into the database\n",
      "P-chlorophenoxyacetic acid is present in biosphere3\n",
      "Phenylacetic acid is present in biosphere3\n",
      "No update needed for ecotoxicity: freshwater\n",
      "No update needed for ecotoxicity: marine\n",
      "No update needed for ecotoxicity: terrestrial\n",
      "No update needed for total: ecosystem quality\n"
     ]
    }
   ],
   "source": [
    "rl.reload_lib(dm)\n",
    "\n",
    "bw_project = \"Peniciliin\"\n",
    "matching_database = \"ev391consq\"\n",
    "\n",
    "dm.database_setup(path, matching_database, bw_project, 'penicillin')\n",
    "dm.remove_bio_co2_recipe()\n",
    "dm.add_new_biosphere_activities(bw_project, path)"
   ]
  }
 ],
 "metadata": {
  "kernelspec": {
   "display_name": "Python 3",
   "language": "python",
   "name": "python3"
  },
  "language_info": {
   "codemirror_mode": {
    "name": "ipython",
    "version": 3
   },
   "file_extension": ".py",
   "mimetype": "text/x-python",
   "name": "python",
   "nbconvert_exporter": "python",
   "pygments_lexer": "ipython3",
   "version": "3.11.9"
  }
 },
 "nbformat": 4,
 "nbformat_minor": 2
}
