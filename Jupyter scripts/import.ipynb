{
 "cells": [
  {
   "cell_type": "code",
   "execution_count": null,
   "metadata": {},
   "outputs": [],
   "source": [
    "path = r'C:/Users/ruw/Desktop'\n",
    "import sys # https://stackoverflow.com/questions/4383571/importing-files-from-different-folder\n",
    "sys.path.insert(1, rf'{path}\\RA\\penicilin\\Libaries')"
   ]
  },
  {
   "cell_type": "code",
   "execution_count": null,
   "metadata": {},
   "outputs": [],
   "source": [
    "import reload_lib as rl\n",
    "import database_manipulation as dm"
   ]
  },
  {
   "cell_type": "code",
   "execution_count": null,
   "metadata": {},
   "outputs": [
    {
     "name": "stdout",
     "output_type": "stream",
     "text": [
      "Warning: [<module 'life_cycle_assessment' from 'C:\\\\Users\\\\ruw\\\\Desktop\\\\RA\\\\penicilin\\\\Libaries\\\\life_cycle_assessment.py'>, <module 'lcia_results' from 'C:\\\\Users\\\\ruw\\\\Desktop\\\\RA\\\\penicilin\\\\Libaries\\\\lcia_results.py'>, <module 'standards' from 'C:\\\\Users\\\\ruw\\\\Desktop\\\\RA\\\\penicilin\\\\Libaries\\\\standards.py'>, <module 'results_figures' from 'C:\\\\Users\\\\ruw\\\\Desktop\\\\RA\\\\penicilin\\\\Libaries\\\\results_figures.py'>, <module 'sensitivity' from 'C:\\\\Users\\\\ruw\\\\Desktop\\\\RA\\\\penicilin\\\\Libaries\\\\sensitivity.py'>, <module 'database_manipulation' from 'C:\\\\Users/ruw/Desktop\\\\RA\\\\penicilin\\\\Libaries\\\\database_manipulation.py'>, <module 'reload_lib' from 'C:\\\\Users\\\\ruw\\\\Desktop\\\\RA\\\\penicilin\\\\Libaries\\\\reload_lib.py'>] is not a module or a list of modules and cannot be reloaded.\n",
      "Biosphere is already present in the project.\n",
      "Ecoinvent 3.9.1 is already present in the project.\n",
      "You selected to not reload\n",
      "P-chlorophenoxyacetic acid is present in biosphere3\n",
      "Phenylacetic acid is present in biosphere3\n",
      "No update needed for ecotoxicity: freshwater\n",
      "No update needed for ecotoxicity: marine\n",
      "No update needed for ecotoxicity: terrestrial\n",
      "No update needed for total: ecosystem quality\n"
     ]
    }
   ],
   "source": [
    "rl.reload_lib(dm)\n",
    "\n",
    "bw_project = \"Peniciliin\"\n",
    "matching_database = \"ev391consq\"\n",
    "\n",
    "dm.database_setup(path, matching_database, bw_project, 'penicillin')\n",
    "dm.remove_bio_co2_recipe()\n",
    "dm.add_new_biosphere_activities(bw_project, path)"
   ]
  }
 ],
 "metadata": {
  "kernelspec": {
   "display_name": "Python 3",
   "language": "python",
   "name": "python3"
  },
  "language_info": {
   "codemirror_mode": {
    "name": "ipython",
    "version": 3
   },
   "file_extension": ".py",
   "mimetype": "text/x-python",
   "name": "python",
   "nbconvert_exporter": "python",
   "pygments_lexer": "ipython3",
   "version": "3.11.9"
  }
 },
 "nbformat": 4,
 "nbformat_minor": 2
}
