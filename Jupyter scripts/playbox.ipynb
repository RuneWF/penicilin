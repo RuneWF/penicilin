{
 "cells": [
  {
   "cell_type": "code",
   "execution_count": null,
   "id": "6398fc91",
   "metadata": {},
   "outputs": [],
   "source": [
    "from pathlib import Path\n",
    "desktop_path = Path.home() / \"Desktop\"\n",
    "import sys # https://stackoverflow.com/questions/4383571/importing-files-from-different-folder\n",
    "sys.path.insert(1, rf'{desktop_path}\\RA\\penicilin\\Libaries')\n",
    "\n",
    "import main as m\n"
   ]
  },
  {
   "cell_type": "code",
   "execution_count": null,
   "id": "6d35df85",
   "metadata": {},
   "outputs": [],
   "source": [
    "from reload_lib import reload_lib as rl\n"
   ]
  },
  {
   "cell_type": "code",
   "execution_count": 1,
   "id": "302bd06a",
   "metadata": {},
   "outputs": [],
   "source": [
    "import pandas as pd\n",
    "\n"
   ]
  },
  {
   "cell_type": "code",
   "execution_count": 4,
   "id": "b5a5726a",
   "metadata": {},
   "outputs": [],
   "source": [
    "init = m.main()\n",
    "pen_cf_path = Path.joinpath(init.path_github, \"data\", r\"penicillin_impact_factors.xlsx\")"
   ]
  },
  {
   "cell_type": "code",
   "execution_count": 29,
   "id": "9f62b998",
   "metadata": {},
   "outputs": [],
   "source": [
    "\n",
    "import re\n",
    "\n",
    "def extract_unique_citations(file_path):\n",
    "    with open(file_path, 'r', encoding='utf-8') as f:\n",
    "        text = f.read()\n",
    "\n",
    "    # Regex to match \\cite{...} and \\pcite{...}\n",
    "    pattern = r'\\\\(?:p)?cite\\{(.*?)\\}'\n",
    "    matches = re.findall(pattern, text)\n",
    "\n",
    "    # Split multiple citations within one command (e.g., \\cite{ref1,ref2})\n",
    "    all_citations = []\n",
    "    for match in matches:\n",
    "        all_citations.extend([entry.strip() for entry in match.split(',')])\n",
    "\n",
    "    # Get unique entries\n",
    "    unique_citations = list(set(all_citations))\n",
    "    return unique_citations\n"
   ]
  },
  {
   "cell_type": "code",
   "execution_count": null,
   "id": "40cf9c00",
   "metadata": {},
   "outputs": [
    {
     "data": {
      "text/plain": [
       "66"
      ]
     },
     "execution_count": 30,
     "metadata": {},
     "output_type": "execute_result"
    }
   ],
   "source": [
    "file_path = r\"C:\\Users\\ruw\\Desktop\\RA\\penicillin_results\\manuscript.txt\"\n",
    "\n",
    "unique_citations = extract_unique_citations(file_path)\n",
    "len(unique_citations)"
   ]
  },
  {
   "cell_type": "code",
   "execution_count": 41,
   "id": "25d42aa2",
   "metadata": {},
   "outputs": [
    {
     "name": "stdout",
     "output_type": "stream",
     "text": [
      "ARUP2019HEALTHFOOTPRINT\n",
      "Berenjian2019LearningTechnology\n",
      "penVmedicinDK\n",
      "Baehr2023LifePractices\n",
      "healthcareLCA\n",
      "Rowe2009HandbookExcipients\n",
      "EuropeanCentreforDiseasePreventionandControlFactsResistance\n",
      "Armstrong2022ChinaMarket\n",
      "ecoinvent2023Ecoinvent3.9.1\n",
      "emara2019\n",
      "Kaasch2024EfficacyTrial\n",
      "Mertz2009OutcomesWards\n",
      "Steenmeijer2022TheAnalysis\n",
      "PyPI2024Brightway22.4.7\n",
      "Kasper2025LossesWaste\n",
      "Lim2009British2009\n",
      "nyberg2021\n",
      "RADS2016BaggrundsnotatHospital\n",
      "PharmaceuticalEnvironmentGroupPharmaTaskforce.\n",
      "harding2018\n",
      "Nelson1955TheProcess\n",
      "RegionSjlland2022PneumoniAf\n",
      "ISO2006ISO14044:2006enGuidelines\n",
      "Deepak2022LifeImpacts\n",
      "Perlman1950SomeProduction\n",
      "Aboltins2015OralTrial\n",
      "RIVM.DownloadsRIVM\n",
      "Workman2024TopCountry\n",
      "GreenhouseGasProtocolWorldDevelopment.\n",
      "StaunstrupKLINISKRISIKOAFFALD\n",
      "Hickey2019InternationalFootprints\n",
      "AmgrosAmgros\n",
      "Vidal2013OralPatients\n",
      "WorldHealthOrganizationCommitmentsHealth\n",
      "Bassani2022LifePackaging\n",
      "Harding2008ALCA\n",
      "Mohamud2024PostoperativeStudy\n",
      "Li2019OralInfection\n",
      "belboom2011\n",
      "Harding2018GenericProduction\n",
      "SomuncuJohansen2023PneumoniMedicin.dk\n",
      "Davies2024EnvironmentalAssessment\n",
      "Rodriguez-Pardo2016EffectivenessStudy\n",
      "Heinzle2006DevelopmentAssessment\n",
      "satta2024\n",
      "Madhusudhanan2017OptimizationPlant\n",
      "Gallagher2023SwitchingInfections\n",
      "Rizan2024PurposeHealthcare\n",
      "Siegert2019HarmonizedProcesses\n",
      "DanskLungemedicinskSelskab2025NationalUdgave\n",
      "ortiz2017\n",
      "Chan1995OralTrial\n",
      "Lode2002OralTolerability\n",
      "WorldIntegratedTradeSolutionOther2023\n",
      "Gasparetto2019Intravenous-to-oralUnits\n",
      "Iversen2019PartialEndocarditis\n",
      "Ekvall2004SystemAnalysis\n",
      "Duffy2023SustainableDepartment\n",
      "Tingsgard2024EarlyBacteremia\n",
      "Eckelman2016EnvironmentalHealth\n",
      "Kalbermatter2000OralHospitalization\n",
      "Dinh2024ExclusiveTrial\n",
      "Drew2022HealthcareLCA:Assessments\n",
      "Lenzen2020TheAssessment\n",
      "ISO2006ISO14040:2006enFramework\n",
      "HagensMygind2024SamfundserhvervetVoksne\n"
     ]
    }
   ],
   "source": [
    "for x in unique_citations:\n",
    "    print(x)"
   ]
  },
  {
   "cell_type": "code",
   "execution_count": 45,
   "id": "cf78a441",
   "metadata": {},
   "outputs": [],
   "source": [
    "import re\n",
    "\n",
    "def extract_relevant_bib_entries(bib_file_path, citation_keys):\n",
    "    with open(bib_file_path, 'r', encoding='utf-8') as f:\n",
    "        bib_content = f.read()\n",
    "\n",
    "    # Regex to match full BibTeX entries\n",
    "    entry_pattern = r'@[\\w]+\\{[^}]*\\}'\n",
    "    all_entries = re.findall(entry_pattern, bib_content, re.DOTALL)\n",
    "\n",
    "    matched_entries = {}\n",
    "\n",
    "    for entry in all_entries:\n",
    "        # Extract the key from the entry\n",
    "        key_match = re.match(r'@[\\w]+\\{([^,]+),', entry)\n",
    "        if key_match:\n",
    "            key = key_match.group(1).strip()\n",
    "            if key in citation_keys:\n",
    "                matched_entries[key] = entry\n",
    "\n",
    "    return matched_entries"
   ]
  },
  {
   "cell_type": "code",
   "execution_count": 46,
   "id": "8f0e8ca4",
   "metadata": {},
   "outputs": [
    {
     "data": {
      "text/plain": [
       "66"
      ]
     },
     "execution_count": 46,
     "metadata": {},
     "output_type": "execute_result"
    }
   ],
   "source": [
    "bib_file_path = r\"C:\\Users\\ruw\\Downloads\\penicillin.bib\"\n",
    "\n",
    "matched_entries = extract_relevant_bib_entries(bib_file_path, unique_citations)\n",
    "len(matched_entries)"
   ]
  },
  {
   "cell_type": "code",
   "execution_count": null,
   "id": "48b92118",
   "metadata": {},
   "outputs": [],
   "source": [
    "\n",
    "def save_bib_entries(matched_entries, output_file_path):\n",
    "    with open(output_file_path, 'w', encoding='utf-8') as f:\n",
    "        for entry in matched_entries.values():\n",
    "            f.write(entry.strip() + '\\n\\n')\n"
   ]
  },
  {
   "cell_type": "code",
   "execution_count": 50,
   "id": "9a4bb62d",
   "metadata": {},
   "outputs": [],
   "source": [
    "bib_file_path_unq = r\"C:\\Users\\ruw\\Downloads\\penicillin_unq.bib\"\n",
    "save_bib_entries(matched_entries, bib_file_path_unq)"
   ]
  },
  {
   "cell_type": "code",
   "execution_count": 52,
   "id": "d15b98b9",
   "metadata": {},
   "outputs": [],
   "source": [
    "import re\n",
    "\n",
    "def extract_unique_citations(txt_file_path):\n",
    "    with open(txt_file_path, 'r', encoding='utf-8') as f:\n",
    "        text = f.read()\n",
    "\n",
    "    # Match \\cite{...} and \\pcite{...}\n",
    "    pattern = r'\\\\(?:p)?cite\\{(.*?)\\}'\n",
    "    matches = re.findall(pattern, text)\n",
    "\n",
    "    # Split multiple citations within one command\n",
    "    all_citations = []\n",
    "    for match in matches:\n",
    "        all_citations.extend([entry.strip() for entry in match.split(',')])\n",
    "\n",
    "    return set(all_citations)\n",
    "\n",
    "def extract_relevant_bib_entries(bib_file_path, citation_keys):\n",
    "    with open(bib_file_path, 'r', encoding='utf-8') as f:\n",
    "        bib_content = f.read()\n",
    "\n",
    "    # Match all BibTeX entries of any type\n",
    "    entry_pattern = r'@[\\w]+\\{[^@]*?\\n\\}'\n",
    "    all_entries = re.findall(entry_pattern, bib_content, re.DOTALL)\n",
    "\n",
    "    matched_entries = {}\n",
    "    for entry in all_entries:\n",
    "        key_match = re.match(r'@[\\w]+\\{([^,]+),', entry)\n",
    "        if key_match:\n",
    "            key = key_match.group(1).strip()\n",
    "            if key in citation_keys:\n",
    "                matched_entries[key] = entry\n",
    "\n",
    "    return matched_entries\n",
    "\n",
    "def save_bib_entries(matched_entries, output_file_path):\n",
    "    with open(output_file_path, 'w', encoding='utf-8') as f:\n",
    "        for entry in matched_entries.values():\n",
    "            f.write(entry.strip() + '\\n\\n')\n",
    "\n",
    "# Example usage\n",
    "txt_file = r\"C:\\Users\\ruw\\Desktop\\RA\\penicillin_results\\manuscript.txt\"\n",
    "bib_file = r\"C:\\Users\\ruw\\Downloads\\penicillin.bib\"\n",
    "output_file = r\"C:\\Users\\ruw\\Downloads\\penicillin_unq.bib\"\n",
    "\n",
    "citation_keys = extract_unique_citations(txt_file)\n",
    "matched_entries = extract_relevant_bib_entries(bib_file, citation_keys)\n",
    "save_bib_entries(matched_entries, output_file)\n"
   ]
  },
  {
   "cell_type": "code",
   "execution_count": null,
   "id": "61c3021f",
   "metadata": {},
   "outputs": [
    {
     "data": {
      "text/plain": [
       "193"
      ]
     },
     "execution_count": 44,
     "metadata": {},
     "output_type": "execute_result"
    }
   ],
   "source": [
    "with open(bib_file_path, 'r', encoding='utf-8') as f:\n",
    "        bib_content = f.read()\n",
    "\n",
    "entry_pattern = r'@[\\w]+\\{[^}]*\\}'\n",
    "all_entries = re.findall(entry_pattern, bib_content, re.DOTALL)\n"
   ]
  },
  {
   "cell_type": "code",
   "execution_count": 51,
   "id": "dd306d1c",
   "metadata": {},
   "outputs": [
    {
     "data": {
      "text/plain": [
       "['@techreport{ARUP2019HEALTHFOOTPRINT,\\n    title = {{HEALTH CARE’S CLIMATE FOOTPRINT}',\n",
       " '@techreport{Berenjian2019LearningTechnology,\\n    title = {{Learning Materials in Biosciences Essentials in Fermentation Technology}',\n",
       " '@misc{penVmedicinDK,\\n    title = {{Phenoxymethylpenicillinkalium \"EQL Pharma\" - information til sundhedsfaglige - Medicin.dk}',\n",
       " '@article{Baehr2023LifePractices,\\n    title = {{Life cycle assessment of pharmaceutical and clinical packaging required for medication administration practices}',\n",
       " '@misc{healthcareLCA,\\n    title = {{HealthcareLCA database}',\n",
       " '@article{Drew2022HealthcareLCA:Assessments,\\n    title = {{HealthcareLCA: an open-access living database of health-care environmental impact assessments}',\n",
       " '@techreport{Rowe2009HandbookExcipients,\\n    title = {{Handbook of Pharmaceutical Excipients}',\n",
       " '@misc{EuropeanCentreforDiseasePreventionandControlFactsResistance,\\n    title = {{Facts about antimicrobial resistance}',\n",
       " '@misc{Armstrong2022ChinaMarket,\\n    title = {{China Dominates the Antibiotics Market}',\n",
       " '@misc{ecoinvent2023Ecoinvent3.9.1,\\n    title = {{ecoinvent Version 3.9.1}',\n",
       " '@article{emara2019,\\n    title = {{Modeling pharmaceutical emissions and their toxicity-related effects in life cycle assessment (LCA): A review}',\n",
       " '@article{Kaasch2024EfficacyTrial,\\n    title = {{Efficacy and safety of an early oral switch in low-risk Staphylococcus aureus bloodstream infection (SABATO): an international, open-label, parallel-group, randomised, controlled, non-inferiority trial}',\n",
       " '@article{Mertz2009OutcomesWards,\\n    title = {{Outcomes of early switching from intravenous to oral antibiotics on medical wards}',\n",
       " '@article{Steenmeijer2022TheAnalysis,\\n    title = {{The environmental impact of the Dutch health-care sector beyond climate change: an input–output analysis}',\n",
       " '@misc{PyPI2024Brightway22.4.7,\\n    title = {{brightway2 2.4.7}',\n",
       " '@article{Kasper2025LossesWaste,\\n    title = {{Losses and emissions in polypropylene recycling from household packaging waste}',\n",
       " '@article{Lim2009British2009,\\n    title = {{British Thoracic Society guidelines for the management of community acquired pneumonia in adults: Update 2009}',\n",
       " '@article{nyberg2021,\\n    title = {{Characterizing antibiotics in LCA—a review of current practices and proposed novel approaches for including resistance}',\n",
       " '@article{Nyberg2021Correction10.1007/s11367-021-01908-y,\\n    title = {{Correction to: Characterizing antibiotics in LCA—a review of current practices and proposed novel approaches for including resistance (The International Journal of Life Cycle Assessment, (2021), 26, 9, (1816-1831), 10.1007/s11367-021-01908-y)}',\n",
       " '@misc{RADS2016BaggrundsnotatHospital,\\n    title = {{Baggrundsnotat for hensigtsm{\\\\ae}',\n",
       " '@misc{PharmaceuticalEnvironmentGroupPharmaTaskforce.,\\n    title = {{Pharma LCA consortium. Pharmaceutical Environment Group and the Sustainable Markets Initiative Health Systems Taskforce.}',\n",
       " '@article{harding2018,\\n    title = {{Generic flowsheeting approach to generating first estimate material and energy balance data for Life Cycle Assessment (LCA) of Penicillin V production}',\n",
       " '@article{Harding2018GenericProduction,\\n    title = {{Generic flowsheeting approach to generating first estimate material and energy balance data for Life Cycle Assessment (LCA) of Penicillin V production}',\n",
       " '@article{Harding2018GenericProductionb,\\n    title = {{Generic flowsheeting approach to generating first estimate material and energy balance data for Life Cycle Assessment (LCA) of Penicillin V production}',\n",
       " '@article{Nelson1955TheProcess,\\n    title = {{The physics of tablet compression. VII. Determination of energy expenditure in the tablet compression process}',\n",
       " '@misc{RegionSjlland2022PneumoniAf,\\n    title = {{Pneumoni hos voksne, diagnostik og behandling af}',\n",
       " '@misc{ISO2006ISO14044:2006enGuidelines,\\n    title = {{ISO\\xa014044:2006(en), Environmental management\\xa0— Life cycle assessment\\xa0— Requirements and guidelines}',\n",
       " '@article{Deepak2022LifeImpacts,\\n    title = {{Life cycle assessment of biomedical waste management for reduced environmental impacts}',\n",
       " '@article{Deepak2022LifeImpactsb,\\n    title = {{Life cycle assessment of biomedical waste management for reduced environmental impacts}',\n",
       " '@article{Perlman1950SomeProduction,\\n    title = {{Some mycological aspects of penicillin production}',\n",
       " '@article{Aboltins2015OralTrial,\\n    title = {{Oral versus parenteral antimicrobials for the treatment of cellulitis: a randomized non-inferiority trial}',\n",
       " '@misc{RIVM.DownloadsRIVM,\\n    title = {{Downloads | RIVM}',\n",
       " '@misc{Workman2024TopCountry,\\n    title = {{Top Antibiotics Exporters by Country}',\n",
       " '@misc{GreenhouseGasProtocolWorldDevelopment.,\\n    title = {{World Resource Institute {\\\\&}',\n",
       " '@article{StaunstrupKLINISKRISIKOAFFALD,\\n    title = {{KLINISK RISIKOAFFALD}',\n",
       " '@article{Hickey2019InternationalFootprints,\\n    title = {{International comparison of health care carbon footprints}',\n",
       " '@misc{AmgrosAmgros,\\n    title = {{Amgros}',\n",
       " '@article{Vidal2013OralPatients,\\n    title = {{Oral versus intravenous antibiotic treatment for febrile neutropenia in cancer patients}',\n",
       " '@misc{WorldHealthOrganizationCommitmentsHealth,\\n    title = {{Commitments to climate change and health}',\n",
       " '@article{Bassani2022LifePackaging,\\n    title = {{Life cycle assessment of pharmaceutical packaging}',\n",
       " '@techreport{Harding2008ALCA,\\n    title = {{A Generic Approach to Environmental Assessment of Microbial Bioprocesses through Life Cycle Assessment (LCA)}',\n",
       " '@article{Mohamud2024PostoperativeStudy,\\n    title = {{Postoperative recovery in peroral versus intravenous antibiotic treatment following laparoscopic appendectomy for complicated appendicitis: a substudy of a cluster randomized cluster crossover non-inferiority study}',\n",
       " '@article{Li2019OralInfection,\\n    title = {{Oral versus Intravenous Antibiotics for Bone and Joint Infection}',\n",
       " '@article{belboom2011,\\n    title = {{A life cycle assessment of injectable drug primary packaging: comparing the traditional process in glass vials with the closed vial technology (polymer vials)}',\n",
       " '@article{Harding2018GenericProduction,\\n    title = {{Generic flowsheeting approach to generating first estimate material and energy balance data for Life Cycle Assessment (LCA) of Penicillin V production}',\n",
       " '@article{Harding2018GenericProductionb,\\n    title = {{Generic flowsheeting approach to generating first estimate material and energy balance data for Life Cycle Assessment (LCA) of Penicillin V production}',\n",
       " '@misc{SomuncuJohansen2023PneumoniMedicin.dk,\\n    title = {{Pneumoni - information til sundhedsfaglige - Medicin.dk}',\n",
       " '@article{Davies2024EnvironmentalAssessment,\\n    title = {{Environmental and financial impacts of perioperative paracetamol use: a multicentre international life-cycle assessment}',\n",
       " '@article{Rodriguez-Pardo2016EffectivenessStudy,\\n    title = {{Effectiveness of sequential intravenous-to-oral antibiotic switch therapy in hospitalized patients with gram-positive infection: the SEQUENCE cohort study}',\n",
       " '@techreport{Heinzle2006DevelopmentAssessment,\\n    title = {{Development of Sustainable Bioprocesses : Modeling and Assessment}',\n",
       " '@article{satta2024,\\n    title = {{Advantages and drawbacks of life cycle assessment application to the pharmaceuticals: a short critical literature review}',\n",
       " '@article{Madhusudhanan2017OptimizationPlant,\\n    title = {{Optimization of phenyl acetic acid concentration during the growth phase of Penicillin-G production in pilot plant}',\n",
       " '@article{Gallagher2023SwitchingInfections,\\n    title = {{Switching from intravenous vancomycin to oral antibiotics reduces adverse events in a retrospective cohort of outpatients with orthopedic infections}',\n",
       " '@article{Rizan2024PurposeHealthcare,\\n    title = {{Purpose and limitations of carbon footprinting for healthcare}',\n",
       " '@article{Siegert2019HarmonizedProcesses,\\n    title = {{Harmonized rules for future LCAs on pharmaceutical products and processes}',\n",
       " '@techreport{DanskLungemedicinskSelskab2025NationalUdgave,\\n    title = {{National retningslinje for h{\\\\aa}',\n",
       " '@article{ortiz2017,\\n    title = {{The potential ecotoxicological impact of pharmaceutical and personal care products on humans and freshwater, based on USEtox™ characterization factors. A Spanish case study of toxicity impact scores}',\n",
       " '@article{Chan1995OralTrial,\\n    title = {{Oral versus intravenous antibiotics for community acquired lower respiratory tract infection in a general hospital: open, randomised controlled trial}',\n",
       " '@article{Lode2002OralTolerability,\\n    title = {{Oral gemifloxacin versus sequential therapy with intravenous ceftriaxone/oral cefuroxime with or without a macrolide in the treatment of patients hospitalized with community-acquired pneumonia: a randomized, open-label, multicenter study of clinical efficacy and tolerability}',\n",
       " '@misc{WorldIntegratedTradeSolutionOther2023,\\n    title = {{Other antibiotics, nes exports by country in 2023}',\n",
       " '@article{Gasparetto2019Intravenous-to-oralUnits,\\n    title = {{Intravenous-to-oral antibiotic switch therapy: a cross-sectional study in critical care units}',\n",
       " '@article{Iversen2019PartialEndocarditis,\\n    title = {{Partial Oral versus Intravenous Antibiotic Treatment of Endocarditis}',\n",
       " '@article{Ekvall2004SystemAnalysis,\\n    title = {{System boundaries and input data in consequential life cycle inventory analysis}',\n",
       " '@article{Duffy2023SustainableDepartment,\\n    title = {{Sustainable Purchasing Practices: A Comparison of Single-use and Reusable Pulse Oximeters in the Emergency Department}',\n",
       " '@article{Tingsgard2024EarlyBacteremia,\\n    title = {{Early Switch From Intravenous to Oral Antibiotics for Patients With Uncomplicated Gram-Negative Bacteremia}',\n",
       " '@article{Eckelman2016EnvironmentalHealth,\\n    title = {{Environmental Impacts of the U.S. Health Care System and Effects on Public Health}',\n",
       " '@article{Kalbermatter2000OralHospitalization,\\n    title = {{[Oral levofloxacin versus intravenous ceftriaxone and amoxicillin/clavulanic acid in the treatment of community-acquired pneumonia that requires hospitalization]}',\n",
       " '@article{Dinh2024ExclusiveTrial,\\n    title = {{Exclusive oral antibiotic treatment for hospitalized community-acquired pneumonia: a post-hoc analysis of a randomized clinical trial}',\n",
       " '@article{Drew2022HealthcareLCA:Assessments,\\n    title = {{HealthcareLCA: an open-access living database of health-care environmental impact assessments}',\n",
       " '@article{Lenzen2020TheAssessment,\\n    title = {{The environmental footprint of health care: a global assessment}',\n",
       " '@misc{ISO2006ISO14040:2006enFramework,\\n    title = {{ISO\\xa014040:2006(en), Environmental management\\xa0— Life cycle assessment\\xa0— Principles and framework}',\n",
       " '@misc{HagensMygind2024SamfundserhvervetVoksne,\\n    title = {{Samfundserhvervet pneumoni hos voksne}']"
      ]
     },
     "execution_count": 51,
     "metadata": {},
     "output_type": "execute_result"
    }
   ],
   "source": [
    "unique_entries = []\n",
    "for citaion_key in unique_citations:\n",
    "    for entry in all_entries:\n",
    "        if citaion_key.lower() in entry.lower():\n",
    "            unique_entries.append(entry)\n",
    "\n",
    "unique_entries"
   ]
  }
 ],
 "metadata": {
  "kernelspec": {
   "display_name": "Python 3",
   "language": "python",
   "name": "python3"
  },
  "language_info": {
   "codemirror_mode": {
    "name": "ipython",
    "version": 3
   },
   "file_extension": ".py",
   "mimetype": "text/x-python",
   "name": "python",
   "nbconvert_exporter": "python",
   "pygments_lexer": "ipython3",
   "version": "3.11.9"
  }
 },
 "nbformat": 4,
 "nbformat_minor": 5
}
