{
 "cells": [
  {
   "cell_type": "code",
   "execution_count": 1,
   "id": "271e038b",
   "metadata": {},
   "outputs": [],
   "source": [
    "from pathlib import Path\n",
    "desktop_path = Path.home() / \"Desktop\"\n",
    "import sys # https://stackoverflow.com/questions/4383571/importing-files-from-different-folder\n",
    "sys.path.insert(1, rf'{desktop_path}\\RA\\penicilin\\Libaries')\n",
    "\n",
    "import reload_lib as rl\n",
    "\n",
    "import main as m\n",
    "from results_figures import *\n",
    "\n",
    "# from main import main as m\n",
    "rl.reload_lib(m)"
   ]
  },
  {
   "cell_type": "code",
   "execution_count": 2,
   "id": "302bd06a",
   "metadata": {},
   "outputs": [],
   "source": [
    "import pandas as pd\n",
    "import numpy as np\n",
    "from pathlib import Path"
   ]
  },
  {
   "cell_type": "code",
   "execution_count": 3,
   "id": "36c0ba49",
   "metadata": {},
   "outputs": [],
   "source": [
    "rl.reload_lib(m)\n",
    "init = m.main()"
   ]
  },
  {
   "cell_type": "code",
   "execution_count": 4,
   "id": "e0113c7f",
   "metadata": {},
   "outputs": [
    {
     "data": {
      "text/plain": [
       "WindowsPath('c:/Users/ruw/Desktop/RA/penicilin/data/LCI_tables.xlsx')"
      ]
     },
     "execution_count": 4,
     "metadata": {},
     "output_type": "execute_result"
    }
   ],
   "source": [
    "lci_table_path = init.lci_table_path\n",
    "lci_table_path"
   ]
  },
  {
   "cell_type": "code",
   "execution_count": 5,
   "id": "bd669aae",
   "metadata": {},
   "outputs": [],
   "source": [
    "df = pd.read_excel(lci_table_path)\n"
   ]
  },
  {
   "cell_type": "code",
   "execution_count": 7,
   "id": "3b18c270",
   "metadata": {},
   "outputs": [
    {
     "data": {
      "application/vnd.microsoft.datawrangler.viewer.v0+json": {
       "columns": [
        {
         "name": "index",
         "rawType": "int64",
         "type": "integer"
        },
        {
         "name": "Reference Flow",
         "rawType": "object",
         "type": "string"
        },
        {
         "name": "Amount",
         "rawType": "float64",
         "type": "float"
        },
        {
         "name": "Unit",
         "rawType": "object",
         "type": "unknown"
        },
        {
         "name": "Provider",
         "rawType": "object",
         "type": "unknown"
        }
       ],
       "ref": "4bd40f4e-10bf-43b0-bc6a-3a7eead47af6",
       "rows": [
        [
         "0",
         "glass vial",
         "1.0",
         "unit",
         "production of glass vial"
        ],
        [
         "1",
         "Input",
         null,
         null,
         null
        ],
        [
         "2",
         "packaging glass, white",
         "0.009333333333333334",
         "kilogram",
         "market for packaging glass, white | GLO"
        ],
        [
         "3",
         "oxygen, liquid",
         "0.002645833333333333",
         "kilogram",
         "market for oxygen, liquid | RoW"
        ],
        [
         "4",
         "heat, district or industrial, natural gas",
         "0.1083333333333333",
         "megajoule",
         "market for heat, district or industrial, natural gas | RoW"
        ],
        [
         "5",
         "polyethylene, high density, granulate",
         "0.0005030181086519115",
         "kilogram",
         "market for polyethylene, high density, granulate | GLO"
        ],
        [
         "6",
         "aluminium, cast alloy",
         "0.0004583333333333333",
         "kilogram",
         "market for aluminium, cast alloy | GLO"
        ],
        [
         "7",
         "synthetic rubber",
         "0.001047954393024816",
         "kilogram",
         "market for synthetic rubber | GLO"
        ],
        [
         "8",
         "polyethylene, low density, granulate",
         "0.0002724681421864521",
         "kilogram",
         "market for polyethylene, low density, granulate | GLO"
        ],
        [
         "9",
         "injection moulding",
         "0.0018125",
         "kilogram",
         "injection moulding | RoW"
        ],
        [
         "10",
         "sheet rolling, aluminium",
         "0.0004583333333333333",
         "kilogram",
         "sheet rolling, aluminium | RoW"
        ]
       ],
       "shape": {
        "columns": 4,
        "rows": 11
       }
      },
      "text/html": [
       "<div>\n",
       "<style scoped>\n",
       "    .dataframe tbody tr th:only-of-type {\n",
       "        vertical-align: middle;\n",
       "    }\n",
       "\n",
       "    .dataframe tbody tr th {\n",
       "        vertical-align: top;\n",
       "    }\n",
       "\n",
       "    .dataframe thead th {\n",
       "        text-align: right;\n",
       "    }\n",
       "</style>\n",
       "<table border=\"1\" class=\"dataframe\">\n",
       "  <thead>\n",
       "    <tr style=\"text-align: right;\">\n",
       "      <th></th>\n",
       "      <th>Reference Flow</th>\n",
       "      <th>Amount</th>\n",
       "      <th>Unit</th>\n",
       "      <th>Provider</th>\n",
       "    </tr>\n",
       "  </thead>\n",
       "  <tbody>\n",
       "    <tr>\n",
       "      <th>0</th>\n",
       "      <td>glass vial</td>\n",
       "      <td>1.000000</td>\n",
       "      <td>unit</td>\n",
       "      <td>production of glass vial</td>\n",
       "    </tr>\n",
       "    <tr>\n",
       "      <th>1</th>\n",
       "      <td>Input</td>\n",
       "      <td>NaN</td>\n",
       "      <td>NaN</td>\n",
       "      <td>NaN</td>\n",
       "    </tr>\n",
       "    <tr>\n",
       "      <th>2</th>\n",
       "      <td>packaging glass, white</td>\n",
       "      <td>0.009333</td>\n",
       "      <td>kilogram</td>\n",
       "      <td>market for packaging glass, white | GLO</td>\n",
       "    </tr>\n",
       "    <tr>\n",
       "      <th>3</th>\n",
       "      <td>oxygen, liquid</td>\n",
       "      <td>0.002646</td>\n",
       "      <td>kilogram</td>\n",
       "      <td>market for oxygen, liquid | RoW</td>\n",
       "    </tr>\n",
       "    <tr>\n",
       "      <th>4</th>\n",
       "      <td>heat, district or industrial, natural gas</td>\n",
       "      <td>0.108333</td>\n",
       "      <td>megajoule</td>\n",
       "      <td>market for heat, district or industrial, natur...</td>\n",
       "    </tr>\n",
       "    <tr>\n",
       "      <th>5</th>\n",
       "      <td>polyethylene, high density, granulate</td>\n",
       "      <td>0.000503</td>\n",
       "      <td>kilogram</td>\n",
       "      <td>market for polyethylene, high density, granula...</td>\n",
       "    </tr>\n",
       "    <tr>\n",
       "      <th>6</th>\n",
       "      <td>aluminium, cast alloy</td>\n",
       "      <td>0.000458</td>\n",
       "      <td>kilogram</td>\n",
       "      <td>market for aluminium, cast alloy | GLO</td>\n",
       "    </tr>\n",
       "    <tr>\n",
       "      <th>7</th>\n",
       "      <td>synthetic rubber</td>\n",
       "      <td>0.001048</td>\n",
       "      <td>kilogram</td>\n",
       "      <td>market for synthetic rubber | GLO</td>\n",
       "    </tr>\n",
       "    <tr>\n",
       "      <th>8</th>\n",
       "      <td>polyethylene, low density, granulate</td>\n",
       "      <td>0.000272</td>\n",
       "      <td>kilogram</td>\n",
       "      <td>market for polyethylene, low density, granulat...</td>\n",
       "    </tr>\n",
       "    <tr>\n",
       "      <th>9</th>\n",
       "      <td>injection moulding</td>\n",
       "      <td>0.001813</td>\n",
       "      <td>kilogram</td>\n",
       "      <td>injection moulding | RoW</td>\n",
       "    </tr>\n",
       "    <tr>\n",
       "      <th>10</th>\n",
       "      <td>sheet rolling, aluminium</td>\n",
       "      <td>0.000458</td>\n",
       "      <td>kilogram</td>\n",
       "      <td>sheet rolling, aluminium | RoW</td>\n",
       "    </tr>\n",
       "  </tbody>\n",
       "</table>\n",
       "</div>"
      ],
      "text/plain": [
       "                               Reference Flow    Amount       Unit  \\\n",
       "0                                  glass vial  1.000000       unit   \n",
       "1                                       Input       NaN        NaN   \n",
       "2                      packaging glass, white  0.009333   kilogram   \n",
       "3                              oxygen, liquid  0.002646   kilogram   \n",
       "4   heat, district or industrial, natural gas  0.108333  megajoule   \n",
       "5       polyethylene, high density, granulate  0.000503   kilogram   \n",
       "6                       aluminium, cast alloy  0.000458   kilogram   \n",
       "7                            synthetic rubber  0.001048   kilogram   \n",
       "8        polyethylene, low density, granulate  0.000272   kilogram   \n",
       "9                          injection moulding  0.001813   kilogram   \n",
       "10                   sheet rolling, aluminium  0.000458   kilogram   \n",
       "\n",
       "                                             Provider  \n",
       "0                            production of glass vial  \n",
       "1                                                 NaN  \n",
       "2             market for packaging glass, white | GLO  \n",
       "3                     market for oxygen, liquid | RoW  \n",
       "4   market for heat, district or industrial, natur...  \n",
       "5   market for polyethylene, high density, granula...  \n",
       "6              market for aluminium, cast alloy | GLO  \n",
       "7                   market for synthetic rubber | GLO  \n",
       "8   market for polyethylene, low density, granulat...  \n",
       "9                            injection moulding | RoW  \n",
       "10                     sheet rolling, aluminium | RoW  "
      ]
     },
     "execution_count": 7,
     "metadata": {},
     "output_type": "execute_result"
    }
   ],
   "source": [
    "df"
   ]
  },
  {
   "cell_type": "code",
   "execution_count": 39,
   "id": "57ea3aa4",
   "metadata": {},
   "outputs": [
    {
     "data": {
      "text/plain": [
       "'\\\\begin{table}\\n\\\\caption{Life cycle Inveotry : production of glass vial}\\n\\\\label{tab:lci:glass vial}\\n\\\\begin{tabular}{p{5.75cm}p{1.75cm}p{1.25cm}p{6.75cm}@{}}\\n\\\\toprule\\nReference Flow & Amount & Unit & Provider \\\\\\\\\\n\\\\midrule\\nglass vial & 1.000000 & unit & production of glass vial \\\\\\\\\\nInput &  &  &  \\\\\\\\\\npackaging glass, white & 0.009333 & kilogram & market for packaging glass, white | GLO \\\\\\\\\\noxygen, liquid & 0.002646 & kilogram & market for oxygen, liquid | RoW \\\\\\\\\\nheat, district or industrial, natural gas & 0.108333 & megajoule & market for heat, district or industrial, natural gas | RoW \\\\\\\\\\npolyethylene, high density, granulate & 0.000503 & kilogram & market for polyethylene, high density, granulate | GLO \\\\\\\\\\naluminium, cast alloy & 0.000458 & kilogram & market for aluminium, cast alloy | GLO \\\\\\\\\\nsynthetic rubber & 0.001048 & kilogram & market for synthetic rubber | GLO \\\\\\\\\\npolyethylene, low density, granulate & 0.000272 & kilogram & market for polyethylene, low density, granulate | GLO \\\\\\\\\\ninjection moulding & 0.001813 & kilogram & injection moulding | RoW \\\\\\\\\\nsheet rolling, aluminium & 0.000458 & kilogram & sheet rolling, aluminium | RoW \\\\\\\\\\n\\\\bottomrule\\n\\\\end{tabular}\\n\\\\end{table}\\n'"
      ]
     },
     "execution_count": 39,
     "metadata": {},
     "output_type": "execute_result"
    }
   ],
   "source": [
    "latex_str = df.to_latex(\n",
    "    escape=False,\n",
    "    index=False,\n",
    "    column_format='p{5.75cm}p{1.75cm}p{1.25cm}p{6.75cm}@{}',\n",
    "    na_rep=\"\",\n",
    "    bold_rows=True,\n",
    "    caption=f\"Life cycle Inveotry : {df.iat[0,3]}\",\n",
    "    label=f\"tab:lci:{df.iat[0,0]}\"\n",
    ")\n",
    "latex_str"
   ]
  },
  {
   "cell_type": "code",
   "execution_count": 40,
   "id": "e507f263",
   "metadata": {},
   "outputs": [],
   "source": [
    "text_file = open(\"Output.txt\", \"w\")\n",
    "\n",
    "text_file.write(latex_str)\n",
    "\n",
    "text_file.close()"
   ]
  }
 ],
 "metadata": {
  "kernelspec": {
   "display_name": "Python 3",
   "language": "python",
   "name": "python3"
  },
  "language_info": {
   "codemirror_mode": {
    "name": "ipython",
    "version": 3
   },
   "file_extension": ".py",
   "mimetype": "text/x-python",
   "name": "python",
   "nbconvert_exporter": "python",
   "pygments_lexer": "ipython3",
   "version": "3.11.9"
  }
 },
 "nbformat": 4,
 "nbformat_minor": 5
}
