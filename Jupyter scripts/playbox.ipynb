{
 "cells": [
  {
   "cell_type": "code",
   "execution_count": 54,
   "id": "271e038b",
   "metadata": {},
   "outputs": [],
   "source": [
    "from pathlib import Path\n",
    "desktop_path = Path.home() / \"Desktop\"\n",
    "import sys # https://stackoverflow.com/questions/4383571/importing-files-from-different-folder\n",
    "sys.path.insert(1, rf'{desktop_path}\\RA\\penicilin\\Libaries')\n",
    "\n",
    "import reload_lib as rl\n",
    "\n",
    "import main as m\n",
    "from results_figures import *\n",
    "\n",
    "# from main import main as m\n",
    "rl.reload_lib(m)"
   ]
  },
  {
   "cell_type": "code",
   "execution_count": 55,
   "id": "302bd06a",
   "metadata": {},
   "outputs": [],
   "source": [
    "import pandas as pd\n",
    "import numpy as np\n",
    "from pathlib import Path"
   ]
  },
  {
   "cell_type": "code",
   "execution_count": 56,
   "id": "200377ae",
   "metadata": {},
   "outputs": [],
   "source": [
    "matching_database = \"ev391cutoff\""
   ]
  },
  {
   "cell_type": "code",
   "execution_count": 57,
   "id": "30a4410f",
   "metadata": {},
   "outputs": [],
   "source": [
    "rl.reload_lib(m)\n"
   ]
  },
  {
   "cell_type": "code",
   "execution_count": 58,
   "id": "36c0ba49",
   "metadata": {},
   "outputs": [],
   "source": [
    "rl.reload_lib(m)\n",
    "init = m.main()\n",
    "db = init.db\n",
    "# init.import_databases(reload=True)"
   ]
  },
  {
   "cell_type": "code",
   "execution_count": 48,
   "id": "31715299",
   "metadata": {},
   "outputs": [
    {
     "data": {
      "text/plain": [
       "'C:\\\\Users\\\\ruw\\\\Desktop\\\\RA\\\\penicillin_results'"
      ]
     },
     "execution_count": 48,
     "metadata": {},
     "output_type": "execute_result"
    }
   ],
   "source": [
    "init.results_path"
   ]
  },
  {
   "cell_type": "code",
   "execution_count": 46,
   "id": "6037b790",
   "metadata": {},
   "outputs": [
    {
     "data": {
      "text/plain": [
       "'c:\\\\Users\\\\ruw\\\\Desktop\\\\RA\\\\penicilin'"
      ]
     },
     "execution_count": 46,
     "metadata": {},
     "output_type": "execute_result"
    }
   ],
   "source": [
    "init.path_github"
   ]
  },
  {
   "cell_type": "code",
   "execution_count": 50,
   "id": "bc590bd3",
   "metadata": {},
   "outputs": [
    {
     "data": {
      "text/plain": [
       "WindowsPath('c:/Users/ruw/Desktop/RA/penicilin')"
      ]
     },
     "execution_count": 50,
     "metadata": {},
     "output_type": "execute_result"
    }
   ],
   "source": [
    "Path(init.path_github)"
   ]
  },
  {
   "cell_type": "code",
   "execution_count": 22,
   "id": "e839f8d8",
   "metadata": {},
   "outputs": [
    {
     "data": {
      "application/vnd.microsoft.datawrangler.viewer.v0+json": {
       "columns": [
        {
         "name": "index",
         "rawType": "object",
         "type": "string"
        },
        {
         "name": "('ReCiPe 2016 v1.03, midpoint (H) - no biogenic', 'acidification: terrestrial', 'terrestrial acidification potential (TAP)')",
         "rawType": "float64",
         "type": "float"
        },
        {
         "name": "('ReCiPe 2016 v1.03, midpoint (H) - no biogenic', 'climate change', 'global warming potential (GWP1000)')",
         "rawType": "float64",
         "type": "float"
        },
        {
         "name": "('ReCiPe 2016 v1.03, midpoint (H) - no biogenic', 'ecotoxicity: freshwater', 'freshwater ecotoxicity potential (FETP)')",
         "rawType": "float64",
         "type": "float"
        },
        {
         "name": "('ReCiPe 2016 v1.03, midpoint (H) - no biogenic', 'ecotoxicity: marine', 'marine ecotoxicity potential (METP)')",
         "rawType": "float64",
         "type": "float"
        },
        {
         "name": "('ReCiPe 2016 v1.03, midpoint (H) - no biogenic', 'ecotoxicity: terrestrial', 'terrestrial ecotoxicity potential (TETP)')",
         "rawType": "float64",
         "type": "float"
        },
        {
         "name": "('ReCiPe 2016 v1.03, midpoint (H) - no biogenic', 'energy resources: non-renewable, fossil', 'fossil fuel potential (FFP)')",
         "rawType": "float64",
         "type": "float"
        },
        {
         "name": "('ReCiPe 2016 v1.03, midpoint (H) - no biogenic', 'eutrophication: freshwater', 'freshwater eutrophication potential (FEP)')",
         "rawType": "float64",
         "type": "float"
        },
        {
         "name": "('ReCiPe 2016 v1.03, midpoint (H) - no biogenic', 'eutrophication: marine', 'marine eutrophication potential (MEP)')",
         "rawType": "float64",
         "type": "float"
        },
        {
         "name": "('ReCiPe 2016 v1.03, midpoint (H) - no biogenic', 'human toxicity: carcinogenic', 'human toxicity potential (HTPc)')",
         "rawType": "float64",
         "type": "float"
        },
        {
         "name": "('ReCiPe 2016 v1.03, midpoint (H) - no biogenic', 'human toxicity: non-carcinogenic', 'human toxicity potential (HTPnc)')",
         "rawType": "float64",
         "type": "float"
        },
        {
         "name": "('ReCiPe 2016 v1.03, midpoint (H) - no biogenic', 'ionising radiation', 'ionising radiation potential (IRP)')",
         "rawType": "float64",
         "type": "float"
        },
        {
         "name": "('ReCiPe 2016 v1.03, midpoint (H) - no biogenic', 'land use', 'agricultural land occupation (LOP)')",
         "rawType": "float64",
         "type": "float"
        },
        {
         "name": "('ReCiPe 2016 v1.03, midpoint (H) - no biogenic', 'material resources: metals/minerals', 'surplus ore potential (SOP)')",
         "rawType": "float64",
         "type": "float"
        },
        {
         "name": "('ReCiPe 2016 v1.03, midpoint (H) - no biogenic', 'ozone depletion', 'ozone depletion potential (ODPinfinite)')",
         "rawType": "float64",
         "type": "float"
        },
        {
         "name": "('ReCiPe 2016 v1.03, midpoint (H) - no biogenic', 'particulate matter formation', 'particulate matter formation potential (PMFP)')",
         "rawType": "float64",
         "type": "float"
        },
        {
         "name": "('ReCiPe 2016 v1.03, midpoint (H) - no biogenic', 'photochemical oxidant formation: human health', 'photochemical oxidant formation potential: humans (HOFP)')",
         "rawType": "float64",
         "type": "float"
        },
        {
         "name": "('ReCiPe 2016 v1.03, midpoint (H) - no biogenic', 'photochemical oxidant formation: terrestrial ecosystems', 'photochemical oxidant formation potential: ecosystems (EOFP)')",
         "rawType": "float64",
         "type": "float"
        },
        {
         "name": "('ReCiPe 2016 v1.03, midpoint (H) - no biogenic', 'water use', 'water consumption potential (WCP)')",
         "rawType": "float64",
         "type": "float"
        },
        {
         "name": "('ReCiPe 2016 v1.03, endpoint (H) - no biogenic', 'total: ecosystem quality', 'ecosystem quality')",
         "rawType": "float64",
         "type": "float"
        },
        {
         "name": "('ReCiPe 2016 v1.03, endpoint (H) - no biogenic', 'total: human health', 'human health')",
         "rawType": "float64",
         "type": "float"
        },
        {
         "name": "('ReCiPe 2016 v1.03, endpoint (H) - no biogenic', 'total: natural resources', 'natural resources')",
         "rawType": "float64",
         "type": "float"
        }
       ],
       "ref": "3407d6b0-d17e-4981-923f-ddaa14aff0f7",
       "rows": [
        [
         "Penicillin G, defined system",
         "0.002456249226670667",
         "0.9044584287654032",
         "0.05007372553936075",
         "0.07033346243451516",
         "2.776688354733521",
         "0.2930063924230139",
         "0.0003204571075601756",
         "4.389246173633498e-05",
         "0.07016051177894794",
         "1.013446013808458",
         "0.03572931800212343",
         "0.0445802046889484",
         "0.01805714384088664",
         "2.842325321727326e-07",
         "0.00117245665981196",
         "0.001908750910567167",
         "0.002039849341751669",
         "0.007786463957503557",
         "4.00075032829408e-09",
         "2.059580763821149e-06",
         "0.1022229767234788"
        ],
        [
         "Penicillin V, defined system",
         "0.0001608413371136489",
         "0.05572750163104027",
         "0.002256664830168013",
         "0.00290439735287552",
         "0.1435003992087022",
         "0.01525772162744394",
         "3.01341917571618e-05",
         "6.286637635154414e-06",
         "0.003236482274332744",
         "0.05521928741297722",
         "0.002315583925773085",
         "0.002512322650912575",
         "0.0006808249021664887",
         "4.026881635617939e-08",
         "9.333554181341557e-05",
         "0.0001096782344441995",
         "0.0001132131131530079",
         "0.0007927316595855268",
         "2.507647979806504e-10",
         "1.356153745750834e-07",
         "0.003871090495646779"
        ]
       ],
       "shape": {
        "columns": 21,
        "rows": 2
       }
      },
      "text/html": [
       "<div>\n",
       "<style scoped>\n",
       "    .dataframe tbody tr th:only-of-type {\n",
       "        vertical-align: middle;\n",
       "    }\n",
       "\n",
       "    .dataframe tbody tr th {\n",
       "        vertical-align: top;\n",
       "    }\n",
       "\n",
       "    .dataframe thead th {\n",
       "        text-align: right;\n",
       "    }\n",
       "</style>\n",
       "<table border=\"1\" class=\"dataframe\">\n",
       "  <thead>\n",
       "    <tr style=\"text-align: right;\">\n",
       "      <th></th>\n",
       "      <th>(ReCiPe 2016 v1.03, midpoint (H) - no biogenic, acidification: terrestrial, terrestrial acidification potential (TAP))</th>\n",
       "      <th>(ReCiPe 2016 v1.03, midpoint (H) - no biogenic, climate change, global warming potential (GWP1000))</th>\n",
       "      <th>(ReCiPe 2016 v1.03, midpoint (H) - no biogenic, ecotoxicity: freshwater, freshwater ecotoxicity potential (FETP))</th>\n",
       "      <th>(ReCiPe 2016 v1.03, midpoint (H) - no biogenic, ecotoxicity: marine, marine ecotoxicity potential (METP))</th>\n",
       "      <th>(ReCiPe 2016 v1.03, midpoint (H) - no biogenic, ecotoxicity: terrestrial, terrestrial ecotoxicity potential (TETP))</th>\n",
       "      <th>(ReCiPe 2016 v1.03, midpoint (H) - no biogenic, energy resources: non-renewable, fossil, fossil fuel potential (FFP))</th>\n",
       "      <th>(ReCiPe 2016 v1.03, midpoint (H) - no biogenic, eutrophication: freshwater, freshwater eutrophication potential (FEP))</th>\n",
       "      <th>(ReCiPe 2016 v1.03, midpoint (H) - no biogenic, eutrophication: marine, marine eutrophication potential (MEP))</th>\n",
       "      <th>(ReCiPe 2016 v1.03, midpoint (H) - no biogenic, human toxicity: carcinogenic, human toxicity potential (HTPc))</th>\n",
       "      <th>(ReCiPe 2016 v1.03, midpoint (H) - no biogenic, human toxicity: non-carcinogenic, human toxicity potential (HTPnc))</th>\n",
       "      <th>...</th>\n",
       "      <th>(ReCiPe 2016 v1.03, midpoint (H) - no biogenic, land use, agricultural land occupation (LOP))</th>\n",
       "      <th>(ReCiPe 2016 v1.03, midpoint (H) - no biogenic, material resources: metals/minerals, surplus ore potential (SOP))</th>\n",
       "      <th>(ReCiPe 2016 v1.03, midpoint (H) - no biogenic, ozone depletion, ozone depletion potential (ODPinfinite))</th>\n",
       "      <th>(ReCiPe 2016 v1.03, midpoint (H) - no biogenic, particulate matter formation, particulate matter formation potential (PMFP))</th>\n",
       "      <th>(ReCiPe 2016 v1.03, midpoint (H) - no biogenic, photochemical oxidant formation: human health, photochemical oxidant formation potential: humans (HOFP))</th>\n",
       "      <th>(ReCiPe 2016 v1.03, midpoint (H) - no biogenic, photochemical oxidant formation: terrestrial ecosystems, photochemical oxidant formation potential: ecosystems (EOFP))</th>\n",
       "      <th>(ReCiPe 2016 v1.03, midpoint (H) - no biogenic, water use, water consumption potential (WCP))</th>\n",
       "      <th>(ReCiPe 2016 v1.03, endpoint (H) - no biogenic, total: ecosystem quality, ecosystem quality)</th>\n",
       "      <th>(ReCiPe 2016 v1.03, endpoint (H) - no biogenic, total: human health, human health)</th>\n",
       "      <th>(ReCiPe 2016 v1.03, endpoint (H) - no biogenic, total: natural resources, natural resources)</th>\n",
       "    </tr>\n",
       "  </thead>\n",
       "  <tbody>\n",
       "    <tr>\n",
       "      <th>Penicillin G, defined system</th>\n",
       "      <td>0.002456</td>\n",
       "      <td>0.904458</td>\n",
       "      <td>0.050074</td>\n",
       "      <td>0.070333</td>\n",
       "      <td>2.776688</td>\n",
       "      <td>0.293006</td>\n",
       "      <td>0.00032</td>\n",
       "      <td>0.000044</td>\n",
       "      <td>0.070161</td>\n",
       "      <td>1.013446</td>\n",
       "      <td>...</td>\n",
       "      <td>0.044580</td>\n",
       "      <td>0.018057</td>\n",
       "      <td>2.842325e-07</td>\n",
       "      <td>0.001172</td>\n",
       "      <td>0.001909</td>\n",
       "      <td>0.002040</td>\n",
       "      <td>0.007786</td>\n",
       "      <td>4.000750e-09</td>\n",
       "      <td>2.059581e-06</td>\n",
       "      <td>0.102223</td>\n",
       "    </tr>\n",
       "    <tr>\n",
       "      <th>Penicillin V, defined system</th>\n",
       "      <td>0.000161</td>\n",
       "      <td>0.055728</td>\n",
       "      <td>0.002257</td>\n",
       "      <td>0.002904</td>\n",
       "      <td>0.143500</td>\n",
       "      <td>0.015258</td>\n",
       "      <td>0.00003</td>\n",
       "      <td>0.000006</td>\n",
       "      <td>0.003236</td>\n",
       "      <td>0.055219</td>\n",
       "      <td>...</td>\n",
       "      <td>0.002512</td>\n",
       "      <td>0.000681</td>\n",
       "      <td>4.026882e-08</td>\n",
       "      <td>0.000093</td>\n",
       "      <td>0.000110</td>\n",
       "      <td>0.000113</td>\n",
       "      <td>0.000793</td>\n",
       "      <td>2.507648e-10</td>\n",
       "      <td>1.356154e-07</td>\n",
       "      <td>0.003871</td>\n",
       "    </tr>\n",
       "  </tbody>\n",
       "</table>\n",
       "<p>2 rows × 21 columns</p>\n",
       "</div>"
      ],
      "text/plain": [
       "                              (ReCiPe 2016 v1.03, midpoint (H) - no biogenic, acidification: terrestrial, terrestrial acidification potential (TAP))  \\\n",
       "Penicillin G, defined system                                           0.002456                                                                        \n",
       "Penicillin V, defined system                                           0.000161                                                                        \n",
       "\n",
       "                              (ReCiPe 2016 v1.03, midpoint (H) - no biogenic, climate change, global warming potential (GWP1000))  \\\n",
       "Penicillin G, defined system                                           0.904458                                                     \n",
       "Penicillin V, defined system                                           0.055728                                                     \n",
       "\n",
       "                              (ReCiPe 2016 v1.03, midpoint (H) - no biogenic, ecotoxicity: freshwater, freshwater ecotoxicity potential (FETP))  \\\n",
       "Penicillin G, defined system                                           0.050074                                                                   \n",
       "Penicillin V, defined system                                           0.002257                                                                   \n",
       "\n",
       "                              (ReCiPe 2016 v1.03, midpoint (H) - no biogenic, ecotoxicity: marine, marine ecotoxicity potential (METP))  \\\n",
       "Penicillin G, defined system                                           0.070333                                                           \n",
       "Penicillin V, defined system                                           0.002904                                                           \n",
       "\n",
       "                              (ReCiPe 2016 v1.03, midpoint (H) - no biogenic, ecotoxicity: terrestrial, terrestrial ecotoxicity potential (TETP))  \\\n",
       "Penicillin G, defined system                                           2.776688                                                                     \n",
       "Penicillin V, defined system                                           0.143500                                                                     \n",
       "\n",
       "                              (ReCiPe 2016 v1.03, midpoint (H) - no biogenic, energy resources: non-renewable, fossil, fossil fuel potential (FFP))  \\\n",
       "Penicillin G, defined system                                           0.293006                                                                       \n",
       "Penicillin V, defined system                                           0.015258                                                                       \n",
       "\n",
       "                              (ReCiPe 2016 v1.03, midpoint (H) - no biogenic, eutrophication: freshwater, freshwater eutrophication potential (FEP))  \\\n",
       "Penicillin G, defined system                                            0.00032                                                                        \n",
       "Penicillin V, defined system                                            0.00003                                                                        \n",
       "\n",
       "                              (ReCiPe 2016 v1.03, midpoint (H) - no biogenic, eutrophication: marine, marine eutrophication potential (MEP))  \\\n",
       "Penicillin G, defined system                                           0.000044                                                                \n",
       "Penicillin V, defined system                                           0.000006                                                                \n",
       "\n",
       "                              (ReCiPe 2016 v1.03, midpoint (H) - no biogenic, human toxicity: carcinogenic, human toxicity potential (HTPc))  \\\n",
       "Penicillin G, defined system                                           0.070161                                                                \n",
       "Penicillin V, defined system                                           0.003236                                                                \n",
       "\n",
       "                              (ReCiPe 2016 v1.03, midpoint (H) - no biogenic, human toxicity: non-carcinogenic, human toxicity potential (HTPnc))  \\\n",
       "Penicillin G, defined system                                           1.013446                                                                     \n",
       "Penicillin V, defined system                                           0.055219                                                                     \n",
       "\n",
       "                              ...  \\\n",
       "Penicillin G, defined system  ...   \n",
       "Penicillin V, defined system  ...   \n",
       "\n",
       "                              (ReCiPe 2016 v1.03, midpoint (H) - no biogenic, land use, agricultural land occupation (LOP))  \\\n",
       "Penicillin G, defined system                                           0.044580                                               \n",
       "Penicillin V, defined system                                           0.002512                                               \n",
       "\n",
       "                              (ReCiPe 2016 v1.03, midpoint (H) - no biogenic, material resources: metals/minerals, surplus ore potential (SOP))  \\\n",
       "Penicillin G, defined system                                           0.018057                                                                   \n",
       "Penicillin V, defined system                                           0.000681                                                                   \n",
       "\n",
       "                              (ReCiPe 2016 v1.03, midpoint (H) - no biogenic, ozone depletion, ozone depletion potential (ODPinfinite))  \\\n",
       "Penicillin G, defined system                                       2.842325e-07                                                           \n",
       "Penicillin V, defined system                                       4.026882e-08                                                           \n",
       "\n",
       "                              (ReCiPe 2016 v1.03, midpoint (H) - no biogenic, particulate matter formation, particulate matter formation potential (PMFP))  \\\n",
       "Penicillin G, defined system                                           0.001172                                                                              \n",
       "Penicillin V, defined system                                           0.000093                                                                              \n",
       "\n",
       "                              (ReCiPe 2016 v1.03, midpoint (H) - no biogenic, photochemical oxidant formation: human health, photochemical oxidant formation potential: humans (HOFP))  \\\n",
       "Penicillin G, defined system                                           0.001909                                                                                                          \n",
       "Penicillin V, defined system                                           0.000110                                                                                                          \n",
       "\n",
       "                              (ReCiPe 2016 v1.03, midpoint (H) - no biogenic, photochemical oxidant formation: terrestrial ecosystems, photochemical oxidant formation potential: ecosystems (EOFP))  \\\n",
       "Penicillin G, defined system                                           0.002040                                                                                                                        \n",
       "Penicillin V, defined system                                           0.000113                                                                                                                        \n",
       "\n",
       "                              (ReCiPe 2016 v1.03, midpoint (H) - no biogenic, water use, water consumption potential (WCP))  \\\n",
       "Penicillin G, defined system                                           0.007786                                               \n",
       "Penicillin V, defined system                                           0.000793                                               \n",
       "\n",
       "                              (ReCiPe 2016 v1.03, endpoint (H) - no biogenic, total: ecosystem quality, ecosystem quality)  \\\n",
       "Penicillin G, defined system                                       4.000750e-09                                              \n",
       "Penicillin V, defined system                                       2.507648e-10                                              \n",
       "\n",
       "                              (ReCiPe 2016 v1.03, endpoint (H) - no biogenic, total: human health, human health)  \\\n",
       "Penicillin G, defined system                                       2.059581e-06                                    \n",
       "Penicillin V, defined system                                       1.356154e-07                                    \n",
       "\n",
       "                              (ReCiPe 2016 v1.03, endpoint (H) - no biogenic, total: natural resources, natural resources)  \n",
       "Penicillin G, defined system                                           0.102223                                             \n",
       "Penicillin V, defined system                                           0.003871                                             \n",
       "\n",
       "[2 rows x 21 columns]"
      ]
     },
     "execution_count": 22,
     "metadata": {},
     "output_type": "execute_result"
    }
   ],
   "source": [
    "path = r\"c:\\Users\\ruw\\Desktop\\RA\\penicillin results\\LCIA\\LCIA_results.xlsx\"\n",
    "df = init.import_LCIA_results(path, init.lcia_impact_method())\n",
    "df"
   ]
  },
  {
   "cell_type": "code",
   "execution_count": 23,
   "id": "e8810b54",
   "metadata": {},
   "outputs": [
    {
     "data": {
      "application/vnd.microsoft.datawrangler.viewer.v0+json": {
       "columns": [
        {
         "name": "index",
         "rawType": "object",
         "type": "string"
        },
        {
         "name": "('ReCiPe 2016 v1.03, midpoint (H) - no biogenic', 'climate change', 'global warming potential (GWP1000)')",
         "rawType": "float64",
         "type": "float"
        }
       ],
       "ref": "1eb44b48-8f07-4474-be6f-708069c1a48c",
       "rows": [
        [
         "Penicillin G, defined system",
         "0.9044584287654032"
        ],
        [
         "Penicillin V, defined system",
         "0.05572750163104027"
        ]
       ],
       "shape": {
        "columns": 1,
        "rows": 2
       }
      },
      "text/plain": [
       "Penicillin G, defined system    0.904458\n",
       "Penicillin V, defined system    0.055728\n",
       "Name: (ReCiPe 2016 v1.03, midpoint (H) - no biogenic, climate change, global warming potential (GWP1000)), dtype: float64"
      ]
     },
     "execution_count": 23,
     "metadata": {},
     "output_type": "execute_result"
    }
   ],
   "source": [
    "ic_gwp = init.lcia_impact_method()[1]\n",
    "df_gwp = df[ic_gwp]\n",
    "df_gwp"
   ]
  },
  {
   "cell_type": "code",
   "execution_count": 24,
   "id": "410bbb12",
   "metadata": {},
   "outputs": [
    {
     "data": {
      "text/plain": [
       "['Penicillin G, defined system', 'Penicillin V, defined system']"
      ]
     },
     "execution_count": 24,
     "metadata": {},
     "output_type": "execute_result"
    }
   ],
   "source": [
    "idx_gwp = list(df_gwp.index)\n",
    "idx_gwp"
   ]
  },
  {
   "cell_type": "code",
   "execution_count": 25,
   "id": "2d00c79c",
   "metadata": {},
   "outputs": [
    {
     "data": {
      "application/vnd.microsoft.datawrangler.viewer.v0+json": {
       "columns": [
        {
         "name": "index",
         "rawType": "object",
         "type": "string"
        },
        {
         "name": "('ReCiPe 2016 v1.03, midpoint (H) - no biogenic', 'climate change', 'global warming potential (GWP1000)')",
         "rawType": "object",
         "type": "unknown"
        }
       ],
       "ref": "d41fe5d7-2232-4196-85b8-e7f8daaea329",
       "rows": [
        [
         "IV",
         "0"
        ],
        [
         "Oral",
         "0"
        ],
        [
         "Combined",
         "0"
        ]
       ],
       "shape": {
        "columns": 1,
        "rows": 3
       }
      },
      "text/html": [
       "<div>\n",
       "<style scoped>\n",
       "    .dataframe tbody tr th:only-of-type {\n",
       "        vertical-align: middle;\n",
       "    }\n",
       "\n",
       "    .dataframe tbody tr th {\n",
       "        vertical-align: top;\n",
       "    }\n",
       "\n",
       "    .dataframe thead th {\n",
       "        text-align: right;\n",
       "    }\n",
       "</style>\n",
       "<table border=\"1\" class=\"dataframe\">\n",
       "  <thead>\n",
       "    <tr style=\"text-align: right;\">\n",
       "      <th></th>\n",
       "      <th>(ReCiPe 2016 v1.03, midpoint (H) - no biogenic, climate change, global warming potential (GWP1000))</th>\n",
       "    </tr>\n",
       "  </thead>\n",
       "  <tbody>\n",
       "    <tr>\n",
       "      <th>IV</th>\n",
       "      <td>0</td>\n",
       "    </tr>\n",
       "    <tr>\n",
       "      <th>Oral</th>\n",
       "      <td>0</td>\n",
       "    </tr>\n",
       "    <tr>\n",
       "      <th>Combined</th>\n",
       "      <td>0</td>\n",
       "    </tr>\n",
       "  </tbody>\n",
       "</table>\n",
       "</div>"
      ],
      "text/plain": [
       "         (ReCiPe 2016 v1.03, midpoint (H) - no biogenic, climate change, global warming potential (GWP1000))\n",
       "IV                                                        0                                                 \n",
       "Oral                                                      0                                                 \n",
       "Combined                                                  0                                                 "
      ]
     },
     "execution_count": 25,
     "metadata": {},
     "output_type": "execute_result"
    }
   ],
   "source": [
    "idx_lst = [\n",
    "    \"IV\",\n",
    "    \"Oral\",\n",
    "    \"Combined\"\n",
    "]\n",
    "\n",
    "df_pneumonia = pd.DataFrame(0, index=idx_lst, columns=[ic_gwp], dtype=object)\n",
    "df_pneumonia"
   ]
  },
  {
   "cell_type": "code",
   "execution_count": 26,
   "id": "7029e19b",
   "metadata": {},
   "outputs": [
    {
     "data": {
      "text/plain": [
       "{'IV': 2, 'Oral': 3}"
      ]
     },
     "execution_count": 26,
     "metadata": {},
     "output_type": "execute_result"
    }
   ],
   "source": [
    "days = 5\n",
    "daily_adminstrations = 4\n",
    "adminstrations = days * daily_adminstrations\n",
    "\n",
    "days_com_dct = {\n",
    "    idx_lst[0] : 2,\n",
    "    idx_lst[1] : 3\n",
    "}\n",
    "\n",
    "days_com_dct"
   ]
  },
  {
   "cell_type": "code",
   "execution_count": 27,
   "id": "598e66d4",
   "metadata": {},
   "outputs": [
    {
     "data": {
      "application/vnd.microsoft.datawrangler.viewer.v0+json": {
       "columns": [
        {
         "name": "index",
         "rawType": "object",
         "type": "string"
        },
        {
         "name": "('ReCiPe 2016 v1.03, midpoint (H) - no biogenic', 'climate change', 'global warming potential (GWP1000)')",
         "rawType": "object",
         "type": "unknown"
        }
       ],
       "ref": "13fff90e-a5fd-4f3b-ba9e-2dcf2a9012d0",
       "rows": [
        [
         "IV",
         "18.089168575308065"
        ],
        [
         "Oral",
         "1.1145500326208053"
        ],
        [
         "Combined",
         "{'IV': 7.235667430123225, 'Oral': 0.6687300195724832}"
        ]
       ],
       "shape": {
        "columns": 1,
        "rows": 3
       }
      },
      "text/html": [
       "<div>\n",
       "<style scoped>\n",
       "    .dataframe tbody tr th:only-of-type {\n",
       "        vertical-align: middle;\n",
       "    }\n",
       "\n",
       "    .dataframe tbody tr th {\n",
       "        vertical-align: top;\n",
       "    }\n",
       "\n",
       "    .dataframe thead th {\n",
       "        text-align: right;\n",
       "    }\n",
       "</style>\n",
       "<table border=\"1\" class=\"dataframe\">\n",
       "  <thead>\n",
       "    <tr style=\"text-align: right;\">\n",
       "      <th></th>\n",
       "      <th>(ReCiPe 2016 v1.03, midpoint (H) - no biogenic, climate change, global warming potential (GWP1000))</th>\n",
       "    </tr>\n",
       "  </thead>\n",
       "  <tbody>\n",
       "    <tr>\n",
       "      <th>IV</th>\n",
       "      <td>18.089169</td>\n",
       "    </tr>\n",
       "    <tr>\n",
       "      <th>Oral</th>\n",
       "      <td>1.11455</td>\n",
       "    </tr>\n",
       "    <tr>\n",
       "      <th>Combined</th>\n",
       "      <td>{'IV': 7.235667430123225, 'Oral': 0.6687300195...</td>\n",
       "    </tr>\n",
       "  </tbody>\n",
       "</table>\n",
       "</div>"
      ],
      "text/plain": [
       "         (ReCiPe 2016 v1.03, midpoint (H) - no biogenic, climate change, global warming potential (GWP1000))\n",
       "IV                                                18.089169                                                 \n",
       "Oral                                                1.11455                                                 \n",
       "Combined  {'IV': 7.235667430123225, 'Oral': 0.6687300195...                                                 "
      ]
     },
     "execution_count": 27,
     "metadata": {},
     "output_type": "execute_result"
    }
   ],
   "source": [
    "for idx, row in df_pneumonia.iterrows():\n",
    "    if \"IV\" in idx:\n",
    "        row[ic_gwp] = df_gwp.at[idx_gwp[0]] * adminstrations\n",
    "    elif \"Oral\" in idx:\n",
    "        row[ic_gwp] = df_gwp.at[idx_gwp[1]] * adminstrations\n",
    "    else:\n",
    "        dct = {}\n",
    "        for x, (key, item) in enumerate(days_com_dct.items()):\n",
    "            dct[key] = df_gwp.at[idx_gwp[x]] * item * daily_adminstrations\n",
    "        row[ic_gwp] = dct\n",
    "\n",
    "df_pneumonia"
   ]
  },
  {
   "cell_type": "code",
   "execution_count": 28,
   "id": "1a419d87",
   "metadata": {},
   "outputs": [
    {
     "name": "stdout",
     "output_type": "stream",
     "text": [
      "Oral saves 94.0%\n",
      "Combined saves 56.0%\n"
     ]
    }
   ],
   "source": [
    "iv = df_pneumonia.at[idx_lst[0], ic_gwp]\n",
    "oral = df_pneumonia.at[idx_lst[1], ic_gwp]\n",
    "comb  = df_pneumonia.at[idx_lst[2], ic_gwp]\n",
    "comb_val = np.array(list(comb.values()))\n",
    "comb_sum = comb_val.sum()\n",
    "\n",
    "\n",
    "print(f\"{idx_lst[1]} saves {round((1-oral/iv)*100,0)}%\")\n",
    "print(f\"{idx_lst[2]} saves {round((1-comb_sum/iv)*100,0)}%\")"
   ]
  },
  {
   "cell_type": "code",
   "execution_count": 29,
   "id": "06e74735",
   "metadata": {},
   "outputs": [],
   "source": [
    "import matplotlib.pyplot as plt\n",
    "import numpy as np\n"
   ]
  },
  {
   "cell_type": "code",
   "execution_count": 30,
   "id": "4b596c88",
   "metadata": {},
   "outputs": [
    {
     "data": {
      "image/png": "[encoded data removed]",
      "text/plain": [
       "<Figure size 2244x1458.6 with 1 Axes>"
      ]
     },
     "metadata": {},
     "output_type": "display_data"
    }
   ],
   "source": [
    "# Create the plot\n",
    "colors = init.color_range(colorname=\"coolwarm\", color_quantity=2)\n",
    "width_in, height_in, dpi = init.plot_dimensions()\n",
    "fig, ax = plt.subplots(figsize=(width_in, height_in), dpi=dpi)\n",
    "bar_width = 1 / (len(idx_lst) + 1)\n",
    "index = np.arange(len(df_pneumonia.index))\n",
    "\n",
    "\n",
    "\n",
    "# Plot individual bars for the first two scenarios\n",
    "for i in range(2):\n",
    "    ax.bar(i, df_pneumonia.iloc[i, 0], bar_width, color=colors[i], edgecolor='k', label=df_pneumonia.index[i], zorder=2)\n",
    "\n",
    "# Plot stacked bar for the third scenario\n",
    "stack_data = df_pneumonia.iloc[2, 0]\n",
    "bottom = 0\n",
    "for j, (key, value) in enumerate(stack_data.items()):\n",
    "    ax.bar(2, value, bar_width, bottom=bottom, color=colors[j], edgecolor='k', label=idx_lst[j],  zorder=2)\n",
    "    bottom += value\n",
    "\n",
    "# Customize the plot\n",
    "ax.set_xticks([0, 1, 2])\n",
    "ax.set_xticklabels(df_pneumonia.index)\n",
    "ax.set_ylabel('kilograms of CO$_2$-eq per treatment')\n",
    "ax.set_title(\"GWP for clinical treatment scenarios of pneumonia\")\n",
    "y_ticks = np.linspace(0, 20, 11)\n",
    "ax.set_yticks(y_ticks)\n",
    "ax.set_ylim(0, 20.01)\n",
    "ax.legend(\n",
    "    labels=idx_lst[:2], \n",
    "    frameon=False)\n",
    "ax.grid(axis='y', linestyle='--', alpha=0.7, zorder=-0)\n",
    "plt.tight_layout()\n",
    "plot_save_path = init.join_path(init.path_github, r\"figures\")\n",
    "output_file = init.join_path(plot_save_path, f\"treatment_of_pneumonia.png\")\n",
    "plt.savefig(output_file, dpi=dpi, format='png', bbox_inches='tight')\n",
    "plt.show()\n"
   ]
  },
  {
   "cell_type": "code",
   "execution_count": 53,
   "id": "ac183e20",
   "metadata": {},
   "outputs": [],
   "source": [
    "def join_path(path1, *argv):\n",
    "    path = Path(path1)\n",
    "    for arg in argv:\n",
    "        path = path / arg\n",
    "    return path"
   ]
  },
  {
   "cell_type": "code",
   "execution_count": 61,
   "id": "3779d675",
   "metadata": {},
   "outputs": [
    {
     "data": {
      "text/plain": [
       "WindowsPath('cd/ab')"
      ]
     },
     "execution_count": 61,
     "metadata": {},
     "output_type": "execute_result"
    }
   ],
   "source": [
    "p1 = \"cd\"\n",
    "p2 = \"ab\"\n",
    "p3 = \"ff\"\n",
    "path = join_path(p1, p2)\n",
    "path"
   ]
  }
 ],
 "metadata": {
  "kernelspec": {
   "display_name": "Python 3",
   "language": "python",
   "name": "python3"
  },
  "language_info": {
   "codemirror_mode": {
    "name": "ipython",
    "version": 3
   },
   "file_extension": ".py",
   "mimetype": "text/x-python",
   "name": "python",
   "nbconvert_exporter": "python",
   "pygments_lexer": "ipython3",
   "version": "3.11.9"
  }
 },
 "nbformat": 4,
 "nbformat_minor": 5
}
