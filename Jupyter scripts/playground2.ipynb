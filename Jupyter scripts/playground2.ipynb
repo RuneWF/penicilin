{
 "cells": [
  {
   "cell_type": "code",
   "execution_count": 32,
   "id": "23cad0c5",
   "metadata": {},
   "outputs": [],
   "source": [
    "path = r'C:/Users/ruw/Desktop'\n",
    "import sys # https://stackoverflow.com/questions/4383571/importing-files-from-different-folder\n",
    "sys.path.insert(1, rf'{path}\\RA\\penicilin\\Libaries')"
   ]
  },
  {
   "cell_type": "code",
   "execution_count": 33,
   "id": "b4058550",
   "metadata": {},
   "outputs": [],
   "source": [
    "from lca import LCA\n"
   ]
  },
  {
   "cell_type": "code",
   "execution_count": 34,
   "id": "033033df",
   "metadata": {},
   "outputs": [
    {
     "data": {
      "text/plain": [
       "('ReCiPe 2016 v1.03, midpoint (H) - no biogenic',\n",
       " 'climate change',\n",
       " 'global warming potential (GWP1000)')"
      ]
     },
     "execution_count": 34,
     "metadata": {},
     "output_type": "execute_result"
    }
   ],
   "source": [
    "trial_path = r\"C:\\Users\\ruw\\Desktop\\RA\\penicilin\\data\\database.xlsx\"\n",
    "matching_database = \"ev391cutoff\"\n",
    "lca_var = LCA(path, matching_database, matching_database)\n",
    "impact_cat = lca_var.lcia_impact_method()\n",
    "impact_cat_GWP = impact_cat[1]\n",
    "impact_cat_GWP"
   ]
  },
  {
   "cell_type": "code",
   "execution_count": 35,
   "id": "0a3b260b",
   "metadata": {},
   "outputs": [],
   "source": [
    "# Importing libraries\n",
    "import bw2io as bi\n",
    "import bw2data as bd\n",
    "import bw2calc as bc\n",
    "import pandas as pd\n",
    "\n",
    "import standards as s\n"
   ]
  },
  {
   "cell_type": "code",
   "execution_count": 36,
   "id": "6d5d3901",
   "metadata": {},
   "outputs": [],
   "source": [
    "def import_excel_database_to_brightway(data, matching_database, path_github):\n",
    "    # Save the data to a temporary file that can be used by ExcelImporter\n",
    "    temp_path = s.join_path(path_github, r\"data\\temp.xlsx\")\n",
    "\n",
    "    data.to_excel(temp_path, index=False)\n",
    "    \n",
    "    # Use the temporary file with ExcelImporter\n",
    "    imp = bi.ExcelImporter(temp_path)  # the path to your inventory excel file\n",
    "    imp.apply_strategies()\n",
    "\n",
    "    # Loop through each database and match\n",
    "    print(f\"Matching database: {matching_database}\")\n",
    "    imp.match_database(matching_database, fields=('name', 'unit', 'location', 'reference product'))\n",
    "    if list(imp.unlinked):\n",
    "        print(f\"Unlinked items after matching {matching_database}: {list(imp.unlinked)}\")\n",
    "\n",
    "    # Match without specifying a database\n",
    "    # imp.match_database(fields=('name', 'unit', 'location'))\n",
    "\n",
    "    # Generate statistics and write results\n",
    "    imp.statistics()\n",
    "    imp.write_excel(only_unlinked=True)\n",
    "    unlinked_items = list(imp.unlinked)\n",
    "    imp.write_database()\n",
    "\n",
    "    # Print unlinked items if needed\n",
    "    if unlinked_items:\n",
    "        print(unlinked_items)\n",
    "\n",
    "    import_excel_database_to_brightway.has_been_called = True\n",
    "\n",
    "import_excel_database_to_brightway.has_been_called = False\n",
    "\n",
    "def reload_database(matching_database, system_path, path_github, proj_database, sheet):\n",
    "    reload_database.has_been_called = True\n",
    "    user_input = input(f\"Do you want to reload the {proj_database}? Enter 'y' for yes and 'n' for no\")\n",
    "    \n",
    "    if user_input.lower() == 'y':\n",
    "\n",
    "        data = pd.read_excel(system_path, sheet_name=sheet)\n",
    "\n",
    "        # Removing the old database\n",
    "        db_old = bd.Database(proj_database)\n",
    "        db_old.deregister()\n",
    "\n",
    "        import_excel_database_to_brightway(data, matching_database, path_github)\n",
    "\n",
    "    elif user_input.lower() == 'n':\n",
    "        print('You selected to not reload')\n",
    "\n",
    "    else:\n",
    "        print('Invalid argument, try again')\n",
    "        reload_database(matching_database, matching_database, system_path)\n",
    "\n",
    "reload_database.has_been_called = False\n",
    "\n",
    "def extract_excel_sheets(system_path, matching_database):\n",
    "    # Use a context manager to open the Excel file\n",
    "    with pd.ExcelFile(system_path) as excel_file:\n",
    "        # Get the sheet names\n",
    "        sheet_names = excel_file.sheet_names\n",
    "    \n",
    "    sheets_to_import = []\n",
    "    for sheet in sheet_names:\n",
    "        if matching_database in sheet:\n",
    "            sheets_to_import.append(sheet)\n",
    "\n",
    "    return sheets_to_import\n",
    "\n",
    "def extract_database(data, system_path, path_github, matching_database, sheet=\"ev391cutoff\"):\n",
    "    proj_database_str = data.columns[1]\n",
    "    if proj_database_str not in bd.databases:\n",
    "        import_excel_database_to_brightway(data, matching_database, path_github)\n",
    "\n",
    "    # Reload databases if needed\n",
    "    if import_excel_database_to_brightway.has_been_called is False:\n",
    "        reload_database(matching_database, system_path, path_github, proj_database_str, sheet)\n",
    "\n",
    "def import_databases(matching_database, path, sensitivty=False):\n",
    "\n",
    "    path_github, ecoinevnt_paths, system_path = s.data_paths(path)\n",
    "\n",
    "    # Check if Ecoinvent databases are already present\n",
    "    if matching_database in bd.databases:# and 'ev391apos' in bd.databases and 'ev391cutoff' in bd.databases:\n",
    "        pass\n",
    "        # print('Ecoinvent 3.9.1 is already present in the project.')\n",
    "    else:\n",
    "\n",
    "        # Import Consequential database\n",
    "        ei = bi.SingleOutputEcospold2Importer(dirpath=ecoinevnt_paths[matching_database], db_name=matching_database)\n",
    "        ei.apply_strategies()\n",
    "        ei.statistics()\n",
    "        ei.write_database()\n",
    "\n",
    "    sheets_to_import = extract_excel_sheets(system_path, matching_database)\n",
    "    if sensitivty is False:\n",
    "        sheets_to_import = sheets_to_import[0]\n",
    "\n",
    "    data = pd.read_excel(system_path, sheet_name=sheets_to_import)\n",
    "\n",
    "    if isinstance(data, pd.DataFrame):\n",
    "        extract_database(data, system_path, path_github, matching_database)\n",
    "    elif isinstance(data, dict):\n",
    "        for sheet, db in data.items():\n",
    "            extract_database(db, system_path, path_github, matching_database, sheet=sheet)\n",
    "            import_excel_database_to_brightway.has_been_called = False\n",
    "    else:\n",
    "        print(\"Wrong data format\")\n",
    "    \n"
   ]
  },
  {
   "cell_type": "code",
   "execution_count": 37,
   "id": "c4578778",
   "metadata": {},
   "outputs": [],
   "source": [
    "path_github, ecoinevnt_paths, system_path = s.data_paths(path)"
   ]
  },
  {
   "cell_type": "code",
   "execution_count": 38,
   "id": "09d61e62",
   "metadata": {},
   "outputs": [
    {
     "name": "stdout",
     "output_type": "stream",
     "text": [
      "['ev391cutoff', 'ev391cutoff CN', 'ev391cutoff IT', 'ev391cutoff CH', 'ev391cutoff US', 'FU scaling']\n"
     ]
    }
   ],
   "source": [
    "# Use a context manager to open the Excel file\n",
    "with pd.ExcelFile(trial_path) as excel_file:\n",
    "    # Get the sheet names\n",
    "    sheet_names = excel_file.sheet_names\n",
    "\n",
    "# Print the sheet names\n",
    "print(sheet_names)\n"
   ]
  },
  {
   "cell_type": "code",
   "execution_count": 39,
   "id": "e22ce0b3",
   "metadata": {},
   "outputs": [
    {
     "data": {
      "text/plain": [
       "['ev391cutoff',\n",
       " 'ev391cutoff CN',\n",
       " 'ev391cutoff IT',\n",
       " 'ev391cutoff CH',\n",
       " 'ev391cutoff US']"
      ]
     },
     "execution_count": 39,
     "metadata": {},
     "output_type": "execute_result"
    }
   ],
   "source": [
    "sheets_to_import = []\n",
    "for sheet in sheet_names:\n",
    "    if matching_database in sheet:\n",
    "        sheets_to_import.append(sheet)\n",
    "\n",
    "sheets_to_import"
   ]
  },
  {
   "cell_type": "code",
   "execution_count": 40,
   "id": "f498c792",
   "metadata": {},
   "outputs": [
    {
     "name": "stdout",
     "output_type": "stream",
     "text": [
      "Extracted 1 worksheets in 0.04 seconds\n",
      "Applying strategy: csv_restore_tuples\n",
      "Applying strategy: csv_restore_booleans\n",
      "Applying strategy: csv_numerize\n",
      "Applying strategy: csv_drop_unknown\n",
      "Applying strategy: csv_add_missing_exchanges_section\n",
      "Applying strategy: normalize_units\n",
      "Applying strategy: normalize_biosphere_categories\n",
      "Applying strategy: normalize_biosphere_names\n",
      "Applying strategy: strip_biosphere_exc_locations\n",
      "Applying strategy: set_code_by_activity_hash\n",
      "Applying strategy: link_iterable_by_fields\n",
      "Applying strategy: assign_only_product_as_production\n",
      "Applying strategy: link_technosphere_by_activity_hash\n",
      "Applying strategy: drop_falsey_uncertainty_fields_but_keep_zeros\n",
      "Applying strategy: convert_uncertainty_types_to_integers\n",
      "Applying strategy: convert_activity_parameters_to_list\n",
      "Applied 16 strategies in 3.13 seconds\n",
      "Matching database: ev391cutoff\n",
      "Applying strategy: link_iterable_by_fields\n"
     ]
    },
    {
     "name": "stderr",
     "output_type": "stream",
     "text": [
      "Writing activities to SQLite3 database:\n"
     ]
    },
    {
     "name": "stdout",
     "output_type": "stream",
     "text": [
      "23 datasets\n",
      "208 exchanges\n",
      "0 unlinked exchanges\n",
      "  \n",
      "Wrote matching file to:\n",
      "C:\\Users\\ruw\\AppData\\Local\\pylca\\Brightway3\\Penicillin.7179b081106185b3e43fbe3ebfd7f229\\output\\db-matching-penicillin_cut_off_IN-unlinked.xlsx\n"
     ]
    },
    {
     "name": "stderr",
     "output_type": "stream",
     "text": [
      "0% [#######################] 100% | ETA: 00:00:00\n",
      "Total time elapsed: 00:00:00\n"
     ]
    },
    {
     "name": "stdout",
     "output_type": "stream",
     "text": [
      "Title: Writing activities to SQLite3 database:\n",
      "  Started: 05/09/2025 14:40:51\n",
      "  Finished: 05/09/2025 14:40:51\n",
      "  Total time elapsed: 00:00:00\n",
      "  CPU %: 97.70\n",
      "  Memory %: 6.32\n",
      "Created database: penicillin_cut_off_IN\n",
      "Extracted 1 worksheets in 0.05 seconds\n",
      "Applying strategy: csv_restore_tuples\n",
      "Applying strategy: csv_restore_booleans\n",
      "Applying strategy: csv_numerize\n",
      "Applying strategy: csv_drop_unknown\n",
      "Applying strategy: csv_add_missing_exchanges_section\n",
      "Applying strategy: normalize_units\n",
      "Applying strategy: normalize_biosphere_categories\n",
      "Applying strategy: normalize_biosphere_names\n",
      "Applying strategy: strip_biosphere_exc_locations\n",
      "Applying strategy: set_code_by_activity_hash\n",
      "Applying strategy: link_iterable_by_fields\n",
      "Applying strategy: assign_only_product_as_production\n",
      "Applying strategy: link_technosphere_by_activity_hash\n",
      "Applying strategy: drop_falsey_uncertainty_fields_but_keep_zeros\n",
      "Applying strategy: convert_uncertainty_types_to_integers\n",
      "Applying strategy: convert_activity_parameters_to_list\n",
      "Applied 16 strategies in 3.28 seconds\n",
      "Matching database: ev391cutoff\n",
      "Applying strategy: link_iterable_by_fields\n"
     ]
    },
    {
     "name": "stderr",
     "output_type": "stream",
     "text": [
      "Writing activities to SQLite3 database:\n"
     ]
    },
    {
     "name": "stdout",
     "output_type": "stream",
     "text": [
      "23 datasets\n",
      "208 exchanges\n",
      "0 unlinked exchanges\n",
      "  \n",
      "Wrote matching file to:\n",
      "C:\\Users\\ruw\\AppData\\Local\\pylca\\Brightway3\\Penicillin.7179b081106185b3e43fbe3ebfd7f229\\output\\db-matching-penicillin_cut_off_CN-unlinked.xlsx\n"
     ]
    },
    {
     "name": "stderr",
     "output_type": "stream",
     "text": [
      "0% [#######################] 100% | ETA: 00:00:00\n",
      "Total time elapsed: 00:00:00\n"
     ]
    },
    {
     "name": "stdout",
     "output_type": "stream",
     "text": [
      "Title: Writing activities to SQLite3 database:\n",
      "  Started: 05/09/2025 14:40:57\n",
      "  Finished: 05/09/2025 14:40:57\n",
      "  Total time elapsed: 00:00:00\n",
      "  CPU %: 104.20\n",
      "  Memory %: 6.35\n",
      "Created database: penicillin_cut_off_CN\n",
      "Extracted 1 worksheets in 0.04 seconds\n",
      "Applying strategy: csv_restore_tuples\n",
      "Applying strategy: csv_restore_booleans\n",
      "Applying strategy: csv_numerize\n",
      "Applying strategy: csv_drop_unknown\n",
      "Applying strategy: csv_add_missing_exchanges_section\n",
      "Applying strategy: normalize_units\n",
      "Applying strategy: normalize_biosphere_categories\n",
      "Applying strategy: normalize_biosphere_names\n",
      "Applying strategy: strip_biosphere_exc_locations\n",
      "Applying strategy: set_code_by_activity_hash\n",
      "Applying strategy: link_iterable_by_fields\n",
      "Applying strategy: assign_only_product_as_production\n",
      "Applying strategy: link_technosphere_by_activity_hash\n",
      "Applying strategy: drop_falsey_uncertainty_fields_but_keep_zeros\n",
      "Applying strategy: convert_uncertainty_types_to_integers\n",
      "Applying strategy: convert_activity_parameters_to_list\n",
      "Applied 16 strategies in 3.10 seconds\n",
      "Matching database: ev391cutoff\n",
      "Applying strategy: link_iterable_by_fields\n"
     ]
    },
    {
     "name": "stderr",
     "output_type": "stream",
     "text": [
      "Writing activities to SQLite3 database:\n"
     ]
    },
    {
     "name": "stdout",
     "output_type": "stream",
     "text": [
      "23 datasets\n",
      "204 exchanges\n",
      "0 unlinked exchanges\n",
      "  \n",
      "Wrote matching file to:\n",
      "C:\\Users\\ruw\\AppData\\Local\\pylca\\Brightway3\\Penicillin.7179b081106185b3e43fbe3ebfd7f229\\output\\db-matching-penicillin_cut_off_IT-unlinked.xlsx\n"
     ]
    },
    {
     "name": "stderr",
     "output_type": "stream",
     "text": [
      "0% [#######################] 100% | ETA: 00:00:00\n",
      "Total time elapsed: 00:00:00\n"
     ]
    },
    {
     "name": "stdout",
     "output_type": "stream",
     "text": [
      "Title: Writing activities to SQLite3 database:\n",
      "  Started: 05/09/2025 14:41:03\n",
      "  Finished: 05/09/2025 14:41:03\n",
      "  Total time elapsed: 00:00:00\n",
      "  CPU %: 97.70\n",
      "  Memory %: 6.33\n",
      "Created database: penicillin_cut_off_IT\n",
      "Extracted 1 worksheets in 0.03 seconds\n",
      "Applying strategy: csv_restore_tuples\n",
      "Applying strategy: csv_restore_booleans\n",
      "Applying strategy: csv_numerize\n",
      "Applying strategy: csv_drop_unknown\n",
      "Applying strategy: csv_add_missing_exchanges_section\n",
      "Applying strategy: normalize_units\n",
      "Applying strategy: normalize_biosphere_categories\n",
      "Applying strategy: normalize_biosphere_names\n",
      "Applying strategy: strip_biosphere_exc_locations\n",
      "Applying strategy: set_code_by_activity_hash\n",
      "Applying strategy: link_iterable_by_fields\n",
      "Applying strategy: assign_only_product_as_production\n",
      "Applying strategy: link_technosphere_by_activity_hash\n",
      "Applying strategy: drop_falsey_uncertainty_fields_but_keep_zeros\n",
      "Applying strategy: convert_uncertainty_types_to_integers\n",
      "Applying strategy: convert_activity_parameters_to_list\n",
      "Applied 16 strategies in 3.27 seconds\n",
      "Matching database: ev391cutoff\n",
      "Applying strategy: link_iterable_by_fields\n"
     ]
    },
    {
     "name": "stderr",
     "output_type": "stream",
     "text": [
      "Writing activities to SQLite3 database:\n"
     ]
    },
    {
     "name": "stdout",
     "output_type": "stream",
     "text": [
      "23 datasets\n",
      "204 exchanges\n",
      "0 unlinked exchanges\n",
      "  \n",
      "Wrote matching file to:\n",
      "C:\\Users\\ruw\\AppData\\Local\\pylca\\Brightway3\\Penicillin.7179b081106185b3e43fbe3ebfd7f229\\output\\db-matching-penicillin_cut_off_CH-unlinked.xlsx\n"
     ]
    },
    {
     "name": "stderr",
     "output_type": "stream",
     "text": [
      "0% [#######################] 100% | ETA: 00:00:00\n",
      "Total time elapsed: 00:00:00\n"
     ]
    },
    {
     "name": "stdout",
     "output_type": "stream",
     "text": [
      "Title: Writing activities to SQLite3 database:\n",
      "  Started: 05/09/2025 14:41:09\n",
      "  Finished: 05/09/2025 14:41:09\n",
      "  Total time elapsed: 00:00:00\n",
      "  CPU %: 208.30\n",
      "  Memory %: 6.28\n",
      "Created database: penicillin_cut_off_CH\n",
      "Extracted 1 worksheets in 0.04 seconds\n",
      "Applying strategy: csv_restore_tuples\n",
      "Applying strategy: csv_restore_booleans\n",
      "Applying strategy: csv_numerize\n",
      "Applying strategy: csv_drop_unknown\n",
      "Applying strategy: csv_add_missing_exchanges_section\n",
      "Applying strategy: normalize_units\n",
      "Applying strategy: normalize_biosphere_categories\n",
      "Applying strategy: normalize_biosphere_names\n",
      "Applying strategy: strip_biosphere_exc_locations\n",
      "Applying strategy: set_code_by_activity_hash\n",
      "Applying strategy: link_iterable_by_fields\n",
      "Applying strategy: assign_only_product_as_production\n",
      "Applying strategy: link_technosphere_by_activity_hash\n",
      "Applying strategy: drop_falsey_uncertainty_fields_but_keep_zeros\n",
      "Applying strategy: convert_uncertainty_types_to_integers\n",
      "Applying strategy: convert_activity_parameters_to_list\n",
      "Applied 16 strategies in 3.18 seconds\n",
      "Matching database: ev391cutoff\n",
      "Applying strategy: link_iterable_by_fields\n"
     ]
    },
    {
     "name": "stderr",
     "output_type": "stream",
     "text": [
      "Writing activities to SQLite3 database:\n"
     ]
    },
    {
     "name": "stdout",
     "output_type": "stream",
     "text": [
      "23 datasets\n",
      "208 exchanges\n",
      "0 unlinked exchanges\n",
      "  \n",
      "Wrote matching file to:\n",
      "C:\\Users\\ruw\\AppData\\Local\\pylca\\Brightway3\\Penicillin.7179b081106185b3e43fbe3ebfd7f229\\output\\db-matching-penicillin_cut_off_US-unlinked.xlsx\n"
     ]
    },
    {
     "name": "stderr",
     "output_type": "stream",
     "text": [
      "0% [#######################] 100% | ETA: 00:00:00\n",
      "Total time elapsed: 00:00:00\n"
     ]
    },
    {
     "name": "stdout",
     "output_type": "stream",
     "text": [
      "Title: Writing activities to SQLite3 database:\n",
      "  Started: 05/09/2025 14:41:15\n",
      "  Finished: 05/09/2025 14:41:15\n",
      "  Total time elapsed: 00:00:00\n",
      "  CPU %: 0.00\n",
      "  Memory %: 6.31\n",
      "Created database: penicillin_cut_off_US\n"
     ]
    }
   ],
   "source": [
    "import_databases(matching_database, path, sensitivty=True)"
   ]
  },
  {
   "cell_type": "code",
   "execution_count": 41,
   "id": "396dd314",
   "metadata": {},
   "outputs": [],
   "source": [
    "for sheet in sheets_to_import:\n",
    "    data = pd.read_excel(system_path, sheet_name=sheet)\n",
    "    db = data.columns[1]"
   ]
  },
  {
   "cell_type": "code",
   "execution_count": 42,
   "id": "b4a14ab6",
   "metadata": {},
   "outputs": [
    {
     "data": {
      "text/plain": [
       "{'penicillin_cut_off_IN': [{'Penicillin V, defined system' (unit, DK, None): 1},\n",
       "  {'Penicillin G, defined system' (unit, DK, None): 1}],\n",
       " 'penicillin_cut_off_CN': [{'Penicillin V, defined system' (unit, DK, None): 1},\n",
       "  {'Penicillin G, defined system' (unit, DK, None): 1}],\n",
       " 'penicillin_cut_off_IT': [{'Penicillin V, defined system' (unit, DK, None): 1},\n",
       "  {'Penicillin G, defined system' (unit, DK, None): 1}],\n",
       " 'penicillin_cut_off_CH': [{'Penicillin V, defined system' (unit, DK, None): 1},\n",
       "  {'Penicillin G, defined system' (unit, DK, None): 1}],\n",
       " 'penicillin_cut_off_US': [{'Penicillin V, defined system' (unit, US, None): 1},\n",
       "  {'Penicillin G, defined system' (unit, DK, None): 1}]}"
      ]
     },
     "execution_count": 42,
     "metadata": {},
     "output_type": "execute_result"
    }
   ],
   "source": [
    "func_unit = {}\n",
    "# Check if the database is case1\n",
    "for sheet in sheets_to_import:\n",
    "    data = pd.read_excel(system_path, sheet_name=sheet)\n",
    "    db_name = data.columns[1]\n",
    "    db = bd.Database(db_name)\n",
    "    func_unit[db_name] = []\n",
    "    # print(db)\n",
    "    for act in db:\n",
    "        temp = act['name']\n",
    "        # Check if the flow is valid and add to the flow list\n",
    "        if \"defined\" in temp:\n",
    "            func_unit[db_name].append({act : 1})\n",
    "\n",
    "func_unit\n"
   ]
  },
  {
   "cell_type": "code",
   "execution_count": 43,
   "id": "d85ba7aa",
   "metadata": {},
   "outputs": [],
   "source": [
    "sorted_fu_keys = list(func_unit.keys())\n",
    "sorted_fu_keys.sort()\n",
    "sorted_fu_keys\n",
    "\n",
    "sorted_act = [\"G\", \"V\"]\n",
    "sorted_func_unit = {}"
   ]
  },
  {
   "cell_type": "code",
   "execution_count": null,
   "id": "69c47f8f",
   "metadata": {},
   "outputs": [
    {
     "data": {
      "text/plain": [
       "{'penicillin_cut_off_CH': [{'Penicillin G, defined system' (unit, DK, None): 1},\n",
       "  {'Penicillin V, defined system' (unit, DK, None): 1}],\n",
       " 'penicillin_cut_off_CN': [{'Penicillin G, defined system' (unit, DK, None): 1},\n",
       "  {'Penicillin V, defined system' (unit, DK, None): 1}],\n",
       " 'penicillin_cut_off_IN': [{'Penicillin G, defined system' (unit, DK, None): 1},\n",
       "  {'Penicillin V, defined system' (unit, DK, None): 1}],\n",
       " 'penicillin_cut_off_IT': [{'Penicillin G, defined system' (unit, DK, None): 1},\n",
       "  {'Penicillin V, defined system' (unit, DK, None): 1}],\n",
       " 'penicillin_cut_off_US': [{'Penicillin G, defined system' (unit, DK, None): 1},\n",
       "  {'Penicillin V, defined system' (unit, US, None): 1}]}"
      ]
     },
     "execution_count": 44,
     "metadata": {},
     "output_type": "execute_result"
    }
   ],
   "source": [
    "for country in sorted_fu_keys:\n",
    "    fu_temp = {}\n",
    "    sorted_func_unit[country] = []\n",
    "    for act in sorted_act:\n",
    "        for fu in func_unit[country]:\n",
    "            if act in str(fu.keys()):\n",
    "                sorted_func_unit[country].append(fu)\n"
   ]
  },
  {
   "cell_type": "code",
   "execution_count": 45,
   "id": "8d67a789",
   "metadata": {},
   "outputs": [],
   "source": [
    "impact_cat = lca_var.lcia_impact_method()\n",
    "impact_cat_GWP = impact_cat[1]\n"
   ]
  },
  {
   "cell_type": "code",
   "execution_count": 46,
   "id": "d8192886",
   "metadata": {},
   "outputs": [
    {
     "name": "stdout",
     "output_type": "stream",
     "text": [
      "Performing sensitivity for penicillin_cut_off_CH\n",
      "Performing sensitivity for penicillin_cut_off_CN\n",
      "Performing sensitivity for penicillin_cut_off_IN\n",
      "Performing sensitivity for penicillin_cut_off_IT\n",
      "Performing sensitivity for penicillin_cut_off_US\n"
     ]
    }
   ],
   "source": [
    "# Set up and perform the LCA calculation\n",
    "res_arr = {}\n",
    "for country, fu in sorted_func_unit.items():\n",
    "    print(f\"Performing sensitivity for {country}\")\n",
    "    bd.calculation_setups[f'sensitivity_countries'] = {'inv': fu, 'ia': [impact_cat_GWP]}\n",
    "    mylca = bc.MultiLCA(f'sensitivity_countries')\n",
    "    res = mylca.results\n",
    "\n",
    "    res_arr[country] = res"
   ]
  },
  {
   "cell_type": "code",
   "execution_count": 47,
   "id": "33a2150d",
   "metadata": {},
   "outputs": [
    {
     "data": {
      "text/plain": [
       "{'penicillin_cut_off_CH': array([[0.98378887],\n",
       "        [0.01878759]]),\n",
       " 'penicillin_cut_off_CN': array([[1.02376153],\n",
       "        [0.03599209]]),\n",
       " 'penicillin_cut_off_IN': array([[1.04637921],\n",
       "        [0.04324826]]),\n",
       " 'penicillin_cut_off_IT': array([[1.00250461],\n",
       "        [0.02415854]]),\n",
       " 'penicillin_cut_off_US': array([[0.99893339],\n",
       "        [0.02814544]])}"
      ]
     },
     "execution_count": 47,
     "metadata": {},
     "output_type": "execute_result"
    }
   ],
   "source": [
    "res_arr"
   ]
  },
  {
   "cell_type": "code",
   "execution_count": 48,
   "id": "5580b099",
   "metadata": {},
   "outputs": [
    {
     "data": {
      "application/vnd.microsoft.datawrangler.viewer.v0+json": {
       "columns": [
        {
         "name": "index",
         "rawType": "object",
         "type": "string"
        },
        {
         "name": "Pen G",
         "rawType": "object",
         "type": "unknown"
        },
        {
         "name": "Pen V",
         "rawType": "object",
         "type": "unknown"
        }
       ],
       "conversionMethod": "pd.DataFrame",
       "ref": "5cbfd921-97e6-4a10-80f0-db3020798ece",
       "rows": [
        [
         "penicillin_cut_off_CH",
         "0.9837888742730073",
         "0.018787585607502853"
        ],
        [
         "penicillin_cut_off_CN",
         "1.023761532900875",
         "0.03599209022604138"
        ],
        [
         "penicillin_cut_off_IN",
         "1.046379214047644",
         "0.0432482606195605"
        ],
        [
         "penicillin_cut_off_IT",
         "1.0025046074023503",
         "0.024158538535980247"
        ],
        [
         "penicillin_cut_off_US",
         "0.9989333925277174",
         "0.02814544119266722"
        ]
       ],
       "shape": {
        "columns": 2,
        "rows": 5
       }
      },
      "text/html": [
       "<div>\n",
       "<style scoped>\n",
       "    .dataframe tbody tr th:only-of-type {\n",
       "        vertical-align: middle;\n",
       "    }\n",
       "\n",
       "    .dataframe tbody tr th {\n",
       "        vertical-align: top;\n",
       "    }\n",
       "\n",
       "    .dataframe thead th {\n",
       "        text-align: right;\n",
       "    }\n",
       "</style>\n",
       "<table border=\"1\" class=\"dataframe\">\n",
       "  <thead>\n",
       "    <tr style=\"text-align: right;\">\n",
       "      <th></th>\n",
       "      <th>Pen G</th>\n",
       "      <th>Pen V</th>\n",
       "    </tr>\n",
       "  </thead>\n",
       "  <tbody>\n",
       "    <tr>\n",
       "      <th>penicillin_cut_off_CH</th>\n",
       "      <td>0.983789</td>\n",
       "      <td>0.018788</td>\n",
       "    </tr>\n",
       "    <tr>\n",
       "      <th>penicillin_cut_off_CN</th>\n",
       "      <td>1.023762</td>\n",
       "      <td>0.035992</td>\n",
       "    </tr>\n",
       "    <tr>\n",
       "      <th>penicillin_cut_off_IN</th>\n",
       "      <td>1.046379</td>\n",
       "      <td>0.043248</td>\n",
       "    </tr>\n",
       "    <tr>\n",
       "      <th>penicillin_cut_off_IT</th>\n",
       "      <td>1.002505</td>\n",
       "      <td>0.024159</td>\n",
       "    </tr>\n",
       "    <tr>\n",
       "      <th>penicillin_cut_off_US</th>\n",
       "      <td>0.998933</td>\n",
       "      <td>0.028145</td>\n",
       "    </tr>\n",
       "  </tbody>\n",
       "</table>\n",
       "</div>"
      ],
      "text/plain": [
       "                          Pen G     Pen V\n",
       "penicillin_cut_off_CH  0.983789  0.018788\n",
       "penicillin_cut_off_CN  1.023762  0.035992\n",
       "penicillin_cut_off_IN  1.046379  0.043248\n",
       "penicillin_cut_off_IT  1.002505  0.024159\n",
       "penicillin_cut_off_US  0.998933  0.028145"
      ]
     },
     "execution_count": 48,
     "metadata": {},
     "output_type": "execute_result"
    }
   ],
   "source": [
    "df = pd.DataFrame(0, index=[\"Pen G\", \"Pen V\"], columns=list(res_arr.keys()), dtype=object)\n",
    "\n",
    "\n",
    "\n",
    "for row, (country, arr) in enumerate(res_arr.items()):\n",
    "    for idx, val in enumerate(arr):\n",
    "        # print(idx, row, val[0])\n",
    "        df.iloc[idx, row] = val[0]\n",
    "\n",
    "\n",
    "df = df.T\n",
    "df"
   ]
  },
  {
   "cell_type": "code",
   "execution_count": 49,
   "id": "bb378d66",
   "metadata": {},
   "outputs": [],
   "source": [
    "penV = df[\"Pen V\"].to_dict()\n",
    "\n",
    "for key, val in penV.items():\n",
    "    penV[key] = val* 1000\n",
    "\n",
    "penG = df[\"Pen G\"].to_dict()"
   ]
  },
  {
   "cell_type": "code",
   "execution_count": 50,
   "id": "1d0f1eaa",
   "metadata": {},
   "outputs": [],
   "source": [
    "import matplotlib.pyplot as plt\n",
    "from matplotlib.offsetbox import OffsetImage, AnnotationBbox\n",
    "import matplotlib.pyplot as plt\n",
    "import matplotlib.image as mpimg\n",
    "import seaborn as sns\n",
    "import pandas as pd"
   ]
  },
  {
   "cell_type": "code",
   "execution_count": 51,
   "id": "41a22258",
   "metadata": {},
   "outputs": [],
   "source": [
    "img_dct = {\n",
    "    \"IN\" : mpimg.imread(r'C:\\Users\\ruw\\Desktop\\RA\\penicilin\\india.jpg'),\n",
    "    \"CN\" : mpimg.imread(r'C:\\Users\\ruw\\Desktop\\RA\\penicilin\\china.jpg'),\n",
    "    \"US\" : mpimg.imread(r'C:\\Users\\ruw\\Desktop\\RA\\penicilin\\usa.jpg'),\n",
    "    \"IT\" : mpimg.imread(r'C:\\Users\\ruw\\Desktop\\RA\\penicilin\\italy.jpg'),\n",
    "    \"CH\" : mpimg.imread(r'C:\\Users\\ruw\\Desktop\\RA\\penicilin\\switzerland.jpg')}"
   ]
  },
  {
   "cell_type": "code",
   "execution_count": 52,
   "id": "40bf8dd8",
   "metadata": {},
   "outputs": [],
   "source": [
    "x_tick_label = []\n",
    "\n",
    "for key in sorted_func_unit.keys():\n",
    "    x_tick_label.append(key[-2:])"
   ]
  },
  {
   "cell_type": "code",
   "execution_count": null,
   "id": "de11505c",
   "metadata": {},
   "outputs": [],
   "source": [
    "y_label = \"gram CO$_2$-eq/FU\""
   ]
  },
  {
   "cell_type": "code",
   "execution_count": 1,
   "id": "8fa64bef",
   "metadata": {},
   "outputs": [
    {
     "ename": "NameError",
     "evalue": "name 'penG' is not defined",
     "output_type": "error",
     "traceback": [
      "\u001b[1;31m---------------------------------------------------------------------------\u001b[0m",
      "\u001b[1;31mNameError\u001b[0m                                 Traceback (most recent call last)",
      "Cell \u001b[1;32mIn[1], line 2\u001b[0m\n\u001b[0;32m      1\u001b[0m \u001b[38;5;66;03m# Create some data\u001b[39;00m\n\u001b[1;32m----> 2\u001b[0m data_G \u001b[38;5;241m=\u001b[39m {\u001b[38;5;124m'\u001b[39m\u001b[38;5;124m'\u001b[39m: \u001b[38;5;28mlist\u001b[39m(\u001b[43mpenG\u001b[49m\u001b[38;5;241m.\u001b[39mkeys()), \u001b[38;5;124mf\u001b[39m\u001b[38;5;124m'\u001b[39m\u001b[38;5;124mkilo\u001b[39m\u001b[38;5;132;01m{\u001b[39;00my_label\u001b[38;5;132;01m}\u001b[39;00m\u001b[38;5;124m'\u001b[39m: \u001b[38;5;28mlist\u001b[39m(penG\u001b[38;5;241m.\u001b[39mvalues())}\n\u001b[0;32m      3\u001b[0m df_G \u001b[38;5;241m=\u001b[39m pd\u001b[38;5;241m.\u001b[39mDataFrame(data_G)\n\u001b[0;32m      5\u001b[0m \u001b[38;5;66;03m# Create the scatter plot\u001b[39;00m\n",
      "\u001b[1;31mNameError\u001b[0m: name 'penG' is not defined"
     ]
    }
   ],
   "source": [
    "# Create some data\n",
    "data_G = {'': list(penG.keys()), f'kilo{y_label}': list(penG.values())}\n",
    "df_G = pd.DataFrame(data_G)\n",
    "\n",
    "# Create the scatter plot\n",
    "fig, ax = plt.subplots(figsize=(7, 5))\n",
    "sns.scatterplot(data=df_G, x='', y=f'kilo{y_label}', ax=ax, s=20)\n",
    "\n",
    "# Add custom markers\n",
    "for (xi, yi) in zip(df_G[''], df_G[f'kilo{y_label}']):\n",
    "    for c, i in img_dct.items():\n",
    "        if c in xi:\n",
    "            imagebox = OffsetImage(i, zoom=0.025)\n",
    "    ab = AnnotationBbox(imagebox, (xi, yi), frameon=False)\n",
    "    ax.add_artist(ab)\n",
    "\n",
    "ax.grid(axis='y', linestyle='--', alpha=0.7)\n",
    "\n",
    "# Remove x-ticks\n",
    "ax.set_xticks(range(len(x_tick_label)))\n",
    "ax.set_xticklabels(x_tick_label)\n",
    "ax.set_ylim(0, 1.2)\n",
    "plt.title(\"Penicillin G - Differet location of production site\")\n",
    "plt.show()\n"
   ]
  },
  {
   "cell_type": "code",
   "execution_count": 60,
   "id": "2cc9f56d",
   "metadata": {},
   "outputs": [
    {
     "data": {
      "image/png": "[encoded data removed]",
      "text/plain": [
       "<Figure size 700x500 with 1 Axes>"
      ]
     },
     "metadata": {},
     "output_type": "display_data"
    }
   ],
   "source": [
    "# Create some data\n",
    "data_V = {'': list(penV.keys()), y_label: list(penV.values())}\n",
    "df_V = pd.DataFrame(data_V)\n",
    "\n",
    "# Create the scatter plot\n",
    "fig, ax = plt.subplots(figsize=(7, 5))\n",
    "sns.scatterplot(data=df_V, x='', y=y_label, ax=ax, s=10)\n",
    "\n",
    "# Add custom markers\n",
    "for (xi, yi) in zip(df_V[''], df_V[y_label]):\n",
    "    for c, i in img_dct.items():\n",
    "        if c in xi:\n",
    "            imagebox = OffsetImage(i, zoom=0.025)\n",
    "    ab = AnnotationBbox(imagebox, (xi, yi), frameon=False)\n",
    "    ax.add_artist(ab)\n",
    "\n",
    "# Add grid lines for the y-axis\n",
    "ax.grid(axis='y', linestyle='--', alpha=0.7)\n",
    "\n",
    "# Remove x-ticks\n",
    "ax.set_xticks(range(len(x_tick_label)))\n",
    "ax.set_xticklabels(x_tick_label)\n",
    "ax.set_ylim(0, 50)\n",
    "plt.title(\"Penicillin V - Differet location of production site\")\n",
    "plt.show()"
   ]
  }
 ],
 "metadata": {
  "kernelspec": {
   "display_name": "Python 3",
   "language": "python",
   "name": "python3"
  },
  "language_info": {
   "codemirror_mode": {
    "name": "ipython",
    "version": 3
   },
   "file_extension": ".py",
   "mimetype": "text/x-python",
   "name": "python",
   "nbconvert_exporter": "python",
   "pygments_lexer": "ipython3",
   "version": "3.11.9"
  }
 },
 "nbformat": 4,
 "nbformat_minor": 5
}
