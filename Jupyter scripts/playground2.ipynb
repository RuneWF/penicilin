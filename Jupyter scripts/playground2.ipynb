{
 "cells": [
  {
   "cell_type": "code",
   "execution_count": 4,
   "id": "23cad0c5",
   "metadata": {},
   "outputs": [],
   "source": [
    "path = r'C:/Users/ruw/Desktop'\n",
    "import sys # https://stackoverflow.com/questions/4383571/importing-files-from-different-folder\n",
    "sys.path.insert(1, rf'{path}\\RA\\penicilin\\Libaries')"
   ]
  },
  {
   "cell_type": "code",
   "execution_count": 9,
   "id": "7f961c2c",
   "metadata": {},
   "outputs": [
    {
     "ename": "ImportError",
     "evalue": "cannot import name 'LCA' from partially initialized module 'lca' (most likely due to a circular import) (C:\\Users/ruw/Desktop\\RA\\penicilin\\Libaries\\lca.py)",
     "output_type": "error",
     "traceback": [
      "\u001b[1;31m---------------------------------------------------------------------------\u001b[0m",
      "\u001b[1;31mImportError\u001b[0m                               Traceback (most recent call last)",
      "Cell \u001b[1;32mIn[9], line 1\u001b[0m\n\u001b[1;32m----> 1\u001b[0m \u001b[38;5;28;01mimport\u001b[39;00m \u001b[38;5;21;01mlca\u001b[39;00m\n",
      "File \u001b[1;32mC:\\Users/ruw/Desktop\\RA\\penicilin\\Libaries\\lca.py:11\u001b[0m\n\u001b[0;32m      9\u001b[0m \u001b[38;5;66;03m# Importing self-made libraries\u001b[39;00m\n\u001b[0;32m     10\u001b[0m \u001b[38;5;28;01mfrom\u001b[39;00m \u001b[38;5;21;01mstandards\u001b[39;00m \u001b[38;5;28;01mimport\u001b[39;00m \u001b[38;5;241m*\u001b[39m\n\u001b[1;32m---> 11\u001b[0m \u001b[38;5;28;01mimport\u001b[39;00m \u001b[38;5;21;01mdatabase_manipulation\u001b[39;00m \u001b[38;5;28;01mas\u001b[39;00m \u001b[38;5;21;01mdm\u001b[39;00m\n\u001b[0;32m     13\u001b[0m \u001b[38;5;28;01mclass\u001b[39;00m \u001b[38;5;21;01mLCA\u001b[39;00m():\n\u001b[0;32m     14\u001b[0m     \u001b[38;5;66;03m# initialization of all the required parameters\u001b[39;00m\n\u001b[0;32m     15\u001b[0m     \u001b[38;5;28;01mdef\u001b[39;00m \u001b[38;5;21m__init__\u001b[39m(\u001b[38;5;28mself\u001b[39m, path, matching_database, lcia_meth\u001b[38;5;241m=\u001b[39m\u001b[38;5;124m'\u001b[39m\u001b[38;5;124mrecipe\u001b[39m\u001b[38;5;124m'\u001b[39m, bw_project\u001b[38;5;241m=\u001b[39m\u001b[38;5;124m\"\u001b[39m\u001b[38;5;124mPenicillin\u001b[39m\u001b[38;5;124m\"\u001b[39m):\n",
      "File \u001b[1;32mC:\\Users/ruw/Desktop\\RA\\penicilin\\Libaries\\database_manipulation.py:9\u001b[0m\n\u001b[0;32m      5\u001b[0m \u001b[38;5;28;01mimport\u001b[39;00m \u001b[38;5;21;01mpandas\u001b[39;00m \u001b[38;5;28;01mas\u001b[39;00m \u001b[38;5;21;01mpd\u001b[39;00m\n\u001b[0;32m      7\u001b[0m \u001b[38;5;28;01mimport\u001b[39;00m \u001b[38;5;21;01mstandards\u001b[39;00m \u001b[38;5;28;01mas\u001b[39;00m \u001b[38;5;21;01ms\u001b[39;00m\n\u001b[1;32m----> 9\u001b[0m \u001b[38;5;28;01mfrom\u001b[39;00m \u001b[38;5;21;01mlca\u001b[39;00m \u001b[38;5;28;01mimport\u001b[39;00m LCA\n\u001b[0;32m     11\u001b[0m path \u001b[38;5;241m=\u001b[39m \u001b[38;5;124mr\u001b[39m\u001b[38;5;124m'\u001b[39m\u001b[38;5;124mC:/Users/ruw/Desktop\u001b[39m\u001b[38;5;124m'\u001b[39m\n\u001b[0;32m     12\u001b[0m matching_database \u001b[38;5;241m=\u001b[39m \u001b[38;5;124m\"\u001b[39m\u001b[38;5;124mev391cutoff\u001b[39m\u001b[38;5;124m\"\u001b[39m\n",
      "\u001b[1;31mImportError\u001b[0m: cannot import name 'LCA' from partially initialized module 'lca' (most likely due to a circular import) (C:\\Users/ruw/Desktop\\RA\\penicilin\\Libaries\\lca.py)"
     ]
    }
   ],
   "source": [
    "import lca"
   ]
  },
  {
   "cell_type": "code",
   "execution_count": 27,
   "id": "0a3b260b",
   "metadata": {},
   "outputs": [],
   "source": [
    "import standards as s\n",
    "\n",
    "\n",
    "import bw2data as bd\n",
    "import bw2calc as bc\n",
    "import pandas as pd\n",
    "\n",
    "import matplotlib.pyplot as plt\n",
    "from reload_lib import reload_lib as rl\n",
    "import database_manipulation\n",
    "import lca\n",
    "\n",
    "import numpy as np\n",
    "\n",
    "import standards as s\n",
    "import sensitivity_EoL as eol"
   ]
  },
  {
   "cell_type": "code",
   "execution_count": null,
   "id": "4d2a0fc1",
   "metadata": {},
   "outputs": [],
   "source": [
    "matching_database = \"ev391cutoff\"\n",
    "database = \"penicillin_cut_off\""
   ]
  },
  {
   "cell_type": "code",
   "execution_count": 43,
   "id": "79f124ec",
   "metadata": {},
   "outputs": [],
   "source": [
    "import results_figures as rfig"
   ]
  },
  {
   "cell_type": "code",
   "execution_count": null,
   "id": "a8829152",
   "metadata": {},
   "outputs": [],
   "source": [
    "from lca import LCA\n",
    "\n",
    "lca_init = LCA(path=path, matching_database=matching_database)\n"
   ]
  },
  {
   "cell_type": "code",
   "execution_count": 46,
   "id": "16793ade",
   "metadata": {},
   "outputs": [
    {
     "data": {
      "application/vnd.microsoft.datawrangler.viewer.v0+json": {
       "columns": [
        {
         "name": "index",
         "rawType": "object",
         "type": "string"
        },
        {
         "name": "('ReCiPe 2016 v1.03, midpoint (H) - no biogenic', 'acidification: terrestrial', 'terrestrial acidification potential (TAP)')",
         "rawType": "float64",
         "type": "float"
        },
        {
         "name": "('ReCiPe 2016 v1.03, midpoint (H) - no biogenic', 'climate change', 'global warming potential (GWP1000)')",
         "rawType": "float64",
         "type": "float"
        },
        {
         "name": "('ReCiPe 2016 v1.03, midpoint (H) - no biogenic', 'ecotoxicity: freshwater', 'freshwater ecotoxicity potential (FETP)')",
         "rawType": "float64",
         "type": "float"
        },
        {
         "name": "('ReCiPe 2016 v1.03, midpoint (H) - no biogenic', 'ecotoxicity: marine', 'marine ecotoxicity potential (METP)')",
         "rawType": "float64",
         "type": "float"
        },
        {
         "name": "('ReCiPe 2016 v1.03, midpoint (H) - no biogenic', 'ecotoxicity: terrestrial', 'terrestrial ecotoxicity potential (TETP)')",
         "rawType": "float64",
         "type": "float"
        },
        {
         "name": "('ReCiPe 2016 v1.03, midpoint (H) - no biogenic', 'energy resources: non-renewable, fossil', 'fossil fuel potential (FFP)')",
         "rawType": "float64",
         "type": "float"
        },
        {
         "name": "('ReCiPe 2016 v1.03, midpoint (H) - no biogenic', 'eutrophication: freshwater', 'freshwater eutrophication potential (FEP)')",
         "rawType": "float64",
         "type": "float"
        },
        {
         "name": "('ReCiPe 2016 v1.03, midpoint (H) - no biogenic', 'eutrophication: marine', 'marine eutrophication potential (MEP)')",
         "rawType": "float64",
         "type": "float"
        },
        {
         "name": "('ReCiPe 2016 v1.03, midpoint (H) - no biogenic', 'human toxicity: carcinogenic', 'human toxicity potential (HTPc)')",
         "rawType": "float64",
         "type": "float"
        },
        {
         "name": "('ReCiPe 2016 v1.03, midpoint (H) - no biogenic', 'human toxicity: non-carcinogenic', 'human toxicity potential (HTPnc)')",
         "rawType": "float64",
         "type": "float"
        },
        {
         "name": "('ReCiPe 2016 v1.03, midpoint (H) - no biogenic', 'ionising radiation', 'ionising radiation potential (IRP)')",
         "rawType": "float64",
         "type": "float"
        },
        {
         "name": "('ReCiPe 2016 v1.03, midpoint (H) - no biogenic', 'land use', 'agricultural land occupation (LOP)')",
         "rawType": "float64",
         "type": "float"
        },
        {
         "name": "('ReCiPe 2016 v1.03, midpoint (H) - no biogenic', 'material resources: metals/minerals', 'surplus ore potential (SOP)')",
         "rawType": "float64",
         "type": "float"
        },
        {
         "name": "('ReCiPe 2016 v1.03, midpoint (H) - no biogenic', 'ozone depletion', 'ozone depletion potential (ODPinfinite)')",
         "rawType": "float64",
         "type": "float"
        },
        {
         "name": "('ReCiPe 2016 v1.03, midpoint (H) - no biogenic', 'particulate matter formation', 'particulate matter formation potential (PMFP)')",
         "rawType": "float64",
         "type": "float"
        },
        {
         "name": "('ReCiPe 2016 v1.03, midpoint (H) - no biogenic', 'photochemical oxidant formation: human health', 'photochemical oxidant formation potential: humans (HOFP)')",
         "rawType": "float64",
         "type": "float"
        },
        {
         "name": "('ReCiPe 2016 v1.03, midpoint (H) - no biogenic', 'photochemical oxidant formation: terrestrial ecosystems', 'photochemical oxidant formation potential: ecosystems (EOFP)')",
         "rawType": "float64",
         "type": "float"
        },
        {
         "name": "('ReCiPe 2016 v1.03, midpoint (H) - no biogenic', 'water use', 'water consumption potential (WCP)')",
         "rawType": "float64",
         "type": "float"
        }
       ],
       "ref": "746c2e20-5da4-4bd8-949f-1cdcc72e8d0a",
       "rows": [
        [
         "Penicillin G, defined system",
         "1.0",
         "1.0",
         "1.0",
         "1.0",
         "1.0",
         "1.0",
         "1.0",
         "1.0",
         "1.0",
         "1.0",
         "1.0",
         "1.0",
         "1.0",
         "1.0",
         "1.0",
         "1.0",
         "1.0",
         "1.0"
        ],
        [
         "Penicillin V, defined system",
         "0.06548249883081367",
         "0.06161422112800584",
         "0.045066845054182125",
         "0.041294673294090915",
         "0.051680412374716767",
         "0.05207299916315934",
         "0.09403502386509927",
         "0.14322818512478694",
         "0.04612968452296651",
         "0.054486659043106865",
         "0.06480907152035388",
         "0.056355116995131016",
         "0.03770390866715602",
         "0.14167560640703644",
         "0.07960681619428461",
         "0.05746073719572433",
         "0.055500722938581826",
         "0.10180894227624307"
        ]
       ],
       "shape": {
        "columns": 18,
        "rows": 2
       }
      },
      "text/html": [
       "<div>\n",
       "<style scoped>\n",
       "    .dataframe tbody tr th:only-of-type {\n",
       "        vertical-align: middle;\n",
       "    }\n",
       "\n",
       "    .dataframe tbody tr th {\n",
       "        vertical-align: top;\n",
       "    }\n",
       "\n",
       "    .dataframe thead th {\n",
       "        text-align: right;\n",
       "    }\n",
       "</style>\n",
       "<table border=\"1\" class=\"dataframe\">\n",
       "  <thead>\n",
       "    <tr style=\"text-align: right;\">\n",
       "      <th></th>\n",
       "      <th>(ReCiPe 2016 v1.03, midpoint (H) - no biogenic, acidification: terrestrial, terrestrial acidification potential (TAP))</th>\n",
       "      <th>(ReCiPe 2016 v1.03, midpoint (H) - no biogenic, climate change, global warming potential (GWP1000))</th>\n",
       "      <th>(ReCiPe 2016 v1.03, midpoint (H) - no biogenic, ecotoxicity: freshwater, freshwater ecotoxicity potential (FETP))</th>\n",
       "      <th>(ReCiPe 2016 v1.03, midpoint (H) - no biogenic, ecotoxicity: marine, marine ecotoxicity potential (METP))</th>\n",
       "      <th>(ReCiPe 2016 v1.03, midpoint (H) - no biogenic, ecotoxicity: terrestrial, terrestrial ecotoxicity potential (TETP))</th>\n",
       "      <th>(ReCiPe 2016 v1.03, midpoint (H) - no biogenic, energy resources: non-renewable, fossil, fossil fuel potential (FFP))</th>\n",
       "      <th>(ReCiPe 2016 v1.03, midpoint (H) - no biogenic, eutrophication: freshwater, freshwater eutrophication potential (FEP))</th>\n",
       "      <th>(ReCiPe 2016 v1.03, midpoint (H) - no biogenic, eutrophication: marine, marine eutrophication potential (MEP))</th>\n",
       "      <th>(ReCiPe 2016 v1.03, midpoint (H) - no biogenic, human toxicity: carcinogenic, human toxicity potential (HTPc))</th>\n",
       "      <th>(ReCiPe 2016 v1.03, midpoint (H) - no biogenic, human toxicity: non-carcinogenic, human toxicity potential (HTPnc))</th>\n",
       "      <th>(ReCiPe 2016 v1.03, midpoint (H) - no biogenic, ionising radiation, ionising radiation potential (IRP))</th>\n",
       "      <th>(ReCiPe 2016 v1.03, midpoint (H) - no biogenic, land use, agricultural land occupation (LOP))</th>\n",
       "      <th>(ReCiPe 2016 v1.03, midpoint (H) - no biogenic, material resources: metals/minerals, surplus ore potential (SOP))</th>\n",
       "      <th>(ReCiPe 2016 v1.03, midpoint (H) - no biogenic, ozone depletion, ozone depletion potential (ODPinfinite))</th>\n",
       "      <th>(ReCiPe 2016 v1.03, midpoint (H) - no biogenic, particulate matter formation, particulate matter formation potential (PMFP))</th>\n",
       "      <th>(ReCiPe 2016 v1.03, midpoint (H) - no biogenic, photochemical oxidant formation: human health, photochemical oxidant formation potential: humans (HOFP))</th>\n",
       "      <th>(ReCiPe 2016 v1.03, midpoint (H) - no biogenic, photochemical oxidant formation: terrestrial ecosystems, photochemical oxidant formation potential: ecosystems (EOFP))</th>\n",
       "      <th>(ReCiPe 2016 v1.03, midpoint (H) - no biogenic, water use, water consumption potential (WCP))</th>\n",
       "    </tr>\n",
       "  </thead>\n",
       "  <tbody>\n",
       "    <tr>\n",
       "      <th>Penicillin G, defined system</th>\n",
       "      <td>1.000000</td>\n",
       "      <td>1.000000</td>\n",
       "      <td>1.000000</td>\n",
       "      <td>1.000000</td>\n",
       "      <td>1.00000</td>\n",
       "      <td>1.000000</td>\n",
       "      <td>1.000000</td>\n",
       "      <td>1.000000</td>\n",
       "      <td>1.00000</td>\n",
       "      <td>1.000000</td>\n",
       "      <td>1.000000</td>\n",
       "      <td>1.000000</td>\n",
       "      <td>1.000000</td>\n",
       "      <td>1.000000</td>\n",
       "      <td>1.000000</td>\n",
       "      <td>1.000000</td>\n",
       "      <td>1.000000</td>\n",
       "      <td>1.000000</td>\n",
       "    </tr>\n",
       "    <tr>\n",
       "      <th>Penicillin V, defined system</th>\n",
       "      <td>0.065482</td>\n",
       "      <td>0.061614</td>\n",
       "      <td>0.045067</td>\n",
       "      <td>0.041295</td>\n",
       "      <td>0.05168</td>\n",
       "      <td>0.052073</td>\n",
       "      <td>0.094035</td>\n",
       "      <td>0.143228</td>\n",
       "      <td>0.04613</td>\n",
       "      <td>0.054487</td>\n",
       "      <td>0.064809</td>\n",
       "      <td>0.056355</td>\n",
       "      <td>0.037704</td>\n",
       "      <td>0.141676</td>\n",
       "      <td>0.079607</td>\n",
       "      <td>0.057461</td>\n",
       "      <td>0.055501</td>\n",
       "      <td>0.101809</td>\n",
       "    </tr>\n",
       "  </tbody>\n",
       "</table>\n",
       "</div>"
      ],
      "text/plain": [
       "                              (ReCiPe 2016 v1.03, midpoint (H) - no biogenic, acidification: terrestrial, terrestrial acidification potential (TAP))  \\\n",
       "Penicillin G, defined system                                           1.000000                                                                        \n",
       "Penicillin V, defined system                                           0.065482                                                                        \n",
       "\n",
       "                              (ReCiPe 2016 v1.03, midpoint (H) - no biogenic, climate change, global warming potential (GWP1000))  \\\n",
       "Penicillin G, defined system                                           1.000000                                                     \n",
       "Penicillin V, defined system                                           0.061614                                                     \n",
       "\n",
       "                              (ReCiPe 2016 v1.03, midpoint (H) - no biogenic, ecotoxicity: freshwater, freshwater ecotoxicity potential (FETP))  \\\n",
       "Penicillin G, defined system                                           1.000000                                                                   \n",
       "Penicillin V, defined system                                           0.045067                                                                   \n",
       "\n",
       "                              (ReCiPe 2016 v1.03, midpoint (H) - no biogenic, ecotoxicity: marine, marine ecotoxicity potential (METP))  \\\n",
       "Penicillin G, defined system                                           1.000000                                                           \n",
       "Penicillin V, defined system                                           0.041295                                                           \n",
       "\n",
       "                              (ReCiPe 2016 v1.03, midpoint (H) - no biogenic, ecotoxicity: terrestrial, terrestrial ecotoxicity potential (TETP))  \\\n",
       "Penicillin G, defined system                                            1.00000                                                                     \n",
       "Penicillin V, defined system                                            0.05168                                                                     \n",
       "\n",
       "                              (ReCiPe 2016 v1.03, midpoint (H) - no biogenic, energy resources: non-renewable, fossil, fossil fuel potential (FFP))  \\\n",
       "Penicillin G, defined system                                           1.000000                                                                       \n",
       "Penicillin V, defined system                                           0.052073                                                                       \n",
       "\n",
       "                              (ReCiPe 2016 v1.03, midpoint (H) - no biogenic, eutrophication: freshwater, freshwater eutrophication potential (FEP))  \\\n",
       "Penicillin G, defined system                                           1.000000                                                                        \n",
       "Penicillin V, defined system                                           0.094035                                                                        \n",
       "\n",
       "                              (ReCiPe 2016 v1.03, midpoint (H) - no biogenic, eutrophication: marine, marine eutrophication potential (MEP))  \\\n",
       "Penicillin G, defined system                                           1.000000                                                                \n",
       "Penicillin V, defined system                                           0.143228                                                                \n",
       "\n",
       "                              (ReCiPe 2016 v1.03, midpoint (H) - no biogenic, human toxicity: carcinogenic, human toxicity potential (HTPc))  \\\n",
       "Penicillin G, defined system                                            1.00000                                                                \n",
       "Penicillin V, defined system                                            0.04613                                                                \n",
       "\n",
       "                              (ReCiPe 2016 v1.03, midpoint (H) - no biogenic, human toxicity: non-carcinogenic, human toxicity potential (HTPnc))  \\\n",
       "Penicillin G, defined system                                           1.000000                                                                     \n",
       "Penicillin V, defined system                                           0.054487                                                                     \n",
       "\n",
       "                              (ReCiPe 2016 v1.03, midpoint (H) - no biogenic, ionising radiation, ionising radiation potential (IRP))  \\\n",
       "Penicillin G, defined system                                           1.000000                                                         \n",
       "Penicillin V, defined system                                           0.064809                                                         \n",
       "\n",
       "                              (ReCiPe 2016 v1.03, midpoint (H) - no biogenic, land use, agricultural land occupation (LOP))  \\\n",
       "Penicillin G, defined system                                           1.000000                                               \n",
       "Penicillin V, defined system                                           0.056355                                               \n",
       "\n",
       "                              (ReCiPe 2016 v1.03, midpoint (H) - no biogenic, material resources: metals/minerals, surplus ore potential (SOP))  \\\n",
       "Penicillin G, defined system                                           1.000000                                                                   \n",
       "Penicillin V, defined system                                           0.037704                                                                   \n",
       "\n",
       "                              (ReCiPe 2016 v1.03, midpoint (H) - no biogenic, ozone depletion, ozone depletion potential (ODPinfinite))  \\\n",
       "Penicillin G, defined system                                           1.000000                                                           \n",
       "Penicillin V, defined system                                           0.141676                                                           \n",
       "\n",
       "                              (ReCiPe 2016 v1.03, midpoint (H) - no biogenic, particulate matter formation, particulate matter formation potential (PMFP))  \\\n",
       "Penicillin G, defined system                                           1.000000                                                                              \n",
       "Penicillin V, defined system                                           0.079607                                                                              \n",
       "\n",
       "                              (ReCiPe 2016 v1.03, midpoint (H) - no biogenic, photochemical oxidant formation: human health, photochemical oxidant formation potential: humans (HOFP))  \\\n",
       "Penicillin G, defined system                                           1.000000                                                                                                          \n",
       "Penicillin V, defined system                                           0.057461                                                                                                          \n",
       "\n",
       "                              (ReCiPe 2016 v1.03, midpoint (H) - no biogenic, photochemical oxidant formation: terrestrial ecosystems, photochemical oxidant formation potential: ecosystems (EOFP))  \\\n",
       "Penicillin G, defined system                                           1.000000                                                                                                                        \n",
       "Penicillin V, defined system                                           0.055501                                                                                                                        \n",
       "\n",
       "                              (ReCiPe 2016 v1.03, midpoint (H) - no biogenic, water use, water consumption potential (WCP))  \n",
       "Penicillin G, defined system                                           1.000000                                              \n",
       "Penicillin V, defined system                                           0.101809                                              "
      ]
     },
     "execution_count": 46,
     "metadata": {},
     "output_type": "execute_result"
    }
   ],
   "source": [
    "lst = rfig.data_set_up()\n",
    "scaled_df = lst[0]\n",
    "scaled_df"
   ]
  },
  {
   "cell_type": "code",
   "execution_count": 56,
   "id": "4e6497b6",
   "metadata": {},
   "outputs": [
    {
     "name": "stdout",
     "output_type": "stream",
     "text": [
      "Mininum valúe : 3.77%, Maximum value : 14.32%\n"
     ]
    }
   ],
   "source": [
    "min_val = None\n",
    "max_val = 0\n",
    "for col in scaled_df.columns:\n",
    "    for idx, row in scaled_df.iterrows():\n",
    "        val = row[col]\n",
    "        if min_val is None or val < min_val:\n",
    "            min_val = val\n",
    "        elif val != 1 and val > max_val:\n",
    "            max_val = val\n",
    "print(f\"Mininum valúe : {round(min_val*100,2)}%, Maximum value : {round(max_val*100,2)}%\")\n"
   ]
  }
 ],
 "metadata": {
  "kernelspec": {
   "display_name": "Python 3",
   "language": "python",
   "name": "python3"
  },
  "language_info": {
   "codemirror_mode": {
    "name": "ipython",
    "version": 3
   },
   "file_extension": ".py",
   "mimetype": "text/x-python",
   "name": "python",
   "nbconvert_exporter": "python",
   "pygments_lexer": "ipython3",
   "version": "3.11.9"
  }
 },
 "nbformat": 4,
 "nbformat_minor": 5
}
