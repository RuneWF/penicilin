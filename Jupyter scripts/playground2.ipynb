{
 "cells": [
  {
   "cell_type": "code",
   "execution_count": 1,
   "id": "23cad0c5",
   "metadata": {},
   "outputs": [],
   "source": [
    "path = r'C:/Users/ruw/Desktop'\n",
    "import sys # https://stackoverflow.com/questions/4383571/importing-files-from-different-folder\n",
    "sys.path.insert(1, rf'{path}\\RA\\penicilin\\Libaries')"
   ]
  },
  {
   "cell_type": "code",
   "execution_count": null,
   "id": "0a3b260b",
   "metadata": {},
   "outputs": [],
   "source": [
    "import standards as s\n",
    "\n",
    "\n",
    "import bw2data as bd\n",
    "import bw2calc as bc\n",
    "import pandas as pd\n",
    "\n",
    "import matplotlib.pyplot as plt\n",
    "\n",
    "\n",
    "import standards as s\n"
   ]
  },
  {
   "cell_type": "code",
   "execution_count": 3,
   "id": "4d2a0fc1",
   "metadata": {},
   "outputs": [],
   "source": [
    "matching_database = \"ev391cutoff\"\n",
    "database = \"penicillin_cut_off\""
   ]
  },
  {
   "cell_type": "code",
   "execution_count": 4,
   "id": "a8829152",
   "metadata": {},
   "outputs": [],
   "source": [
    "from lca import LCA\n",
    "\n",
    "lca_init = LCA(path=path, matching_database=matching_database)\n"
   ]
  },
  {
   "cell_type": "code",
   "execution_count": 38,
   "id": "207c3a39",
   "metadata": {},
   "outputs": [],
   "source": [
    "func_unit_recycling = {}\n",
    "for act in lca_init.db:\n",
    "    # print(act)\n",
    "    if \"Penicillin G,\" in act[\"name\"]:\n",
    "        func_unit_recycling[act[\"name\"]] = []\n",
    "        for exc in act.exchanges():\n",
    "            if \"incineration\" in exc[\"name\"] or \"recycled\" in exc[\"name\"]:\n",
    "                func_unit_recycling[act[\"name\"]].append({exc.input : exc[\"amount\"]})\n",
    "            elif \"Penicillin G,\" in exc[\"name\"]:\n",
    "                func_unit_recycling[act[\"name\"]].append({exc.input : exc[\"amount\"]})\n",
    "\n"
   ]
  },
  {
   "cell_type": "code",
   "execution_count": 37,
   "id": "5e028bc6",
   "metadata": {},
   "outputs": [],
   "source": [
    "fu_keys_sorted = list(func_unit_recycling.keys())\n",
    "fu_keys_sorted.sort()\n",
    "fu_keys_sorted\n",
    "\n",
    "func_unit_recycling_sorted = {}\n",
    "\n",
    "for key in fu_keys_sorted:\n",
    "    func_unit_recycling_sorted[key] = func_unit_recycling[key]\n",
    "\n"
   ]
  },
  {
   "cell_type": "code",
   "execution_count": 8,
   "id": "fab3dc96",
   "metadata": {},
   "outputs": [],
   "source": [
    "ics = lca_init.lcia_impact_method()     \n",
    "pen_arr = []           \n",
    "# Set up and perform the LCA calculation\n",
    "for scenario, fu in func_unit_recycling_sorted.items():\n",
    "    bd.calculation_setups[str(scenario)] = {'inv': fu, 'ia': [ics[1]]}\n",
    "        \n",
    "    mylca = bc.MultiLCA(str(scenario))\n",
    "    res = mylca.results\n",
    "    pen_arr.append(res)"
   ]
  },
  {
   "cell_type": "code",
   "execution_count": null,
   "id": "eff65839",
   "metadata": {},
   "outputs": [
    {
     "name": "stdout",
     "output_type": "stream",
     "text": [
      "1\n",
      "1\n",
      "2\n",
      "1\n",
      "2\n",
      "1\n",
      "2\n"
     ]
    },
    {
     "data": {
      "text/plain": [
       "{'Penicillin G, defined system': {'Penicillin G, defined system' (unit, DK, None): 0.6677475851154853,\n",
       "  'treatment of hazardous waste, hazardous waste incineration, with energy recovery' (kilogram, CH, None): 0.28653211101641424},\n",
       " 'Penicillin G, recycling': {'Penicillin G, recycling' (unit, DK, None): 0.6677475886721023,\n",
       "  'treatment of hazardous waste, hazardous waste incineration, with energy recovery' (kilogram, CH, None): 0.024296576540976403,\n",
       "  'market for polyethylene, high density, granulate, recycled' (kilogram, Europe without Switzerland, None): 0.0764575276531738},\n",
       " 'Penicillin G, recycling IV': {'Penicillin G, recycling IV' (unit, DK, None): 0.6677475900466566,\n",
       "  'treatment of hazardous waste, hazardous waste incineration, with energy recovery' (kilogram, CH, None): 0.12055444319151334,\n",
       "  'market for polyethylene, high density, granulate, recycled' (kilogram, Europe without Switzerland, None): 0.04839253447825693},\n",
       " 'Penicillin G, recycling gloves': {'Penicillin G, recycling gloves' (unit, DK, None): 0.6677475825700645,\n",
       "  'treatment of hazardous waste, hazardous waste incineration, with energy recovery' (kilogram, CH, None): 0.2220169466316785,\n",
       "  'market for polyethylene, high density, granulate, recycled' (kilogram, Europe without Switzerland, None): 0.018810074698179406}}"
      ]
     },
     "execution_count": 33,
     "metadata": {},
     "output_type": "execute_result"
    }
   ],
   "source": [
    "res_countries_dct = {}\n",
    "for lst_idx, (scenario, fu) in enumerate(func_unit_recycling_sorted.items()):\n",
    "    res_countries_dct[scenario] = {}\n",
    "    for arr_idx, dct in enumerate(fu):\n",
    "        temp = {}\n",
    "        for act in dct.keys():  \n",
    "            val = pen_arr[lst_idx][arr_idx][0]\n",
    "            if arr_idx == 0:\n",
    "                act_0 = act\n",
    "                val_0 = val\n",
    "                temp[act_0] = val_0\n",
    "            else:\n",
    "                val_0 -= val\n",
    "                temp[act_0] = val_0\n",
    "                temp[act] =  val\n",
    "            res_countries_dct[scenario].update(temp)\n",
    "res_countries_dct"
   ]
  },
  {
   "cell_type": "code",
   "execution_count": null,
   "id": "4cf16d1d",
   "metadata": {},
   "outputs": [
    {
     "name": "stdout",
     "output_type": "stream",
     "text": [
      "Penicillin G, defined system\n",
      "'Penicillin G, defined system' (unit, DK, None) Other\n",
      "'Penicillin G, defined system' (unit, DK, None) Incineration\n",
      "Penicillin G, recycling\n",
      "'Penicillin G, recycling' (unit, DK, None) Other\n",
      "'Penicillin G, recycling' (unit, DK, None) Incineration\n",
      "Penicillin G, recycling IV\n",
      "'Penicillin G, recycling IV' (unit, DK, None) Other\n",
      "'Penicillin G, recycling IV' (unit, DK, None) Incineration\n",
      "Penicillin G, recycling gloves\n",
      "'Penicillin G, recycling gloves' (unit, DK, None) Other\n",
      "'Penicillin G, recycling gloves' (unit, DK, None) Incineration\n"
     ]
    }
   ],
   "source": [
    "idx_lst = [\n",
    "    \"Other\",\n",
    "    \"Incineration\",\n",
    "    \"Recycled\"\n",
    "]\n",
    "\n",
    "df = pd.DataFrame(0, index=idx_lst, columns=res_countries_dct.keys(), dtype=object)\n",
    "\n",
    "for scenario in df.columns:\n",
    "    print(scenario)\n",
    "    for idx, row in df.iterrows():\n",
    "        for act, val in res_countries_dct[scenario].items():\n",
    "            if idx.lower() in str(act):\n",
    "                row[scenario] = val\n",
    "                # print(idx, act)\n",
    "                # else:\n",
    "                #     print(idx, key)\n",
    "            elif \"Penicillin G\" in str(act) and idx_lst[-1] not in idx:\n",
    "                row[scenario] = val\n",
    "            # else:\n",
    "            #     row[scenario] = val\n",
    "\n",
    "excel_path = s.join_path(lca_init.path_github, r\"results\\sensitivity\\sens_eol_penG.xlsx\")\n",
    "\n",
    "s.save_LCIA_results(df,file_name=excel_path, sheet_name=\"EoL\")"
   ]
  },
  {
   "cell_type": "code",
   "execution_count": 35,
   "id": "e9ecbfb0",
   "metadata": {},
   "outputs": [
    {
     "data": {
      "image/png": "[encoded data removed]",
      "text/plain": [
       "<Figure size 900x500 with 1 Axes>"
      ]
     },
     "metadata": {},
     "output_type": "display_data"
    }
   ],
   "source": [
    "width = 0.5\n",
    "\n",
    "# func_unit, elec_val_G, elec_val_V = create_func_unit()\n",
    "\n",
    "# df_res_dct = results_sorting(func_unit, elec_val_V, elec_val_G, calc)\n",
    "\n",
    "plot_save_path = s.join_path(lca_init.path_github, r\"results\\figures\")\n",
    "\n",
    "\n",
    "colors = s.color_range(colorname=\"coolwarm\", color_quantity=len(df.index))\n",
    "fig, ax = plt.subplots(figsize=(9, 5))\n",
    "df.T.plot(\n",
    "    kind='bar',\n",
    "    stacked=True,\n",
    "    title=\"Global Warming Potential for different EoL for auxillary product for peniciilin G\",\n",
    "    color=colors,\n",
    "    ax=ax,\n",
    "    width=width,\n",
    "    edgecolor=\"k\",\n",
    "    zorder=10\n",
    ")\n",
    "\n",
    "leg_color, _ = fig.gca().get_legend_handles_labels()\n",
    "leg_txt = list(df.index)\n",
    "# if \"V\" in pen_type[p]:\n",
    "#     leg_txt.pop(-2)\n",
    "#     leg_color.pop(-2)\n",
    "    \n",
    "# Reverse the order of handles and labels\n",
    "leg_txt = leg_txt[::-1]\n",
    "leg_color = leg_color[::-1]\n",
    "\n",
    "ax.legend(\n",
    "        leg_color,\n",
    "        leg_txt,\n",
    "        loc='upper left',\n",
    "        bbox_to_anchor=(0.995, 1),\n",
    "        ncol= 1,  # Adactjust the number of columns based on legend size\n",
    "        fontsize=10,\n",
    "        frameon=False\n",
    "    )\n",
    "# ax.set_title(f\"Global Warming Potential for 1 treatment of penicillin {pen_type[p]}\")\n",
    "ax.set_ylabel('kilograms of CO$_2$-eq per treatment')\n",
    "\n",
    "xtick_txt = [\n",
    "    \"baseline\",\n",
    "    \"Recycling IV + \\ngloves\",\n",
    "    \"Recycling IV\",\n",
    "    \"Recycling \\ngloves\",\n",
    "]\n",
    "\n",
    "\n",
    "ax.set_xticklabels(xtick_txt, rotation=0)\n",
    "ax.grid(axis='y', linestyle='--', alpha=0.7, zorder=-0)\n",
    "plt.tight_layout()\n",
    "# output_file = s.join_path(plot_save_path, f\"pen{pen_type[p]}_countries_sens.png\")\n",
    "# plt.savefig(output_file, dpi=300, format='png', bbox_inches='tight')\n",
    "plt.show()"
   ]
  }
 ],
 "metadata": {
  "kernelspec": {
   "display_name": "Python 3",
   "language": "python",
   "name": "python3"
  },
  "language_info": {
   "codemirror_mode": {
    "name": "ipython",
    "version": 3
   },
   "file_extension": ".py",
   "mimetype": "text/x-python",
   "name": "python",
   "nbconvert_exporter": "python",
   "pygments_lexer": "ipython3",
   "version": "3.11.9"
  }
 },
 "nbformat": 4,
 "nbformat_minor": 5
}
