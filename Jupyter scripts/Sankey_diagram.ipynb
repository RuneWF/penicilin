{
 "cells": [
  {
   "cell_type": "code",
   "execution_count": 1,
   "metadata": {},
   "outputs": [],
   "source": [
    "path = r'C:/Users/ruw/Desktop'\n",
    "import sys # https://stackoverflow.com/questions/4383571/importing-files-from-different-folder\n",
    "sys.path.insert(1, rf'{path}\\RA\\penicilin\\Libaries')"
   ]
  },
  {
   "cell_type": "code",
   "execution_count": 2,
   "metadata": {},
   "outputs": [],
   "source": [
    "import reload_lib as rl\n",
    "import main as m\n",
    "rl.reload_lib(m)"
   ]
  },
  {
   "cell_type": "code",
   "execution_count": 3,
   "metadata": {},
   "outputs": [],
   "source": [
    "import plotly.graph_objects as go\n",
    "import pandas as pd\n",
    "import numpy as np"
   ]
  },
  {
   "cell_type": "code",
   "execution_count": 4,
   "metadata": {},
   "outputs": [],
   "source": [
    "matching_database = \"ev391cutoff\""
   ]
  },
  {
   "cell_type": "code",
   "execution_count": 5,
   "metadata": {},
   "outputs": [],
   "source": [
    "init = m.main(path, matching_database)"
   ]
  },
  {
   "cell_type": "code",
   "execution_count": null,
   "metadata": {},
   "outputs": [],
   "source": [
    "# Define nodes and links for baseline\n",
    "nodes_base = [\n",
    "    'N2O',\n",
    "    'Labor',\n",
    "    'Return',\n",
    "    'Room loss',\n",
    "    'Vented loss',\n",
    "    'Total loss'\n",
    "    ]\n",
    "\n",
    "links_base = [\n",
    "    #Import and export\n",
    "    {\"source\": \"N2O\", \"target\": \"Labor\", \"value\": nitrous_oxide},\n",
    "    {\"source\": \"Labor\", \"target\": \"Return\", \"value\": bottle_return},\n",
    "    {\"source\": \"Labor\", \"target\": \"Room loss\", \"value\": Room_loss},\n",
    "    {\"source\": \"Room loss\", \"target\": \"Total loss\", \"value\": Room_loss},\n",
    "    {\"source\": \"Labor\", \"target\": \"Vented loss\", \"value\": Vented_loss},\n",
    "    {\"source\": \"Vented loss\", \"target\": \"Total loss\", \"value\": Vented_loss}\n",
    "    \n",
    "]"
   ]
  },
  {
   "cell_type": "code",
   "execution_count": 2,
   "metadata": {},
   "outputs": [],
   "source": [
    "color_dict = {\n",
    "        'maroon': 'rgba(128, 0, 0, {})',\n",
    "        'dark red': 'rgba(139, 0, 0, {})',\n",
    "        'brown': 'rgba(165, 42, 42, {})',\n",
    "        'firebrick': 'rgba(178, 34, 34, {})',\n",
    "        'crimson': 'rgba(220, 20, 60, {})',\n",
    "        'red': 'rgba(255, 0, 0, {})',\n",
    "        'tomato': 'rgba(255, 99, 71, {})',\n",
    "        'coral': 'rgba(255, 127, 80, {})',\n",
    "        'indian red': 'rgba(205, 92, 92, {})',\n",
    "        'light coral': 'rgba(240, 128, 128, {})',\n",
    "        'dark salmon': 'rgba(233, 150, 122, {})',\n",
    "        'salmon': 'rgba(250, 128, 114, {})',\n",
    "        'light salmon': 'rgba(255, 160, 122, {})',\n",
    "        'orange red': 'rgba(255, 69, 0, {})',\n",
    "        'dark orange': 'rgba(255, 140, 0, {})',\n",
    "        'orange': 'rgba(255, 165, 0, {})',\n",
    "        'gold': 'rgba(255, 215, 0, {})',\n",
    "        'dark golden rod': 'rgba(184, 134, 11, {})',\n",
    "        'golden rod': 'rgba(218, 165, 32, {})',\n",
    "        'pale golden rod': 'rgba(238, 232, 170, {})',\n",
    "        'dark khaki': 'rgba(189, 183, 107, {})',\n",
    "        'khaki': 'rgba(240, 230, 140, {})',\n",
    "        'olive': 'rgba(128, 128, 0, {})',\n",
    "        'yellow': 'rgba(255, 255, 0, {})',\n",
    "        'yellow green': 'rgba(154, 205, 50, {})',\n",
    "        'dark olive green': 'rgba(85, 107, 47, {})',\n",
    "        'olive drab': 'rgba(107, 142, 35, {})',\n",
    "        'lawn green': 'rgba(124, 252, 0, {})',\n",
    "        'chartreuse': 'rgba(127, 255, 0, {})',\n",
    "        'green yellow': 'rgba(173, 255, 47, {})',\n",
    "        'dark green': 'rgba(0, 100, 0, {})',\n",
    "        'green': 'rgba(0, 128, 0, {})',\n",
    "        'forest green': 'rgba(34, 139, 34, {})',\n",
    "        'lime': 'rgba(0, 255, 0, {})',\n",
    "        'lime green': 'rgba(50, 205, 50, {})',\n",
    "        'light green': 'rgba(144, 238, 144, {})',\n",
    "        'pale green': 'rgba(152, 251, 152, {})',\n",
    "        'dark sea green': 'rgba(143, 188, 143, {})',\n",
    "        'medium spring green': 'rgba(0, 250, 154, {})',\n",
    "        'spring green': 'rgba(0, 255, 127, {})',\n",
    "        'sea green': 'rgba(46, 139, 87, {})',\n",
    "        'medium aqua marine': 'rgba(102, 205, 170, {})',\n",
    "        'medium sea green': 'rgba(60, 179, 113, {})',\n",
    "        'light sea green': 'rgba(32, 178, 170, {})',\n",
    "        'dark slate gray': 'rgba(47, 79, 79, {})',\n",
    "        'teal': 'rgba(0, 128, 128, {})',\n",
    "        'dark cyan': 'rgba(0, 139, 139, {})',\n",
    "        'aqua': 'rgba(0, 255, 255, {})',\n",
    "        'cyan': 'rgba(0, 255, 255, {})',\n",
    "        'light cyan': 'rgba(224, 255, 255, {})',\n",
    "        'dark turquoise': 'rgba(0, 206, 209, {})',\n",
    "        'turquoise': 'rgba(64, 224, 208, {})',\n",
    "        'medium turquoise': 'rgba(72, 209, 204, {})',\n",
    "        'pale turquoise': 'rgba(175, 238, 238, {})',\n",
    "        'aqua marine': 'rgba(127, 255, 212, {})',\n",
    "        'powder blue': 'rgba(176, 224, 230, {})',\n",
    "        'cadet blue': 'rgba(95, 158, 160, {})',\n",
    "        'steel blue': 'rgba(70, 130, 180, {})',\n",
    "        'corn flower blue': 'rgba(100, 149, 237, {})',\n",
    "        'deep sky blue': 'rgba(0, 191, 255, {})',\n",
    "        'dodger blue': 'rgba(30, 144, 255, {})',\n",
    "        'light blue': 'rgba(173, 216, 230, {})',\n",
    "        'sky blue': 'rgba(135, 206, 235, {})',\n",
    "        'light sky blue': 'rgba(135, 206, 250, {})',\n",
    "        'midnight blue': 'rgba(25, 25, 112, {})',\n",
    "        'navy': 'rgba(0, 0, 128, {})',\n",
    "        'dark blue': 'rgba(0, 0, 139, {})',\n",
    "        'medium blue': 'rgba(0, 0, 205, {})',\n",
    "        'blue': 'rgba(0, 0, 255, {})',\n",
    "        'royal blue': 'rgba(65, 105, 225, {})',\n",
    "        'blue violet': 'rgba(138, 43, 226, {})',\n",
    "        'indigo': 'rgba(75, 0, 130, {})',\n",
    "        'dark slate blue': 'rgba(72, 61, 139, {})',\n",
    "        'slate blue': 'rgba(106, 90, 205, {})',\n",
    "        'medium slate blue': 'rgba(123, 104, 238, {})',\n",
    "        'medium purple': 'rgba(147, 112, 219, {})',\n",
    "        'dark magenta': 'rgba(139, 0, 139, {})',\n",
    "        'dark violet': 'rgba(148, 0, 211, {})',\n",
    "        'dark orchid': 'rgba(153, 50, 204, {})',\n",
    "        'medium orchid': 'rgba(186, 85, 211, {})',\n",
    "        'purple': 'rgba(128, 0, 128, {})',\n",
    "        'thistle': 'rgba(216, 191, 216, {})',\n",
    "        'plum': 'rgba(221, 160, 221, {})',\n",
    "        'violet': 'rgba(238, 130, 238, {})',\n",
    "        'magenta / fuchsia': 'rgba(255, 0, 255, {})',\n",
    "        'orchid': 'rgba(218, 112, 214, {})',\n",
    "        'medium violet red': 'rgba(199, 21, 133, {})',\n",
    "        'pale violet red': 'rgba(219, 112, 147, {})',\n",
    "        'deep pink': 'rgba(255, 20, 147, {})',\n",
    "        'hot pink': 'rgba(255, 105, 180, {})',\n",
    "        'light pink': 'rgba(255, 182, 193, {})',\n",
    "        'pink': 'rgba(255, 192, 203, {})',\n",
    "        'antique white': 'rgba(250, 235, 215, {})',\n",
    "        'beige': 'rgba(245, 245, 220, {})',\n",
    "        'bisque': 'rgba(255, 228, 196, {})',\n",
    "        'blanched almond': 'rgba(255, 235, 205, {})',\n",
    "        'wheat': 'rgba(245, 222, 179, {})',\n",
    "        'corn silk': 'rgba(255, 248, 220, {})',\n",
    "        'lemon chiffon': 'rgba(255, 250, 205, {})',\n",
    "        'light golden rod yellow': 'rgba(250, 250, 210, {})',\n",
    "        'light yellow': 'rgba(255, 255, 224, {})',\n",
    "        'saddle brown': 'rgba(139, 69, 19, {})',\n",
    "        'sienna': 'rgba(160, 82, 45, {})',\n",
    "        'chocolate': 'rgba(210, 105, 30, {})',\n",
    "        'peru': 'rgba(205, 133, 63, {})',\n",
    "        'sandy brown': 'rgba(244, 164, 96, {})',\n",
    "        'burly wood': 'rgba(222, 184, 135, {})',\n",
    "        'tan': 'rgba(210, 180, 140, {})',\n",
    "        'rosy brown': 'rgba(188, 143, 143, {})',\n",
    "        'moccasin': 'rgba(255, 228, 181, {})',\n",
    "        'navajo white': 'rgba(255, 222, 173, {})',\n",
    "        'peach puff': 'rgba(255, 218, 185, {})',\n",
    "        'misty rose': 'rgba(255, 228, 225, {})',\n",
    "        'lavender blush': 'rgba(255, 240, 245, {})',\n",
    "        'linen': 'rgba(250, 240, 230, {})',\n",
    "        'old lace': 'rgba(253, 245, 230, {})',\n",
    "        'papaya whip': 'rgba(255, 239, 213, {})',\n",
    "        'sea shell': 'rgba(255, 245, 238, {})',\n",
    "        'mint cream': 'rgba(245, 255, 250, {})',\n",
    "        'slate gray': 'rgba(112, 128, 144, {})',\n",
    "        'light slate gray': 'rgba(119, 136, 153, {})',\n",
    "        'light steel blue': 'rgba(176, 196, 222, {})',\n",
    "        'lavender': 'rgba(230, 230, 250, {})',\n",
    "        'floral white': 'rgba(255, 250, 240, {})',\n",
    "        'alice blue': 'rgba(240, 248, 255, {})',\n",
    "        'ghost white': 'rgba(248, 248, 255, {})',\n",
    "        'honeydew': 'rgba(240, 255, 240, {})',\n",
    "        'ivory': 'rgba(255, 255, 240, {})',\n",
    "        'azure': 'rgba(240, 255, 255, {})',\n",
    "        'snow': 'rgba(255, 250, 250, {})',\n",
    "        'black': 'rgba(0, 0, 0, {})',\n",
    "        'dim gray': 'rgba(105, 105, 105, {})',\n",
    "        'gray': 'rgba(128, 128, 128, {})',\n",
    "        'dark gray': 'rgba(169, 169, 169, {})',\n",
    "        'silver': 'rgba(192, 192, 192, {})',\n",
    "        'light gray': 'rgba(211, 211, 211, {})',\n",
    "        'gainsboro': 'rgba(220, 220, 220, {})',\n",
    "        'white smoke': 'rgba(245, 245, 245, {})',\n",
    "        'white': 'rgba(255, 255, 255, {})',\n",
    "        }\n",
    "        #def node_colors(color_dict):\n",
    "        # Define colors for nodes\n",
    "    "
   ]
  },
  {
   "cell_type": "code",
   "execution_count": 3,
   "metadata": {},
   "outputs": [],
   "source": [
    "#Defining colors\n",
    "\n",
    "def color(opacity):\n",
    "    node_colors = {\n",
    "        \"N2O\"           : color_dict['aqua'].format(opacity),\n",
    "        \"Xenon\"         : color_dict['lime'].format(opacity),\n",
    "        \"Labor\"         : color_dict['tomato'].format(opacity),\n",
    "        \"Return\"        : color_dict['yellow green'].format(opacity),\n",
    "        \"DU loss\"       : color_dict['brown'].format(opacity),\n",
    "        \"Mask\"          : color_dict['navy'].format(opacity),\n",
    "        \"Mask loss\"     : color_dict['light sky blue'].format(opacity),\n",
    "        \"Room loss\"     : color_dict['dark gray'].format(opacity),\n",
    "        \"Vented loss\"   : color_dict['moccasin'].format(opacity),\n",
    "        \"CDU\"           : color_dict['medium purple'].format(opacity),\n",
    "        \"MDU\"           : color_dict['purple'].format(opacity),\n",
    "        \"Air\"           : color_dict['sea shell'].format(opacity),\n",
    "        \"Total loss\"    : color_dict['medium sea green'].format(opacity),\n",
    "        \"Xe recovery\"   : color_dict['lime green'].format(opacity),\n",
    "        \"Xe rec. loss\"  : color_dict['medium sea green'].format(opacity),\n",
    "        \"Recovered Xe\"  : color_dict['olive'].format(opacity)\n",
    "        #return node_colors\n",
    "    }\n",
    "    return node_colors\n"
   ]
  },
  {
   "cell_type": "code",
   "execution_count": 4,
   "metadata": {},
   "outputs": [],
   "source": [
    "opacity = 0.9\n",
    "opcaity_links = 0.3\n",
    "node_colors = color(opacity)\n",
    "node_colors_links = color(opcaity_links)"
   ]
  },
  {
   "cell_type": "code",
   "execution_count": 5,
   "metadata": {},
   "outputs": [],
   "source": [
    "nitrous_oxide = 100\n",
    "bottle_return = 10\n",
    "Room_loss = 5\n",
    "Vented_loss = nitrous_oxide - bottle_return - Room_loss\n",
    "labor_to_mask = nitrous_oxide - bottle_return - Room_loss\n",
    "Mask_loss_percentage = 0.2\n",
    "Mask_loss = labor_to_mask * Mask_loss_percentage\n",
    "Mask_to_DU = labor_to_mask * (1 - Mask_loss_percentage)\n",
    "CDU_eff = 0.95\n",
    "MDU_eff = 0.99\n",
    "CDU_loss = (1 - CDU_eff) * Mask_to_DU\n",
    "CDU_air = (CDU_eff) * Mask_to_DU\n",
    "MDU_loss = (1 - MDU_eff) * Mask_to_DU\n",
    "MDU_air = (MDU_eff) * Mask_to_DU \n"
   ]
  },
  {
   "cell_type": "code",
   "execution_count": 6,
   "metadata": {},
   "outputs": [],
   "source": [
    "#Xenon\n",
    "Room_loss = 5\n",
    "Mask_loss_percentage = 0.2\n",
    "xe = 100\n",
    "xe_recovery_eff = 0.99\n",
    "xe_to_mask = xe - Room_loss\n",
    "xe_mask_loss = xe_to_mask * Mask_loss_percentage\n",
    "xe_mask_to_recovery = xe_to_mask *(1 - Mask_loss_percentage)\n",
    "xe_recovery = xe_mask_to_recovery * xe_recovery_eff\n",
    "xe_recovery_loss = xe_mask_to_recovery * (1 - xe_recovery_eff)\n"
   ]
  },
  {
   "cell_type": "code",
   "execution_count": 7,
   "metadata": {},
   "outputs": [],
   "source": [
    "# Define nodes and links for baseline\n",
    "nodes_base = [\n",
    "    'N2O',\n",
    "    'Labor',\n",
    "    'Return',\n",
    "    'Room loss',\n",
    "    'Vented loss',\n",
    "    'Total loss'\n",
    "    ]\n",
    "\n",
    "links_base = [\n",
    "    #Import and export\n",
    "    {\"source\": \"N2O\", \"target\": \"Labor\", \"value\": nitrous_oxide},\n",
    "    {\"source\": \"Labor\", \"target\": \"Return\", \"value\": bottle_return},\n",
    "    {\"source\": \"Labor\", \"target\": \"Room loss\", \"value\": Room_loss},\n",
    "    {\"source\": \"Room loss\", \"target\": \"Total loss\", \"value\": Room_loss},\n",
    "    {\"source\": \"Labor\", \"target\": \"Vented loss\", \"value\": Vented_loss},\n",
    "    {\"source\": \"Vented loss\", \"target\": \"Total loss\", \"value\": Vented_loss}\n",
    "    \n",
    "]\n"
   ]
  },
  {
   "cell_type": "code",
   "execution_count": 8,
   "metadata": {},
   "outputs": [],
   "source": [
    "# Define nodes and links for CDU (central)\n",
    "nodes_CDU = [\n",
    "    'N2O',\n",
    "    'Labor',\n",
    "    'Return',\n",
    "    'Room loss',\n",
    "    'Mask loss',\n",
    "    'DU loss',\n",
    "    'Mask',\n",
    "    'CDU',\n",
    "    'Air',\n",
    "    'Total loss'\n",
    "    ]\n",
    "\n",
    "links_CDU = [\n",
    "    #Import and export\n",
    "    {\"source\": \"N2O\",       \"target\": \"Labor\", \"value\": nitrous_oxide},\n",
    "    {\"source\": \"Labor\",     \"target\": \"Return\", \"value\": bottle_return},\n",
    "    {\"source\": \"Labor\",     \"target\": \"Room loss\", \"value\": Room_loss},\n",
    "    {\"source\": \"Labor\",     \"target\": \"Mask\", \"value\": labor_to_mask},\n",
    "    {\"source\": \"Mask\",      \"target\": \"Mask loss\", \"value\": Mask_loss},\n",
    "    {\"source\": \"Mask\",      \"target\": \"CDU\", \"value\": Mask_to_DU},\n",
    "    {\"source\": \"CDU\",       \"target\": \"Air\", \"value\": CDU_air},\n",
    "    {\"source\": \"CDU\",       \"target\": \"DU loss\", \"value\": CDU_loss},\n",
    "    {\"source\": \"Room loss\", \"target\": \"Total loss\", \"value\": Room_loss},\n",
    "    {\"source\": \"Mask loss\", \"target\": \"Total loss\", \"value\": Mask_loss},\n",
    "    {\"source\": \"DU loss\",   \"target\": \"Total loss\", \"value\": CDU_loss}\n",
    "]\n"
   ]
  },
  {
   "cell_type": "code",
   "execution_count": 9,
   "metadata": {},
   "outputs": [],
   "source": [
    "# Define nodes and links for CDU (central)\n",
    "nodes_MDU = [\n",
    "    'N2O',\n",
    "    'Labor',\n",
    "    'Return',\n",
    "    'Room loss',\n",
    "    'Mask loss',\n",
    "    'DU loss',\n",
    "    'Mask',\n",
    "    'MDU',\n",
    "    'Air',\n",
    "    'Total loss'\n",
    "    ]\n",
    "\n",
    "links_MDU = [\n",
    "    #Import and export\n",
    "    {\"source\": \"N2O\",       \"target\": \"Labor\", \"value\": nitrous_oxide},\n",
    "    {\"source\": \"Labor\",     \"target\": \"Return\", \"value\": bottle_return},\n",
    "    {\"source\": \"Labor\",     \"target\": \"Room loss\", \"value\": Room_loss},\n",
    "    {\"source\": \"Labor\",     \"target\": \"Mask\", \"value\": labor_to_mask},\n",
    "    {\"source\": \"Mask\",      \"target\": \"Mask loss\", \"value\": Mask_loss},\n",
    "    {\"source\": \"Mask\",      \"target\": \"MDU\", \"value\": Mask_to_DU},\n",
    "    {\"source\": \"MDU\",       \"target\": \"Air\", \"value\": MDU_air},\n",
    "    {\"source\": \"MDU\",       \"target\": \"DU loss\", \"value\": MDU_loss},\n",
    "    {\"source\": \"Room loss\", \"target\": \"Total loss\", \"value\": Room_loss},\n",
    "    {\"source\": \"Mask loss\", \"target\": \"Total loss\", \"value\": Mask_loss},\n",
    "    {\"source\": \"DU loss\",   \"target\": \"Total loss\", \"value\": MDU_loss}\n",
    "]\n"
   ]
  },
  {
   "cell_type": "code",
   "execution_count": 10,
   "metadata": {},
   "outputs": [],
   "source": [
    "# Define nodes and links for CDU (central)\n",
    "nodes_Xe = [\n",
    "    'Xenon',\n",
    "    'Labor',\n",
    "    'Room loss',\n",
    "    'Mask loss',\n",
    "    'Mask',\n",
    "    'Xe recovery',\n",
    "    'Xe rec. loss',\n",
    "    'Recovered Xe',\n",
    "    'Total loss'\n",
    "    ]\n",
    "\n",
    "links_Xe = [\n",
    "    #Import and export\n",
    "    {\"source\": \"Xenon\",         \"target\": \"Labor\", \"value\": xe},\n",
    "    {\"source\": \"Labor\",         \"target\": \"Room loss\", \"value\": Room_loss},\n",
    "    {\"source\": \"Labor\",         \"target\": \"Mask\", \"value\": xe_to_mask},\n",
    "    {\"source\": \"Mask\",          \"target\": \"Mask loss\", \"value\": xe_mask_loss},\n",
    "    {\"source\": \"Mask\",          \"target\": \"Xe recovery\", \"value\": xe_mask_to_recovery},\n",
    "    {\"source\": \"Xe recovery\",   \"target\": \"Xe rec. loss\", \"value\": xe_recovery_loss},\n",
    "    {\"source\": \"Xe recovery\",   \"target\": \"Recovered Xe\", \"value\": xe_recovery},\n",
    "    {\"source\": \"Room loss\",     \"target\": \"Total loss\", \"value\": Room_loss},\n",
    "    {\"source\": \"Mask loss\",     \"target\": \"Total loss\", \"value\": xe_mask_loss},\n",
    "    {\"source\": \"Xe rec. loss\",  \"target\": \"Total loss\", \"value\": xe_recovery_loss}\n",
    "]"
   ]
  },
  {
   "cell_type": "code",
   "execution_count": 11,
   "metadata": {},
   "outputs": [
    {
     "data": {
      "application/vnd.plotly.v1+json": {
       "config": {
        "plotlyServerURL": "https://plot.ly"
       },
       "data": [
        {
         "arrangement": "perpendicular",
         "domain": {
          "x": [
           0,
           1
          ],
          "y": [
           0,
           1
          ]
         },
         "link": {
          "color": [
           "rgba(0, 255, 255, 0.3)",
           "rgba(255, 99, 71, 0.3)",
           "rgba(255, 99, 71, 0.3)",
           "rgba(169, 169, 169, 0.3)",
           "rgba(255, 99, 71, 0.3)",
           "rgba(255, 228, 181, 0.3)"
          ],
          "line": {
           "width": [
            0.5709717939933767,
            0.05709717939933768,
            0.02854858969966884,
            0.02854858969966884,
            0.48532602489437027,
            0.48532602489437027
           ]
          },
          "source": [
           0,
           1,
           1,
           3,
           1,
           4
          ],
          "target": [
           1,
           2,
           3,
           5,
           4,
           5
          ],
          "value": [
           100,
           10,
           5,
           5,
           85,
           85
          ]
         },
         "node": {
          "color": [
           "rgba(0, 255, 255, 0.9)",
           "rgba(255, 99, 71, 0.9)",
           "rgba(154, 205, 50, 0.9)",
           "rgba(169, 169, 169, 0.9)",
           "rgba(255, 228, 181, 0.9)",
           "rgba(60, 179, 113, 0.9)"
          ],
          "label": [
           "N2O<br>100%",
           "Labor<br>100%",
           "Return<br>10%",
           "Room loss<br>5%",
           "Vented loss<br>85%",
           "Total loss<br>90%"
          ],
          "line": {
           "width": [
            0.5709717939933767,
            0.05709717939933768,
            0.02854858969966884,
            0.02854858969966884,
            0.48532602489437027,
            0.48532602489437027
           ]
          },
          "pad": 500,
          "thickness": 20
         },
         "type": "sankey"
        }
       ],
       "layout": {
        "template": {
         "data": {
          "bar": [
           {
            "error_x": {
             "color": "#2a3f5f"
            },
            "error_y": {
             "color": "#2a3f5f"
            },
            "marker": {
             "line": {
              "color": "#E5ECF6",
              "width": 0.5
             },
             "pattern": {
              "fillmode": "overlay",
              "size": 10,
              "solidity": 0.2
             }
            },
            "type": "bar"
           }
          ],
          "barpolar": [
           {
            "marker": {
             "line": {
              "color": "#E5ECF6",
              "width": 0.5
             },
             "pattern": {
              "fillmode": "overlay",
              "size": 10,
              "solidity": 0.2
             }
            },
            "type": "barpolar"
           }
          ],
          "carpet": [
           {
            "aaxis": {
             "endlinecolor": "#2a3f5f",
             "gridcolor": "white",
             "linecolor": "white",
             "minorgridcolor": "white",
             "startlinecolor": "#2a3f5f"
            },
            "baxis": {
             "endlinecolor": "#2a3f5f",
             "gridcolor": "white",
             "linecolor": "white",
             "minorgridcolor": "white",
             "startlinecolor": "#2a3f5f"
            },
            "type": "carpet"
           }
          ],
          "choropleth": [
           {
            "colorbar": {
             "outlinewidth": 0,
             "ticks": ""
            },
            "type": "choropleth"
           }
          ],
          "contour": [
           {
            "colorbar": {
             "outlinewidth": 0,
             "ticks": ""
            },
            "colorscale": [
             [
              0,
              "#0d0887"
             ],
             [
              0.1111111111111111,
              "#46039f"
             ],
             [
              0.2222222222222222,
              "#7201a8"
             ],
             [
              0.3333333333333333,
              "#9c179e"
             ],
             [
              0.4444444444444444,
              "#bd3786"
             ],
             [
              0.5555555555555556,
              "#d8576b"
             ],
             [
              0.6666666666666666,
              "#ed7953"
             ],
             [
              0.7777777777777778,
              "#fb9f3a"
             ],
             [
              0.8888888888888888,
              "#fdca26"
             ],
             [
              1,
              "#f0f921"
             ]
            ],
            "type": "contour"
           }
          ],
          "contourcarpet": [
           {
            "colorbar": {
             "outlinewidth": 0,
             "ticks": ""
            },
            "type": "contourcarpet"
           }
          ],
          "heatmap": [
           {
            "colorbar": {
             "outlinewidth": 0,
             "ticks": ""
            },
            "colorscale": [
             [
              0,
              "#0d0887"
             ],
             [
              0.1111111111111111,
              "#46039f"
             ],
             [
              0.2222222222222222,
              "#7201a8"
             ],
             [
              0.3333333333333333,
              "#9c179e"
             ],
             [
              0.4444444444444444,
              "#bd3786"
             ],
             [
              0.5555555555555556,
              "#d8576b"
             ],
             [
              0.6666666666666666,
              "#ed7953"
             ],
             [
              0.7777777777777778,
              "#fb9f3a"
             ],
             [
              0.8888888888888888,
              "#fdca26"
             ],
             [
              1,
              "#f0f921"
             ]
            ],
            "type": "heatmap"
           }
          ],
          "heatmapgl": [
           {
            "colorbar": {
             "outlinewidth": 0,
             "ticks": ""
            },
            "colorscale": [
             [
              0,
              "#0d0887"
             ],
             [
              0.1111111111111111,
              "#46039f"
             ],
             [
              0.2222222222222222,
              "#7201a8"
             ],
             [
              0.3333333333333333,
              "#9c179e"
             ],
             [
              0.4444444444444444,
              "#bd3786"
             ],
             [
              0.5555555555555556,
              "#d8576b"
             ],
             [
              0.6666666666666666,
              "#ed7953"
             ],
             [
              0.7777777777777778,
              "#fb9f3a"
             ],
             [
              0.8888888888888888,
              "#fdca26"
             ],
             [
              1,
              "#f0f921"
             ]
            ],
            "type": "heatmapgl"
           }
          ],
          "histogram": [
           {
            "marker": {
             "pattern": {
              "fillmode": "overlay",
              "size": 10,
              "solidity": 0.2
             }
            },
            "type": "histogram"
           }
          ],
          "histogram2d": [
           {
            "colorbar": {
             "outlinewidth": 0,
             "ticks": ""
            },
            "colorscale": [
             [
              0,
              "#0d0887"
             ],
             [
              0.1111111111111111,
              "#46039f"
             ],
             [
              0.2222222222222222,
              "#7201a8"
             ],
             [
              0.3333333333333333,
              "#9c179e"
             ],
             [
              0.4444444444444444,
              "#bd3786"
             ],
             [
              0.5555555555555556,
              "#d8576b"
             ],
             [
              0.6666666666666666,
              "#ed7953"
             ],
             [
              0.7777777777777778,
              "#fb9f3a"
             ],
             [
              0.8888888888888888,
              "#fdca26"
             ],
             [
              1,
              "#f0f921"
             ]
            ],
            "type": "histogram2d"
           }
          ],
          "histogram2dcontour": [
           {
            "colorbar": {
             "outlinewidth": 0,
             "ticks": ""
            },
            "colorscale": [
             [
              0,
              "#0d0887"
             ],
             [
              0.1111111111111111,
              "#46039f"
             ],
             [
              0.2222222222222222,
              "#7201a8"
             ],
             [
              0.3333333333333333,
              "#9c179e"
             ],
             [
              0.4444444444444444,
              "#bd3786"
             ],
             [
              0.5555555555555556,
              "#d8576b"
             ],
             [
              0.6666666666666666,
              "#ed7953"
             ],
             [
              0.7777777777777778,
              "#fb9f3a"
             ],
             [
              0.8888888888888888,
              "#fdca26"
             ],
             [
              1,
              "#f0f921"
             ]
            ],
            "type": "histogram2dcontour"
           }
          ],
          "mesh3d": [
           {
            "colorbar": {
             "outlinewidth": 0,
             "ticks": ""
            },
            "type": "mesh3d"
           }
          ],
          "parcoords": [
           {
            "line": {
             "colorbar": {
              "outlinewidth": 0,
              "ticks": ""
             }
            },
            "type": "parcoords"
           }
          ],
          "pie": [
           {
            "automargin": true,
            "type": "pie"
           }
          ],
          "scatter": [
           {
            "fillpattern": {
             "fillmode": "overlay",
             "size": 10,
             "solidity": 0.2
            },
            "type": "scatter"
           }
          ],
          "scatter3d": [
           {
            "line": {
             "colorbar": {
              "outlinewidth": 0,
              "ticks": ""
             }
            },
            "marker": {
             "colorbar": {
              "outlinewidth": 0,
              "ticks": ""
             }
            },
            "type": "scatter3d"
           }
          ],
          "scattercarpet": [
           {
            "marker": {
             "colorbar": {
              "outlinewidth": 0,
              "ticks": ""
             }
            },
            "type": "scattercarpet"
           }
          ],
          "scattergeo": [
           {
            "marker": {
             "colorbar": {
              "outlinewidth": 0,
              "ticks": ""
             }
            },
            "type": "scattergeo"
           }
          ],
          "scattergl": [
           {
            "marker": {
             "colorbar": {
              "outlinewidth": 0,
              "ticks": ""
             }
            },
            "type": "scattergl"
           }
          ],
          "scattermapbox": [
           {
            "marker": {
             "colorbar": {
              "outlinewidth": 0,
              "ticks": ""
             }
            },
            "type": "scattermapbox"
           }
          ],
          "scatterpolar": [
           {
            "marker": {
             "colorbar": {
              "outlinewidth": 0,
              "ticks": ""
             }
            },
            "type": "scatterpolar"
           }
          ],
          "scatterpolargl": [
           {
            "marker": {
             "colorbar": {
              "outlinewidth": 0,
              "ticks": ""
             }
            },
            "type": "scatterpolargl"
           }
          ],
          "scatterternary": [
           {
            "marker": {
             "colorbar": {
              "outlinewidth": 0,
              "ticks": ""
             }
            },
            "type": "scatterternary"
           }
          ],
          "surface": [
           {
            "colorbar": {
             "outlinewidth": 0,
             "ticks": ""
            },
            "colorscale": [
             [
              0,
              "#0d0887"
             ],
             [
              0.1111111111111111,
              "#46039f"
             ],
             [
              0.2222222222222222,
              "#7201a8"
             ],
             [
              0.3333333333333333,
              "#9c179e"
             ],
             [
              0.4444444444444444,
              "#bd3786"
             ],
             [
              0.5555555555555556,
              "#d8576b"
             ],
             [
              0.6666666666666666,
              "#ed7953"
             ],
             [
              0.7777777777777778,
              "#fb9f3a"
             ],
             [
              0.8888888888888888,
              "#fdca26"
             ],
             [
              1,
              "#f0f921"
             ]
            ],
            "type": "surface"
           }
          ],
          "table": [
           {
            "cells": {
             "fill": {
              "color": "#EBF0F8"
             },
             "line": {
              "color": "white"
             }
            },
            "header": {
             "fill": {
              "color": "#C8D4E3"
             },
             "line": {
              "color": "white"
             }
            },
            "type": "table"
           }
          ]
         },
         "layout": {
          "annotationdefaults": {
           "arrowcolor": "#2a3f5f",
           "arrowhead": 0,
           "arrowwidth": 1
          },
          "autotypenumbers": "strict",
          "coloraxis": {
           "colorbar": {
            "outlinewidth": 0,
            "ticks": ""
           }
          },
          "colorscale": {
           "diverging": [
            [
             0,
             "#8e0152"
            ],
            [
             0.1,
             "#c51b7d"
            ],
            [
             0.2,
             "#de77ae"
            ],
            [
             0.3,
             "#f1b6da"
            ],
            [
             0.4,
             "#fde0ef"
            ],
            [
             0.5,
             "#f7f7f7"
            ],
            [
             0.6,
             "#e6f5d0"
            ],
            [
             0.7,
             "#b8e186"
            ],
            [
             0.8,
             "#7fbc41"
            ],
            [
             0.9,
             "#4d9221"
            ],
            [
             1,
             "#276419"
            ]
           ],
           "sequential": [
            [
             0,
             "#0d0887"
            ],
            [
             0.1111111111111111,
             "#46039f"
            ],
            [
             0.2222222222222222,
             "#7201a8"
            ],
            [
             0.3333333333333333,
             "#9c179e"
            ],
            [
             0.4444444444444444,
             "#bd3786"
            ],
            [
             0.5555555555555556,
             "#d8576b"
            ],
            [
             0.6666666666666666,
             "#ed7953"
            ],
            [
             0.7777777777777778,
             "#fb9f3a"
            ],
            [
             0.8888888888888888,
             "#fdca26"
            ],
            [
             1,
             "#f0f921"
            ]
           ],
           "sequentialminus": [
            [
             0,
             "#0d0887"
            ],
            [
             0.1111111111111111,
             "#46039f"
            ],
            [
             0.2222222222222222,
             "#7201a8"
            ],
            [
             0.3333333333333333,
             "#9c179e"
            ],
            [
             0.4444444444444444,
             "#bd3786"
            ],
            [
             0.5555555555555556,
             "#d8576b"
            ],
            [
             0.6666666666666666,
             "#ed7953"
            ],
            [
             0.7777777777777778,
             "#fb9f3a"
            ],
            [
             0.8888888888888888,
             "#fdca26"
            ],
            [
             1,
             "#f0f921"
            ]
           ]
          },
          "colorway": [
           "#636efa",
           "#EF553B",
           "#00cc96",
           "#ab63fa",
           "#FFA15A",
           "#19d3f3",
           "#FF6692",
           "#B6E880",
           "#FF97FF",
           "#FECB52"
          ],
          "font": {
           "color": "#2a3f5f"
          },
          "geo": {
           "bgcolor": "white",
           "lakecolor": "white",
           "landcolor": "#E5ECF6",
           "showlakes": true,
           "showland": true,
           "subunitcolor": "white"
          },
          "hoverlabel": {
           "align": "left"
          },
          "hovermode": "closest",
          "mapbox": {
           "style": "light"
          },
          "paper_bgcolor": "white",
          "plot_bgcolor": "#E5ECF6",
          "polar": {
           "angularaxis": {
            "gridcolor": "white",
            "linecolor": "white",
            "ticks": ""
           },
           "bgcolor": "#E5ECF6",
           "radialaxis": {
            "gridcolor": "white",
            "linecolor": "white",
            "ticks": ""
           }
          },
          "scene": {
           "xaxis": {
            "backgroundcolor": "#E5ECF6",
            "gridcolor": "white",
            "gridwidth": 2,
            "linecolor": "white",
            "showbackground": true,
            "ticks": "",
            "zerolinecolor": "white"
           },
           "yaxis": {
            "backgroundcolor": "#E5ECF6",
            "gridcolor": "white",
            "gridwidth": 2,
            "linecolor": "white",
            "showbackground": true,
            "ticks": "",
            "zerolinecolor": "white"
           },
           "zaxis": {
            "backgroundcolor": "#E5ECF6",
            "gridcolor": "white",
            "gridwidth": 2,
            "linecolor": "white",
            "showbackground": true,
            "ticks": "",
            "zerolinecolor": "white"
           }
          },
          "shapedefaults": {
           "line": {
            "color": "#2a3f5f"
           }
          },
          "ternary": {
           "aaxis": {
            "gridcolor": "white",
            "linecolor": "white",
            "ticks": ""
           },
           "baxis": {
            "gridcolor": "white",
            "linecolor": "white",
            "ticks": ""
           },
           "bgcolor": "#E5ECF6",
           "caxis": {
            "gridcolor": "white",
            "linecolor": "white",
            "ticks": ""
           }
          },
          "title": {
           "x": 0.05
          },
          "xaxis": {
           "automargin": true,
           "gridcolor": "white",
           "linecolor": "white",
           "ticks": "",
           "title": {
            "standoff": 15
           },
           "zerolinecolor": "white",
           "zerolinewidth": 2
          },
          "yaxis": {
           "automargin": true,
           "gridcolor": "white",
           "linecolor": "white",
           "ticks": "",
           "title": {
            "standoff": 15
           },
           "zerolinecolor": "white",
           "zerolinewidth": 2
          }
         }
        }
       }
      }
     },
     "metadata": {},
     "output_type": "display_data"
    }
   ],
   "source": [
    "# Create a Sankey diagram\n",
    "fig = go.Figure()\n",
    "\n",
    "# Calculate the scale factor for link thickness and node size\n",
    "max_value = 175.14  # max(link['value'] for link in links)\n",
    "scale_factor = 1  # You can adjust this factor to control the scaling\n",
    "\n",
    "# Calculate total outflow for each node and round to 2 decimals\n",
    "outflow_totals = {node: round(sum(link['value'] for link in links_base if link['source'] == node), 2) for node in nodes_base}\n",
    "\n",
    "# Calculate total inflow for each node and round to 2 decimals\n",
    "inflow_totals = {node: round(sum(link['value'] for link in links_base if link['target'] == node), 2) for node in nodes_base}\n",
    "\n",
    "# Determine if a node has only incoming flows\n",
    "incoming_only = {node: inflow_totals[node] > 0 and outflow_totals[node] == 0 for node in nodes_base}\n",
    "\n",
    "# Calculate y-coordinates for nodes based on total outflow or inflow\n",
    "node_y_coordinates = [sum(inflow_totals[node] if incoming_only[node] else outflow_totals[node] for node in nodes_base[:i]) for i in range(len(nodes_base))]\n",
    "\n",
    "# Add links\n",
    "fig.add_trace(go.Sankey(\n",
    "    node=dict(\n",
    "        pad=500,\n",
    "        thickness=20,\n",
    "        line=dict(width=[link['value'] / max_value * scale_factor for link in links_base]),\n",
    "        label=[f\"{node}<br>{inflow_totals[node] if incoming_only[node] else outflow_totals[node]}%\" for node in nodes_base],\n",
    "        color=[node_colors.get(node, 'rgba(255, 255, 255, {})') for node in nodes_base],\n",
    "    ),\n",
    "    link=dict(\n",
    "        source=[nodes_base.index(link['source']) for link in links_base],\n",
    "        target=[nodes_base.index(link['target']) for link in links_base],\n",
    "        value=[link['value'] for link in links_base],\n",
    "        color=[node_colors_links.get(link['source'], 'rgba(255, 255, 255, {})') for link in links_base],  # Use source node color for links\n",
    "        line=dict(width=[link['value'] / max_value * scale_factor for link in links_base]),\n",
    "    ),\n",
    "    arrangement=\"perpendicular\",\n",
    "    domain=dict(x=[0, 1], y=[0, 1]),\n",
    "))\n",
    "\n",
    "\n",
    "\n",
    "# Show the figure\n",
    "fig.show()\n",
    "# fig.write_image(\"Sankey_Basecase.jpg\")\n"
   ]
  },
  {
   "cell_type": "code",
   "execution_count": 12,
   "metadata": {},
   "outputs": [
    {
     "data": {
      "application/vnd.plotly.v1+json": {
       "config": {
        "plotlyServerURL": "https://plot.ly"
       },
       "data": [
        {
         "arrangement": "perpendicular",
         "domain": {
          "x": [
           0,
           1
          ],
          "y": [
           0,
           1
          ]
         },
         "link": {
          "color": [
           "rgba(0, 255, 255, 0.3)",
           "rgba(255, 99, 71, 0.3)",
           "rgba(255, 99, 71, 0.3)",
           "rgba(255, 99, 71, 0.3)",
           "rgba(0, 0, 128, 0.3)",
           "rgba(0, 0, 128, 0.3)",
           "rgba(147, 112, 219, 0.3)",
           "rgba(147, 112, 219, 0.3)",
           "rgba(169, 169, 169, 0.3)",
           "rgba(135, 206, 250, 0.3)",
           "rgba(165, 42, 42, 0.3)"
          ],
          "line": {
           "width": [
            100,
            10,
            5,
            85,
            17,
            68,
            64.6,
            3.400000000000003,
            5,
            17,
            3.400000000000003
           ]
          },
          "source": [
           0,
           1,
           1,
           1,
           6,
           6,
           7,
           7,
           3,
           4,
           5
          ],
          "target": [
           1,
           2,
           3,
           6,
           4,
           7,
           8,
           5,
           9,
           9,
           9
          ],
          "value": [
           100,
           10,
           5,
           85,
           17,
           68,
           64.6,
           3.400000000000003,
           5,
           17,
           3.400000000000003
          ]
         },
         "node": {
          "color": [
           "rgba(0, 255, 255, 0.9)",
           "rgba(255, 99, 71, 0.9)",
           "rgba(154, 205, 50, 0.9)",
           "rgba(169, 169, 169, 0.9)",
           "rgba(135, 206, 250, 0.9)",
           "rgba(165, 42, 42, 0.9)",
           "rgba(0, 0, 128, 0.9)",
           "rgba(147, 112, 219, 0.9)",
           "rgba(255, 245, 238, 0.9)",
           "rgba(60, 179, 113, 0.9)"
          ],
          "label": [
           "N2O<br>100%",
           "Labor<br>100%",
           "Return<br>10%",
           "Room loss<br>5%",
           "Mask loss<br>17.0%",
           "DU loss<br>3.4%",
           "Mask<br>85.0%",
           "CDU<br>68.0%",
           "Air<br>64.6%",
           "Total loss<br>25.4%"
          ],
          "line": {
           "width": [
            100,
            10,
            5,
            85,
            17,
            68,
            64.6,
            3.400000000000003,
            5,
            17,
            3.400000000000003
           ]
          },
          "pad": 500,
          "thickness": 20
         },
         "type": "sankey"
        }
       ],
       "layout": {
        "template": {
         "data": {
          "bar": [
           {
            "error_x": {
             "color": "#2a3f5f"
            },
            "error_y": {
             "color": "#2a3f5f"
            },
            "marker": {
             "line": {
              "color": "#E5ECF6",
              "width": 0.5
             },
             "pattern": {
              "fillmode": "overlay",
              "size": 10,
              "solidity": 0.2
             }
            },
            "type": "bar"
           }
          ],
          "barpolar": [
           {
            "marker": {
             "line": {
              "color": "#E5ECF6",
              "width": 0.5
             },
             "pattern": {
              "fillmode": "overlay",
              "size": 10,
              "solidity": 0.2
             }
            },
            "type": "barpolar"
           }
          ],
          "carpet": [
           {
            "aaxis": {
             "endlinecolor": "#2a3f5f",
             "gridcolor": "white",
             "linecolor": "white",
             "minorgridcolor": "white",
             "startlinecolor": "#2a3f5f"
            },
            "baxis": {
             "endlinecolor": "#2a3f5f",
             "gridcolor": "white",
             "linecolor": "white",
             "minorgridcolor": "white",
             "startlinecolor": "#2a3f5f"
            },
            "type": "carpet"
           }
          ],
          "choropleth": [
           {
            "colorbar": {
             "outlinewidth": 0,
             "ticks": ""
            },
            "type": "choropleth"
           }
          ],
          "contour": [
           {
            "colorbar": {
             "outlinewidth": 0,
             "ticks": ""
            },
            "colorscale": [
             [
              0,
              "#0d0887"
             ],
             [
              0.1111111111111111,
              "#46039f"
             ],
             [
              0.2222222222222222,
              "#7201a8"
             ],
             [
              0.3333333333333333,
              "#9c179e"
             ],
             [
              0.4444444444444444,
              "#bd3786"
             ],
             [
              0.5555555555555556,
              "#d8576b"
             ],
             [
              0.6666666666666666,
              "#ed7953"
             ],
             [
              0.7777777777777778,
              "#fb9f3a"
             ],
             [
              0.8888888888888888,
              "#fdca26"
             ],
             [
              1,
              "#f0f921"
             ]
            ],
            "type": "contour"
           }
          ],
          "contourcarpet": [
           {
            "colorbar": {
             "outlinewidth": 0,
             "ticks": ""
            },
            "type": "contourcarpet"
           }
          ],
          "heatmap": [
           {
            "colorbar": {
             "outlinewidth": 0,
             "ticks": ""
            },
            "colorscale": [
             [
              0,
              "#0d0887"
             ],
             [
              0.1111111111111111,
              "#46039f"
             ],
             [
              0.2222222222222222,
              "#7201a8"
             ],
             [
              0.3333333333333333,
              "#9c179e"
             ],
             [
              0.4444444444444444,
              "#bd3786"
             ],
             [
              0.5555555555555556,
              "#d8576b"
             ],
             [
              0.6666666666666666,
              "#ed7953"
             ],
             [
              0.7777777777777778,
              "#fb9f3a"
             ],
             [
              0.8888888888888888,
              "#fdca26"
             ],
             [
              1,
              "#f0f921"
             ]
            ],
            "type": "heatmap"
           }
          ],
          "heatmapgl": [
           {
            "colorbar": {
             "outlinewidth": 0,
             "ticks": ""
            },
            "colorscale": [
             [
              0,
              "#0d0887"
             ],
             [
              0.1111111111111111,
              "#46039f"
             ],
             [
              0.2222222222222222,
              "#7201a8"
             ],
             [
              0.3333333333333333,
              "#9c179e"
             ],
             [
              0.4444444444444444,
              "#bd3786"
             ],
             [
              0.5555555555555556,
              "#d8576b"
             ],
             [
              0.6666666666666666,
              "#ed7953"
             ],
             [
              0.7777777777777778,
              "#fb9f3a"
             ],
             [
              0.8888888888888888,
              "#fdca26"
             ],
             [
              1,
              "#f0f921"
             ]
            ],
            "type": "heatmapgl"
           }
          ],
          "histogram": [
           {
            "marker": {
             "pattern": {
              "fillmode": "overlay",
              "size": 10,
              "solidity": 0.2
             }
            },
            "type": "histogram"
           }
          ],
          "histogram2d": [
           {
            "colorbar": {
             "outlinewidth": 0,
             "ticks": ""
            },
            "colorscale": [
             [
              0,
              "#0d0887"
             ],
             [
              0.1111111111111111,
              "#46039f"
             ],
             [
              0.2222222222222222,
              "#7201a8"
             ],
             [
              0.3333333333333333,
              "#9c179e"
             ],
             [
              0.4444444444444444,
              "#bd3786"
             ],
             [
              0.5555555555555556,
              "#d8576b"
             ],
             [
              0.6666666666666666,
              "#ed7953"
             ],
             [
              0.7777777777777778,
              "#fb9f3a"
             ],
             [
              0.8888888888888888,
              "#fdca26"
             ],
             [
              1,
              "#f0f921"
             ]
            ],
            "type": "histogram2d"
           }
          ],
          "histogram2dcontour": [
           {
            "colorbar": {
             "outlinewidth": 0,
             "ticks": ""
            },
            "colorscale": [
             [
              0,
              "#0d0887"
             ],
             [
              0.1111111111111111,
              "#46039f"
             ],
             [
              0.2222222222222222,
              "#7201a8"
             ],
             [
              0.3333333333333333,
              "#9c179e"
             ],
             [
              0.4444444444444444,
              "#bd3786"
             ],
             [
              0.5555555555555556,
              "#d8576b"
             ],
             [
              0.6666666666666666,
              "#ed7953"
             ],
             [
              0.7777777777777778,
              "#fb9f3a"
             ],
             [
              0.8888888888888888,
              "#fdca26"
             ],
             [
              1,
              "#f0f921"
             ]
            ],
            "type": "histogram2dcontour"
           }
          ],
          "mesh3d": [
           {
            "colorbar": {
             "outlinewidth": 0,
             "ticks": ""
            },
            "type": "mesh3d"
           }
          ],
          "parcoords": [
           {
            "line": {
             "colorbar": {
              "outlinewidth": 0,
              "ticks": ""
             }
            },
            "type": "parcoords"
           }
          ],
          "pie": [
           {
            "automargin": true,
            "type": "pie"
           }
          ],
          "scatter": [
           {
            "fillpattern": {
             "fillmode": "overlay",
             "size": 10,
             "solidity": 0.2
            },
            "type": "scatter"
           }
          ],
          "scatter3d": [
           {
            "line": {
             "colorbar": {
              "outlinewidth": 0,
              "ticks": ""
             }
            },
            "marker": {
             "colorbar": {
              "outlinewidth": 0,
              "ticks": ""
             }
            },
            "type": "scatter3d"
           }
          ],
          "scattercarpet": [
           {
            "marker": {
             "colorbar": {
              "outlinewidth": 0,
              "ticks": ""
             }
            },
            "type": "scattercarpet"
           }
          ],
          "scattergeo": [
           {
            "marker": {
             "colorbar": {
              "outlinewidth": 0,
              "ticks": ""
             }
            },
            "type": "scattergeo"
           }
          ],
          "scattergl": [
           {
            "marker": {
             "colorbar": {
              "outlinewidth": 0,
              "ticks": ""
             }
            },
            "type": "scattergl"
           }
          ],
          "scattermapbox": [
           {
            "marker": {
             "colorbar": {
              "outlinewidth": 0,
              "ticks": ""
             }
            },
            "type": "scattermapbox"
           }
          ],
          "scatterpolar": [
           {
            "marker": {
             "colorbar": {
              "outlinewidth": 0,
              "ticks": ""
             }
            },
            "type": "scatterpolar"
           }
          ],
          "scatterpolargl": [
           {
            "marker": {
             "colorbar": {
              "outlinewidth": 0,
              "ticks": ""
             }
            },
            "type": "scatterpolargl"
           }
          ],
          "scatterternary": [
           {
            "marker": {
             "colorbar": {
              "outlinewidth": 0,
              "ticks": ""
             }
            },
            "type": "scatterternary"
           }
          ],
          "surface": [
           {
            "colorbar": {
             "outlinewidth": 0,
             "ticks": ""
            },
            "colorscale": [
             [
              0,
              "#0d0887"
             ],
             [
              0.1111111111111111,
              "#46039f"
             ],
             [
              0.2222222222222222,
              "#7201a8"
             ],
             [
              0.3333333333333333,
              "#9c179e"
             ],
             [
              0.4444444444444444,
              "#bd3786"
             ],
             [
              0.5555555555555556,
              "#d8576b"
             ],
             [
              0.6666666666666666,
              "#ed7953"
             ],
             [
              0.7777777777777778,
              "#fb9f3a"
             ],
             [
              0.8888888888888888,
              "#fdca26"
             ],
             [
              1,
              "#f0f921"
             ]
            ],
            "type": "surface"
           }
          ],
          "table": [
           {
            "cells": {
             "fill": {
              "color": "#EBF0F8"
             },
             "line": {
              "color": "white"
             }
            },
            "header": {
             "fill": {
              "color": "#C8D4E3"
             },
             "line": {
              "color": "white"
             }
            },
            "type": "table"
           }
          ]
         },
         "layout": {
          "annotationdefaults": {
           "arrowcolor": "#2a3f5f",
           "arrowhead": 0,
           "arrowwidth": 1
          },
          "autotypenumbers": "strict",
          "coloraxis": {
           "colorbar": {
            "outlinewidth": 0,
            "ticks": ""
           }
          },
          "colorscale": {
           "diverging": [
            [
             0,
             "#8e0152"
            ],
            [
             0.1,
             "#c51b7d"
            ],
            [
             0.2,
             "#de77ae"
            ],
            [
             0.3,
             "#f1b6da"
            ],
            [
             0.4,
             "#fde0ef"
            ],
            [
             0.5,
             "#f7f7f7"
            ],
            [
             0.6,
             "#e6f5d0"
            ],
            [
             0.7,
             "#b8e186"
            ],
            [
             0.8,
             "#7fbc41"
            ],
            [
             0.9,
             "#4d9221"
            ],
            [
             1,
             "#276419"
            ]
           ],
           "sequential": [
            [
             0,
             "#0d0887"
            ],
            [
             0.1111111111111111,
             "#46039f"
            ],
            [
             0.2222222222222222,
             "#7201a8"
            ],
            [
             0.3333333333333333,
             "#9c179e"
            ],
            [
             0.4444444444444444,
             "#bd3786"
            ],
            [
             0.5555555555555556,
             "#d8576b"
            ],
            [
             0.6666666666666666,
             "#ed7953"
            ],
            [
             0.7777777777777778,
             "#fb9f3a"
            ],
            [
             0.8888888888888888,
             "#fdca26"
            ],
            [
             1,
             "#f0f921"
            ]
           ],
           "sequentialminus": [
            [
             0,
             "#0d0887"
            ],
            [
             0.1111111111111111,
             "#46039f"
            ],
            [
             0.2222222222222222,
             "#7201a8"
            ],
            [
             0.3333333333333333,
             "#9c179e"
            ],
            [
             0.4444444444444444,
             "#bd3786"
            ],
            [
             0.5555555555555556,
             "#d8576b"
            ],
            [
             0.6666666666666666,
             "#ed7953"
            ],
            [
             0.7777777777777778,
             "#fb9f3a"
            ],
            [
             0.8888888888888888,
             "#fdca26"
            ],
            [
             1,
             "#f0f921"
            ]
           ]
          },
          "colorway": [
           "#636efa",
           "#EF553B",
           "#00cc96",
           "#ab63fa",
           "#FFA15A",
           "#19d3f3",
           "#FF6692",
           "#B6E880",
           "#FF97FF",
           "#FECB52"
          ],
          "font": {
           "color": "#2a3f5f"
          },
          "geo": {
           "bgcolor": "white",
           "lakecolor": "white",
           "landcolor": "#E5ECF6",
           "showlakes": true,
           "showland": true,
           "subunitcolor": "white"
          },
          "hoverlabel": {
           "align": "left"
          },
          "hovermode": "closest",
          "mapbox": {
           "style": "light"
          },
          "paper_bgcolor": "white",
          "plot_bgcolor": "#E5ECF6",
          "polar": {
           "angularaxis": {
            "gridcolor": "white",
            "linecolor": "white",
            "ticks": ""
           },
           "bgcolor": "#E5ECF6",
           "radialaxis": {
            "gridcolor": "white",
            "linecolor": "white",
            "ticks": ""
           }
          },
          "scene": {
           "xaxis": {
            "backgroundcolor": "#E5ECF6",
            "gridcolor": "white",
            "gridwidth": 2,
            "linecolor": "white",
            "showbackground": true,
            "ticks": "",
            "zerolinecolor": "white"
           },
           "yaxis": {
            "backgroundcolor": "#E5ECF6",
            "gridcolor": "white",
            "gridwidth": 2,
            "linecolor": "white",
            "showbackground": true,
            "ticks": "",
            "zerolinecolor": "white"
           },
           "zaxis": {
            "backgroundcolor": "#E5ECF6",
            "gridcolor": "white",
            "gridwidth": 2,
            "linecolor": "white",
            "showbackground": true,
            "ticks": "",
            "zerolinecolor": "white"
           }
          },
          "shapedefaults": {
           "line": {
            "color": "#2a3f5f"
           }
          },
          "ternary": {
           "aaxis": {
            "gridcolor": "white",
            "linecolor": "white",
            "ticks": ""
           },
           "baxis": {
            "gridcolor": "white",
            "linecolor": "white",
            "ticks": ""
           },
           "bgcolor": "#E5ECF6",
           "caxis": {
            "gridcolor": "white",
            "linecolor": "white",
            "ticks": ""
           }
          },
          "title": {
           "x": 0.05
          },
          "xaxis": {
           "automargin": true,
           "gridcolor": "white",
           "linecolor": "white",
           "ticks": "",
           "title": {
            "standoff": 15
           },
           "zerolinecolor": "white",
           "zerolinewidth": 2
          },
          "yaxis": {
           "automargin": true,
           "gridcolor": "white",
           "linecolor": "white",
           "ticks": "",
           "title": {
            "standoff": 15
           },
           "zerolinecolor": "white",
           "zerolinewidth": 2
          }
         }
        }
       }
      }
     },
     "metadata": {},
     "output_type": "display_data"
    }
   ],
   "source": [
    "# Create a Sankey diagram\n",
    "fig = go.Figure()\n",
    "\n",
    "\n",
    "# Calculate total outflow for each node and round to 2 decimals\n",
    "outflow_totals = {node: round(sum(link['value'] for link in links_CDU if link['source'] == node), 2) for node in nodes_CDU}\n",
    "\n",
    "# Calculate total inflow for each node and round to 2 decimals\n",
    "inflow_totals = {node: round(sum(link['value'] for link in links_CDU if link['target'] == node), 2) for node in nodes_CDU}\n",
    "\n",
    "# Determine if a node has only incoming flows\n",
    "incoming_only = {node: inflow_totals[node] > 0 and outflow_totals[node] == 0 for node in nodes_CDU}\n",
    "\n",
    "# Calculate y-coordinates for nodes based on total outflow or inflow\n",
    "node_y_coordinates = [sum(inflow_totals[node] if incoming_only[node] else outflow_totals[node] for node in nodes_CDU[:i]) for i in range(len(nodes_CDU))]\n",
    "\n",
    "# Add links\n",
    "fig.add_trace(go.Sankey(\n",
    "    node=dict(\n",
    "        pad=500,\n",
    "        thickness=20,\n",
    "        line=dict(width=[link['value'] for link in links_CDU]),\n",
    "        label=[f\"{node}<br>{inflow_totals[node] if incoming_only[node] else outflow_totals[node]}%\" for node in nodes_CDU],\n",
    "        color=[node_colors.get(node, 'white') for node in nodes_CDU],\n",
    "    ),\n",
    "    link=dict(\n",
    "        source=[nodes_CDU.index(link['source']) for link in links_CDU],\n",
    "        target=[nodes_CDU.index(link['target']) for link in links_CDU],\n",
    "        value=[link['value'] for link in links_CDU],\n",
    "        color=[node_colors_links.get(link['source'], 'rgba(255, 255, 255, {})') for link in links_CDU],  # Use source node color for links\n",
    "        line=dict(width=[link['value'] for link in links_CDU]),\n",
    "    ),\n",
    "    arrangement=\"perpendicular\",\n",
    "    domain=dict(x=[0, 1], y=[0, 1]),\n",
    "))\n",
    "\n",
    "\n",
    "\n",
    "# Show the figure\n",
    "\n",
    "fig.show()\n",
    "# Save the figure as a JPG file\n",
    "# fig.write_image(\"Sankey_CDU.jpg\")"
   ]
  },
  {
   "cell_type": "code",
   "execution_count": 13,
   "metadata": {},
   "outputs": [
    {
     "data": {
      "application/vnd.plotly.v1+json": {
       "config": {
        "plotlyServerURL": "https://plot.ly"
       },
       "data": [
        {
         "arrangement": "perpendicular",
         "domain": {
          "x": [
           0,
           1
          ],
          "y": [
           0,
           1
          ]
         },
         "link": {
          "color": [
           "rgba(0, 255, 255, 0.3)",
           "rgba(255, 99, 71, 0.3)",
           "rgba(255, 99, 71, 0.3)",
           "rgba(255, 99, 71, 0.3)",
           "rgba(0, 0, 128, 0.3)",
           "rgba(0, 0, 128, 0.3)",
           "rgba(128, 0, 128, 0.3)",
           "rgba(128, 0, 128, 0.3)",
           "rgba(169, 169, 169, 0.3)",
           "rgba(135, 206, 250, 0.3)",
           "rgba(165, 42, 42, 0.3)"
          ],
          "line": {
           "width": [
            100,
            10,
            5,
            85,
            17,
            68,
            67.32,
            0.6800000000000006,
            5,
            17,
            0.6800000000000006
           ]
          },
          "source": [
           0,
           1,
           1,
           1,
           6,
           6,
           7,
           7,
           3,
           4,
           5
          ],
          "target": [
           1,
           2,
           3,
           6,
           4,
           7,
           8,
           5,
           9,
           9,
           9
          ],
          "value": [
           100,
           10,
           5,
           85,
           17,
           68,
           67.32,
           0.6800000000000006,
           5,
           17,
           0.6800000000000006
          ]
         },
         "node": {
          "color": [
           "rgba(0, 255, 255, 0.9)",
           "rgba(255, 99, 71, 0.9)",
           "rgba(154, 205, 50, 0.9)",
           "rgba(169, 169, 169, 0.9)",
           "rgba(135, 206, 250, 0.9)",
           "rgba(165, 42, 42, 0.9)",
           "rgba(0, 0, 128, 0.9)",
           "rgba(128, 0, 128, 0.9)",
           "rgba(255, 245, 238, 0.9)",
           "rgba(60, 179, 113, 0.9)"
          ],
          "label": [
           "N2O<br>100%",
           "Labor<br>100%",
           "Return<br>10%",
           "Room loss<br>5%",
           "Mask loss<br>17.0%",
           "DU loss<br>0.68%",
           "Mask<br>85.0%",
           "MDU<br>68.0%",
           "Air<br>67.32%",
           "Total loss<br>22.68%"
          ],
          "line": {
           "width": [
            100,
            10,
            5,
            85,
            17,
            68,
            67.32,
            0.6800000000000006,
            5,
            17,
            0.6800000000000006
           ]
          },
          "pad": 500,
          "thickness": 20
         },
         "type": "sankey"
        }
       ],
       "layout": {
        "template": {
         "data": {
          "bar": [
           {
            "error_x": {
             "color": "#2a3f5f"
            },
            "error_y": {
             "color": "#2a3f5f"
            },
            "marker": {
             "line": {
              "color": "#E5ECF6",
              "width": 0.5
             },
             "pattern": {
              "fillmode": "overlay",
              "size": 10,
              "solidity": 0.2
             }
            },
            "type": "bar"
           }
          ],
          "barpolar": [
           {
            "marker": {
             "line": {
              "color": "#E5ECF6",
              "width": 0.5
             },
             "pattern": {
              "fillmode": "overlay",
              "size": 10,
              "solidity": 0.2
             }
            },
            "type": "barpolar"
           }
          ],
          "carpet": [
           {
            "aaxis": {
             "endlinecolor": "#2a3f5f",
             "gridcolor": "white",
             "linecolor": "white",
             "minorgridcolor": "white",
             "startlinecolor": "#2a3f5f"
            },
            "baxis": {
             "endlinecolor": "#2a3f5f",
             "gridcolor": "white",
             "linecolor": "white",
             "minorgridcolor": "white",
             "startlinecolor": "#2a3f5f"
            },
            "type": "carpet"
           }
          ],
          "choropleth": [
           {
            "colorbar": {
             "outlinewidth": 0,
             "ticks": ""
            },
            "type": "choropleth"
           }
          ],
          "contour": [
           {
            "colorbar": {
             "outlinewidth": 0,
             "ticks": ""
            },
            "colorscale": [
             [
              0,
              "#0d0887"
             ],
             [
              0.1111111111111111,
              "#46039f"
             ],
             [
              0.2222222222222222,
              "#7201a8"
             ],
             [
              0.3333333333333333,
              "#9c179e"
             ],
             [
              0.4444444444444444,
              "#bd3786"
             ],
             [
              0.5555555555555556,
              "#d8576b"
             ],
             [
              0.6666666666666666,
              "#ed7953"
             ],
             [
              0.7777777777777778,
              "#fb9f3a"
             ],
             [
              0.8888888888888888,
              "#fdca26"
             ],
             [
              1,
              "#f0f921"
             ]
            ],
            "type": "contour"
           }
          ],
          "contourcarpet": [
           {
            "colorbar": {
             "outlinewidth": 0,
             "ticks": ""
            },
            "type": "contourcarpet"
           }
          ],
          "heatmap": [
           {
            "colorbar": {
             "outlinewidth": 0,
             "ticks": ""
            },
            "colorscale": [
             [
              0,
              "#0d0887"
             ],
             [
              0.1111111111111111,
              "#46039f"
             ],
             [
              0.2222222222222222,
              "#7201a8"
             ],
             [
              0.3333333333333333,
              "#9c179e"
             ],
             [
              0.4444444444444444,
              "#bd3786"
             ],
             [
              0.5555555555555556,
              "#d8576b"
             ],
             [
              0.6666666666666666,
              "#ed7953"
             ],
             [
              0.7777777777777778,
              "#fb9f3a"
             ],
             [
              0.8888888888888888,
              "#fdca26"
             ],
             [
              1,
              "#f0f921"
             ]
            ],
            "type": "heatmap"
           }
          ],
          "heatmapgl": [
           {
            "colorbar": {
             "outlinewidth": 0,
             "ticks": ""
            },
            "colorscale": [
             [
              0,
              "#0d0887"
             ],
             [
              0.1111111111111111,
              "#46039f"
             ],
             [
              0.2222222222222222,
              "#7201a8"
             ],
             [
              0.3333333333333333,
              "#9c179e"
             ],
             [
              0.4444444444444444,
              "#bd3786"
             ],
             [
              0.5555555555555556,
              "#d8576b"
             ],
             [
              0.6666666666666666,
              "#ed7953"
             ],
             [
              0.7777777777777778,
              "#fb9f3a"
             ],
             [
              0.8888888888888888,
              "#fdca26"
             ],
             [
              1,
              "#f0f921"
             ]
            ],
            "type": "heatmapgl"
           }
          ],
          "histogram": [
           {
            "marker": {
             "pattern": {
              "fillmode": "overlay",
              "size": 10,
              "solidity": 0.2
             }
            },
            "type": "histogram"
           }
          ],
          "histogram2d": [
           {
            "colorbar": {
             "outlinewidth": 0,
             "ticks": ""
            },
            "colorscale": [
             [
              0,
              "#0d0887"
             ],
             [
              0.1111111111111111,
              "#46039f"
             ],
             [
              0.2222222222222222,
              "#7201a8"
             ],
             [
              0.3333333333333333,
              "#9c179e"
             ],
             [
              0.4444444444444444,
              "#bd3786"
             ],
             [
              0.5555555555555556,
              "#d8576b"
             ],
             [
              0.6666666666666666,
              "#ed7953"
             ],
             [
              0.7777777777777778,
              "#fb9f3a"
             ],
             [
              0.8888888888888888,
              "#fdca26"
             ],
             [
              1,
              "#f0f921"
             ]
            ],
            "type": "histogram2d"
           }
          ],
          "histogram2dcontour": [
           {
            "colorbar": {
             "outlinewidth": 0,
             "ticks": ""
            },
            "colorscale": [
             [
              0,
              "#0d0887"
             ],
             [
              0.1111111111111111,
              "#46039f"
             ],
             [
              0.2222222222222222,
              "#7201a8"
             ],
             [
              0.3333333333333333,
              "#9c179e"
             ],
             [
              0.4444444444444444,
              "#bd3786"
             ],
             [
              0.5555555555555556,
              "#d8576b"
             ],
             [
              0.6666666666666666,
              "#ed7953"
             ],
             [
              0.7777777777777778,
              "#fb9f3a"
             ],
             [
              0.8888888888888888,
              "#fdca26"
             ],
             [
              1,
              "#f0f921"
             ]
            ],
            "type": "histogram2dcontour"
           }
          ],
          "mesh3d": [
           {
            "colorbar": {
             "outlinewidth": 0,
             "ticks": ""
            },
            "type": "mesh3d"
           }
          ],
          "parcoords": [
           {
            "line": {
             "colorbar": {
              "outlinewidth": 0,
              "ticks": ""
             }
            },
            "type": "parcoords"
           }
          ],
          "pie": [
           {
            "automargin": true,
            "type": "pie"
           }
          ],
          "scatter": [
           {
            "fillpattern": {
             "fillmode": "overlay",
             "size": 10,
             "solidity": 0.2
            },
            "type": "scatter"
           }
          ],
          "scatter3d": [
           {
            "line": {
             "colorbar": {
              "outlinewidth": 0,
              "ticks": ""
             }
            },
            "marker": {
             "colorbar": {
              "outlinewidth": 0,
              "ticks": ""
             }
            },
            "type": "scatter3d"
           }
          ],
          "scattercarpet": [
           {
            "marker": {
             "colorbar": {
              "outlinewidth": 0,
              "ticks": ""
             }
            },
            "type": "scattercarpet"
           }
          ],
          "scattergeo": [
           {
            "marker": {
             "colorbar": {
              "outlinewidth": 0,
              "ticks": ""
             }
            },
            "type": "scattergeo"
           }
          ],
          "scattergl": [
           {
            "marker": {
             "colorbar": {
              "outlinewidth": 0,
              "ticks": ""
             }
            },
            "type": "scattergl"
           }
          ],
          "scattermapbox": [
           {
            "marker": {
             "colorbar": {
              "outlinewidth": 0,
              "ticks": ""
             }
            },
            "type": "scattermapbox"
           }
          ],
          "scatterpolar": [
           {
            "marker": {
             "colorbar": {
              "outlinewidth": 0,
              "ticks": ""
             }
            },
            "type": "scatterpolar"
           }
          ],
          "scatterpolargl": [
           {
            "marker": {
             "colorbar": {
              "outlinewidth": 0,
              "ticks": ""
             }
            },
            "type": "scatterpolargl"
           }
          ],
          "scatterternary": [
           {
            "marker": {
             "colorbar": {
              "outlinewidth": 0,
              "ticks": ""
             }
            },
            "type": "scatterternary"
           }
          ],
          "surface": [
           {
            "colorbar": {
             "outlinewidth": 0,
             "ticks": ""
            },
            "colorscale": [
             [
              0,
              "#0d0887"
             ],
             [
              0.1111111111111111,
              "#46039f"
             ],
             [
              0.2222222222222222,
              "#7201a8"
             ],
             [
              0.3333333333333333,
              "#9c179e"
             ],
             [
              0.4444444444444444,
              "#bd3786"
             ],
             [
              0.5555555555555556,
              "#d8576b"
             ],
             [
              0.6666666666666666,
              "#ed7953"
             ],
             [
              0.7777777777777778,
              "#fb9f3a"
             ],
             [
              0.8888888888888888,
              "#fdca26"
             ],
             [
              1,
              "#f0f921"
             ]
            ],
            "type": "surface"
           }
          ],
          "table": [
           {
            "cells": {
             "fill": {
              "color": "#EBF0F8"
             },
             "line": {
              "color": "white"
             }
            },
            "header": {
             "fill": {
              "color": "#C8D4E3"
             },
             "line": {
              "color": "white"
             }
            },
            "type": "table"
           }
          ]
         },
         "layout": {
          "annotationdefaults": {
           "arrowcolor": "#2a3f5f",
           "arrowhead": 0,
           "arrowwidth": 1
          },
          "autotypenumbers": "strict",
          "coloraxis": {
           "colorbar": {
            "outlinewidth": 0,
            "ticks": ""
           }
          },
          "colorscale": {
           "diverging": [
            [
             0,
             "#8e0152"
            ],
            [
             0.1,
             "#c51b7d"
            ],
            [
             0.2,
             "#de77ae"
            ],
            [
             0.3,
             "#f1b6da"
            ],
            [
             0.4,
             "#fde0ef"
            ],
            [
             0.5,
             "#f7f7f7"
            ],
            [
             0.6,
             "#e6f5d0"
            ],
            [
             0.7,
             "#b8e186"
            ],
            [
             0.8,
             "#7fbc41"
            ],
            [
             0.9,
             "#4d9221"
            ],
            [
             1,
             "#276419"
            ]
           ],
           "sequential": [
            [
             0,
             "#0d0887"
            ],
            [
             0.1111111111111111,
             "#46039f"
            ],
            [
             0.2222222222222222,
             "#7201a8"
            ],
            [
             0.3333333333333333,
             "#9c179e"
            ],
            [
             0.4444444444444444,
             "#bd3786"
            ],
            [
             0.5555555555555556,
             "#d8576b"
            ],
            [
             0.6666666666666666,
             "#ed7953"
            ],
            [
             0.7777777777777778,
             "#fb9f3a"
            ],
            [
             0.8888888888888888,
             "#fdca26"
            ],
            [
             1,
             "#f0f921"
            ]
           ],
           "sequentialminus": [
            [
             0,
             "#0d0887"
            ],
            [
             0.1111111111111111,
             "#46039f"
            ],
            [
             0.2222222222222222,
             "#7201a8"
            ],
            [
             0.3333333333333333,
             "#9c179e"
            ],
            [
             0.4444444444444444,
             "#bd3786"
            ],
            [
             0.5555555555555556,
             "#d8576b"
            ],
            [
             0.6666666666666666,
             "#ed7953"
            ],
            [
             0.7777777777777778,
             "#fb9f3a"
            ],
            [
             0.8888888888888888,
             "#fdca26"
            ],
            [
             1,
             "#f0f921"
            ]
           ]
          },
          "colorway": [
           "#636efa",
           "#EF553B",
           "#00cc96",
           "#ab63fa",
           "#FFA15A",
           "#19d3f3",
           "#FF6692",
           "#B6E880",
           "#FF97FF",
           "#FECB52"
          ],
          "font": {
           "color": "#2a3f5f"
          },
          "geo": {
           "bgcolor": "white",
           "lakecolor": "white",
           "landcolor": "#E5ECF6",
           "showlakes": true,
           "showland": true,
           "subunitcolor": "white"
          },
          "hoverlabel": {
           "align": "left"
          },
          "hovermode": "closest",
          "mapbox": {
           "style": "light"
          },
          "paper_bgcolor": "white",
          "plot_bgcolor": "#E5ECF6",
          "polar": {
           "angularaxis": {
            "gridcolor": "white",
            "linecolor": "white",
            "ticks": ""
           },
           "bgcolor": "#E5ECF6",
           "radialaxis": {
            "gridcolor": "white",
            "linecolor": "white",
            "ticks": ""
           }
          },
          "scene": {
           "xaxis": {
            "backgroundcolor": "#E5ECF6",
            "gridcolor": "white",
            "gridwidth": 2,
            "linecolor": "white",
            "showbackground": true,
            "ticks": "",
            "zerolinecolor": "white"
           },
           "yaxis": {
            "backgroundcolor": "#E5ECF6",
            "gridcolor": "white",
            "gridwidth": 2,
            "linecolor": "white",
            "showbackground": true,
            "ticks": "",
            "zerolinecolor": "white"
           },
           "zaxis": {
            "backgroundcolor": "#E5ECF6",
            "gridcolor": "white",
            "gridwidth": 2,
            "linecolor": "white",
            "showbackground": true,
            "ticks": "",
            "zerolinecolor": "white"
           }
          },
          "shapedefaults": {
           "line": {
            "color": "#2a3f5f"
           }
          },
          "ternary": {
           "aaxis": {
            "gridcolor": "white",
            "linecolor": "white",
            "ticks": ""
           },
           "baxis": {
            "gridcolor": "white",
            "linecolor": "white",
            "ticks": ""
           },
           "bgcolor": "#E5ECF6",
           "caxis": {
            "gridcolor": "white",
            "linecolor": "white",
            "ticks": ""
           }
          },
          "title": {
           "x": 0.05
          },
          "xaxis": {
           "automargin": true,
           "gridcolor": "white",
           "linecolor": "white",
           "ticks": "",
           "title": {
            "standoff": 15
           },
           "zerolinecolor": "white",
           "zerolinewidth": 2
          },
          "yaxis": {
           "automargin": true,
           "gridcolor": "white",
           "linecolor": "white",
           "ticks": "",
           "title": {
            "standoff": 15
           },
           "zerolinecolor": "white",
           "zerolinewidth": 2
          }
         }
        }
       }
      }
     },
     "metadata": {},
     "output_type": "display_data"
    }
   ],
   "source": [
    "# MDU\n",
    "fig = go.Figure()\n",
    "\n",
    "# Calculate total outflow for each node and round to 2 decimals\n",
    "outflow_totals = {node: round(sum(link['value'] for link in links_MDU if link['source'] == node), 2) for node in nodes_MDU}\n",
    "\n",
    "# Calculate total inflow for each node and round to 2 decimals\n",
    "inflow_totals = {node: round(sum(link['value'] for link in links_MDU if link['target'] == node), 2) for node in nodes_MDU}\n",
    "\n",
    "# Determine if a node has only incoming flows\n",
    "incoming_only = {node: inflow_totals[node] > 0 and outflow_totals[node] == 0 for node in nodes_MDU}\n",
    "\n",
    "# Calculate y-coordinates for nodes based on total outflow or inflow\n",
    "node_y_coordinates = [sum(inflow_totals[node] if incoming_only[node] else outflow_totals[node] for node in nodes_MDU[:i]) for i in range(len(nodes_MDU))]\n",
    "\n",
    "# Add links\n",
    "fig.add_trace(go.Sankey(\n",
    "    node=dict(\n",
    "        pad=500,\n",
    "        thickness=20,\n",
    "        line=dict(width=[link['value']  for link in links_MDU]),\n",
    "        label=[f\"{node}<br>{inflow_totals[node] if incoming_only[node] else outflow_totals[node]}%\" for node in nodes_MDU],\n",
    "        color=[node_colors.get(node, 'rgba(255, 255, 255, {})') for node in nodes_MDU],\n",
    "    ),\n",
    "    link=dict(\n",
    "        source=[nodes_MDU.index(link['source']) for link in links_MDU],\n",
    "        target=[nodes_MDU.index(link['target']) for link in links_MDU],\n",
    "        value=[link['value'] for link in links_MDU],\n",
    "        color=[node_colors_links.get(link['source'], 'rgba(255, 255, 255, {})') for link in links_MDU],  # Use source node color for links\n",
    "        line=dict(width=[link['value']  for link in links_MDU]),\n",
    "    ),\n",
    "    arrangement=\"perpendicular\",\n",
    "    domain=dict(x=[0, 1], y=[0, 1]),\n",
    "))\n",
    "\n",
    "# Show the figure\n",
    "fig.show()\n",
    "# fig.write_image(\"Sankey_MDU.jpg\")"
   ]
  },
  {
   "cell_type": "code",
   "execution_count": 14,
   "metadata": {},
   "outputs": [
    {
     "data": {
      "application/vnd.plotly.v1+json": {
       "config": {
        "plotlyServerURL": "https://plot.ly"
       },
       "data": [
        {
         "arrangement": "perpendicular",
         "domain": {
          "x": [
           0,
           1
          ],
          "y": [
           0,
           1
          ]
         },
         "link": {
          "color": [
           "rgba(0, 255, 0, 0.3)",
           "rgba(255, 99, 71, 0.3)",
           "rgba(255, 99, 71, 0.3)",
           "rgba(0, 0, 128, 0.3)",
           "rgba(0, 0, 128, 0.3)",
           "rgba(50, 205, 50, 0.3)",
           "rgba(50, 205, 50, 0.3)",
           "rgba(169, 169, 169, 0.3)",
           "rgba(135, 206, 250, 0.3)",
           "rgba(60, 179, 113, 0.3)"
          ],
          "line": {
           "width": [
            100,
            5,
            95,
            19,
            76,
            0.7600000000000007,
            75.24,
            5,
            19,
            0.7600000000000007
           ]
          },
          "source": [
           0,
           1,
           1,
           4,
           4,
           5,
           5,
           2,
           3,
           6
          ],
          "target": [
           1,
           2,
           4,
           3,
           5,
           6,
           7,
           8,
           8,
           8
          ],
          "value": [
           100,
           5,
           95,
           19,
           76,
           0.7600000000000007,
           75.24,
           5,
           19,
           0.7600000000000007
          ]
         },
         "node": {
          "color": [
           "rgba(0, 255, 0, 0.9)",
           "rgba(255, 99, 71, 0.9)",
           "rgba(169, 169, 169, 0.9)",
           "rgba(135, 206, 250, 0.9)",
           "rgba(0, 0, 128, 0.9)",
           "rgba(50, 205, 50, 0.9)",
           "rgba(60, 179, 113, 0.9)",
           "rgba(128, 128, 0, 0.9)",
           "rgba(60, 179, 113, 0.9)"
          ],
          "label": [
           "Xenon<br>100%",
           "Labor<br>100%",
           "Room loss<br>5%",
           "Mask loss<br>19.0%",
           "Mask<br>95.0%",
           "Xe recovery<br>76.0%",
           "Xe rec. loss<br>0.76%",
           "Recovered Xe<br>75.24%",
           "Total loss<br>24.76%"
          ],
          "line": {
           "width": [
            100,
            5,
            95,
            19,
            76,
            0.7600000000000007,
            75.24,
            5,
            19,
            0.7600000000000007
           ]
          },
          "pad": 500,
          "thickness": 20
         },
         "type": "sankey"
        }
       ],
       "layout": {
        "template": {
         "data": {
          "bar": [
           {
            "error_x": {
             "color": "#2a3f5f"
            },
            "error_y": {
             "color": "#2a3f5f"
            },
            "marker": {
             "line": {
              "color": "#E5ECF6",
              "width": 0.5
             },
             "pattern": {
              "fillmode": "overlay",
              "size": 10,
              "solidity": 0.2
             }
            },
            "type": "bar"
           }
          ],
          "barpolar": [
           {
            "marker": {
             "line": {
              "color": "#E5ECF6",
              "width": 0.5
             },
             "pattern": {
              "fillmode": "overlay",
              "size": 10,
              "solidity": 0.2
             }
            },
            "type": "barpolar"
           }
          ],
          "carpet": [
           {
            "aaxis": {
             "endlinecolor": "#2a3f5f",
             "gridcolor": "white",
             "linecolor": "white",
             "minorgridcolor": "white",
             "startlinecolor": "#2a3f5f"
            },
            "baxis": {
             "endlinecolor": "#2a3f5f",
             "gridcolor": "white",
             "linecolor": "white",
             "minorgridcolor": "white",
             "startlinecolor": "#2a3f5f"
            },
            "type": "carpet"
           }
          ],
          "choropleth": [
           {
            "colorbar": {
             "outlinewidth": 0,
             "ticks": ""
            },
            "type": "choropleth"
           }
          ],
          "contour": [
           {
            "colorbar": {
             "outlinewidth": 0,
             "ticks": ""
            },
            "colorscale": [
             [
              0,
              "#0d0887"
             ],
             [
              0.1111111111111111,
              "#46039f"
             ],
             [
              0.2222222222222222,
              "#7201a8"
             ],
             [
              0.3333333333333333,
              "#9c179e"
             ],
             [
              0.4444444444444444,
              "#bd3786"
             ],
             [
              0.5555555555555556,
              "#d8576b"
             ],
             [
              0.6666666666666666,
              "#ed7953"
             ],
             [
              0.7777777777777778,
              "#fb9f3a"
             ],
             [
              0.8888888888888888,
              "#fdca26"
             ],
             [
              1,
              "#f0f921"
             ]
            ],
            "type": "contour"
           }
          ],
          "contourcarpet": [
           {
            "colorbar": {
             "outlinewidth": 0,
             "ticks": ""
            },
            "type": "contourcarpet"
           }
          ],
          "heatmap": [
           {
            "colorbar": {
             "outlinewidth": 0,
             "ticks": ""
            },
            "colorscale": [
             [
              0,
              "#0d0887"
             ],
             [
              0.1111111111111111,
              "#46039f"
             ],
             [
              0.2222222222222222,
              "#7201a8"
             ],
             [
              0.3333333333333333,
              "#9c179e"
             ],
             [
              0.4444444444444444,
              "#bd3786"
             ],
             [
              0.5555555555555556,
              "#d8576b"
             ],
             [
              0.6666666666666666,
              "#ed7953"
             ],
             [
              0.7777777777777778,
              "#fb9f3a"
             ],
             [
              0.8888888888888888,
              "#fdca26"
             ],
             [
              1,
              "#f0f921"
             ]
            ],
            "type": "heatmap"
           }
          ],
          "heatmapgl": [
           {
            "colorbar": {
             "outlinewidth": 0,
             "ticks": ""
            },
            "colorscale": [
             [
              0,
              "#0d0887"
             ],
             [
              0.1111111111111111,
              "#46039f"
             ],
             [
              0.2222222222222222,
              "#7201a8"
             ],
             [
              0.3333333333333333,
              "#9c179e"
             ],
             [
              0.4444444444444444,
              "#bd3786"
             ],
             [
              0.5555555555555556,
              "#d8576b"
             ],
             [
              0.6666666666666666,
              "#ed7953"
             ],
             [
              0.7777777777777778,
              "#fb9f3a"
             ],
             [
              0.8888888888888888,
              "#fdca26"
             ],
             [
              1,
              "#f0f921"
             ]
            ],
            "type": "heatmapgl"
           }
          ],
          "histogram": [
           {
            "marker": {
             "pattern": {
              "fillmode": "overlay",
              "size": 10,
              "solidity": 0.2
             }
            },
            "type": "histogram"
           }
          ],
          "histogram2d": [
           {
            "colorbar": {
             "outlinewidth": 0,
             "ticks": ""
            },
            "colorscale": [
             [
              0,
              "#0d0887"
             ],
             [
              0.1111111111111111,
              "#46039f"
             ],
             [
              0.2222222222222222,
              "#7201a8"
             ],
             [
              0.3333333333333333,
              "#9c179e"
             ],
             [
              0.4444444444444444,
              "#bd3786"
             ],
             [
              0.5555555555555556,
              "#d8576b"
             ],
             [
              0.6666666666666666,
              "#ed7953"
             ],
             [
              0.7777777777777778,
              "#fb9f3a"
             ],
             [
              0.8888888888888888,
              "#fdca26"
             ],
             [
              1,
              "#f0f921"
             ]
            ],
            "type": "histogram2d"
           }
          ],
          "histogram2dcontour": [
           {
            "colorbar": {
             "outlinewidth": 0,
             "ticks": ""
            },
            "colorscale": [
             [
              0,
              "#0d0887"
             ],
             [
              0.1111111111111111,
              "#46039f"
             ],
             [
              0.2222222222222222,
              "#7201a8"
             ],
             [
              0.3333333333333333,
              "#9c179e"
             ],
             [
              0.4444444444444444,
              "#bd3786"
             ],
             [
              0.5555555555555556,
              "#d8576b"
             ],
             [
              0.6666666666666666,
              "#ed7953"
             ],
             [
              0.7777777777777778,
              "#fb9f3a"
             ],
             [
              0.8888888888888888,
              "#fdca26"
             ],
             [
              1,
              "#f0f921"
             ]
            ],
            "type": "histogram2dcontour"
           }
          ],
          "mesh3d": [
           {
            "colorbar": {
             "outlinewidth": 0,
             "ticks": ""
            },
            "type": "mesh3d"
           }
          ],
          "parcoords": [
           {
            "line": {
             "colorbar": {
              "outlinewidth": 0,
              "ticks": ""
             }
            },
            "type": "parcoords"
           }
          ],
          "pie": [
           {
            "automargin": true,
            "type": "pie"
           }
          ],
          "scatter": [
           {
            "fillpattern": {
             "fillmode": "overlay",
             "size": 10,
             "solidity": 0.2
            },
            "type": "scatter"
           }
          ],
          "scatter3d": [
           {
            "line": {
             "colorbar": {
              "outlinewidth": 0,
              "ticks": ""
             }
            },
            "marker": {
             "colorbar": {
              "outlinewidth": 0,
              "ticks": ""
             }
            },
            "type": "scatter3d"
           }
          ],
          "scattercarpet": [
           {
            "marker": {
             "colorbar": {
              "outlinewidth": 0,
              "ticks": ""
             }
            },
            "type": "scattercarpet"
           }
          ],
          "scattergeo": [
           {
            "marker": {
             "colorbar": {
              "outlinewidth": 0,
              "ticks": ""
             }
            },
            "type": "scattergeo"
           }
          ],
          "scattergl": [
           {
            "marker": {
             "colorbar": {
              "outlinewidth": 0,
              "ticks": ""
             }
            },
            "type": "scattergl"
           }
          ],
          "scattermapbox": [
           {
            "marker": {
             "colorbar": {
              "outlinewidth": 0,
              "ticks": ""
             }
            },
            "type": "scattermapbox"
           }
          ],
          "scatterpolar": [
           {
            "marker": {
             "colorbar": {
              "outlinewidth": 0,
              "ticks": ""
             }
            },
            "type": "scatterpolar"
           }
          ],
          "scatterpolargl": [
           {
            "marker": {
             "colorbar": {
              "outlinewidth": 0,
              "ticks": ""
             }
            },
            "type": "scatterpolargl"
           }
          ],
          "scatterternary": [
           {
            "marker": {
             "colorbar": {
              "outlinewidth": 0,
              "ticks": ""
             }
            },
            "type": "scatterternary"
           }
          ],
          "surface": [
           {
            "colorbar": {
             "outlinewidth": 0,
             "ticks": ""
            },
            "colorscale": [
             [
              0,
              "#0d0887"
             ],
             [
              0.1111111111111111,
              "#46039f"
             ],
             [
              0.2222222222222222,
              "#7201a8"
             ],
             [
              0.3333333333333333,
              "#9c179e"
             ],
             [
              0.4444444444444444,
              "#bd3786"
             ],
             [
              0.5555555555555556,
              "#d8576b"
             ],
             [
              0.6666666666666666,
              "#ed7953"
             ],
             [
              0.7777777777777778,
              "#fb9f3a"
             ],
             [
              0.8888888888888888,
              "#fdca26"
             ],
             [
              1,
              "#f0f921"
             ]
            ],
            "type": "surface"
           }
          ],
          "table": [
           {
            "cells": {
             "fill": {
              "color": "#EBF0F8"
             },
             "line": {
              "color": "white"
             }
            },
            "header": {
             "fill": {
              "color": "#C8D4E3"
             },
             "line": {
              "color": "white"
             }
            },
            "type": "table"
           }
          ]
         },
         "layout": {
          "annotationdefaults": {
           "arrowcolor": "#2a3f5f",
           "arrowhead": 0,
           "arrowwidth": 1
          },
          "autotypenumbers": "strict",
          "coloraxis": {
           "colorbar": {
            "outlinewidth": 0,
            "ticks": ""
           }
          },
          "colorscale": {
           "diverging": [
            [
             0,
             "#8e0152"
            ],
            [
             0.1,
             "#c51b7d"
            ],
            [
             0.2,
             "#de77ae"
            ],
            [
             0.3,
             "#f1b6da"
            ],
            [
             0.4,
             "#fde0ef"
            ],
            [
             0.5,
             "#f7f7f7"
            ],
            [
             0.6,
             "#e6f5d0"
            ],
            [
             0.7,
             "#b8e186"
            ],
            [
             0.8,
             "#7fbc41"
            ],
            [
             0.9,
             "#4d9221"
            ],
            [
             1,
             "#276419"
            ]
           ],
           "sequential": [
            [
             0,
             "#0d0887"
            ],
            [
             0.1111111111111111,
             "#46039f"
            ],
            [
             0.2222222222222222,
             "#7201a8"
            ],
            [
             0.3333333333333333,
             "#9c179e"
            ],
            [
             0.4444444444444444,
             "#bd3786"
            ],
            [
             0.5555555555555556,
             "#d8576b"
            ],
            [
             0.6666666666666666,
             "#ed7953"
            ],
            [
             0.7777777777777778,
             "#fb9f3a"
            ],
            [
             0.8888888888888888,
             "#fdca26"
            ],
            [
             1,
             "#f0f921"
            ]
           ],
           "sequentialminus": [
            [
             0,
             "#0d0887"
            ],
            [
             0.1111111111111111,
             "#46039f"
            ],
            [
             0.2222222222222222,
             "#7201a8"
            ],
            [
             0.3333333333333333,
             "#9c179e"
            ],
            [
             0.4444444444444444,
             "#bd3786"
            ],
            [
             0.5555555555555556,
             "#d8576b"
            ],
            [
             0.6666666666666666,
             "#ed7953"
            ],
            [
             0.7777777777777778,
             "#fb9f3a"
            ],
            [
             0.8888888888888888,
             "#fdca26"
            ],
            [
             1,
             "#f0f921"
            ]
           ]
          },
          "colorway": [
           "#636efa",
           "#EF553B",
           "#00cc96",
           "#ab63fa",
           "#FFA15A",
           "#19d3f3",
           "#FF6692",
           "#B6E880",
           "#FF97FF",
           "#FECB52"
          ],
          "font": {
           "color": "#2a3f5f"
          },
          "geo": {
           "bgcolor": "white",
           "lakecolor": "white",
           "landcolor": "#E5ECF6",
           "showlakes": true,
           "showland": true,
           "subunitcolor": "white"
          },
          "hoverlabel": {
           "align": "left"
          },
          "hovermode": "closest",
          "mapbox": {
           "style": "light"
          },
          "paper_bgcolor": "white",
          "plot_bgcolor": "#E5ECF6",
          "polar": {
           "angularaxis": {
            "gridcolor": "white",
            "linecolor": "white",
            "ticks": ""
           },
           "bgcolor": "#E5ECF6",
           "radialaxis": {
            "gridcolor": "white",
            "linecolor": "white",
            "ticks": ""
           }
          },
          "scene": {
           "xaxis": {
            "backgroundcolor": "#E5ECF6",
            "gridcolor": "white",
            "gridwidth": 2,
            "linecolor": "white",
            "showbackground": true,
            "ticks": "",
            "zerolinecolor": "white"
           },
           "yaxis": {
            "backgroundcolor": "#E5ECF6",
            "gridcolor": "white",
            "gridwidth": 2,
            "linecolor": "white",
            "showbackground": true,
            "ticks": "",
            "zerolinecolor": "white"
           },
           "zaxis": {
            "backgroundcolor": "#E5ECF6",
            "gridcolor": "white",
            "gridwidth": 2,
            "linecolor": "white",
            "showbackground": true,
            "ticks": "",
            "zerolinecolor": "white"
           }
          },
          "shapedefaults": {
           "line": {
            "color": "#2a3f5f"
           }
          },
          "ternary": {
           "aaxis": {
            "gridcolor": "white",
            "linecolor": "white",
            "ticks": ""
           },
           "baxis": {
            "gridcolor": "white",
            "linecolor": "white",
            "ticks": ""
           },
           "bgcolor": "#E5ECF6",
           "caxis": {
            "gridcolor": "white",
            "linecolor": "white",
            "ticks": ""
           }
          },
          "title": {
           "x": 0.05
          },
          "xaxis": {
           "automargin": true,
           "gridcolor": "white",
           "linecolor": "white",
           "ticks": "",
           "title": {
            "standoff": 15
           },
           "zerolinecolor": "white",
           "zerolinewidth": 2
          },
          "yaxis": {
           "automargin": true,
           "gridcolor": "white",
           "linecolor": "white",
           "ticks": "",
           "title": {
            "standoff": 15
           },
           "zerolinecolor": "white",
           "zerolinewidth": 2
          }
         }
        }
       }
      }
     },
     "metadata": {},
     "output_type": "display_data"
    }
   ],
   "source": [
    "# Xenon\n",
    "fig = go.Figure()\n",
    "\n",
    "# Calculate total outflow for each node and round to 2 decimals\n",
    "outflow_totals = {node: round(sum(link['value'] for link in links_Xe if link['source'] == node), 2) for node in nodes_Xe}\n",
    "\n",
    "# Calculate total inflow for each node and round to 2 decimals\n",
    "inflow_totals = {node: round(sum(link['value'] for link in links_Xe if link['target'] == node), 2) for node in nodes_Xe}\n",
    "\n",
    "# Determine if a node has only incoming flows\n",
    "incoming_only = {node: inflow_totals[node] > 0 and outflow_totals[node] == 0 for node in nodes_Xe}\n",
    "\n",
    "# Calculate y-coordinates for nodes based on total outflow or inflow\n",
    "node_y_coordinates = [sum(inflow_totals[node] if incoming_only[node] else outflow_totals[node] for node in nodes_Xe[:i]) for i in range(len(nodes_Xe))]\n",
    "\n",
    "# Add links\n",
    "fig.add_trace(go.Sankey(\n",
    "    node=dict(\n",
    "        pad=500,\n",
    "        thickness=20,\n",
    "        line=dict(width=[link['value']  for link in links_Xe]),\n",
    "        label=[f\"{node}<br>{inflow_totals[node] if incoming_only[node] else outflow_totals[node]}%\" for node in nodes_Xe],\n",
    "        color=[node_colors.get(node, 'rgba(255, 255, 255, {})') for node in nodes_Xe],\n",
    "    ),\n",
    "    link=dict(\n",
    "        source=[nodes_Xe.index(link['source']) for link in links_Xe],\n",
    "        target=[nodes_Xe.index(link['target']) for link in links_Xe],\n",
    "        value=[link['value'] for link in links_Xe],\n",
    "        color=[node_colors_links.get(link['source'], 'rgba(255, 255, 255, {})') for link in links_Xe],  # Use source node color for links\n",
    "        line=dict(width=[abs(link['value']) for link in links_Xe]),\n",
    "    ),\n",
    "    arrangement=\"perpendicular\",\n",
    "    domain=dict(x=[0, 1], y=[0, 1]),\n",
    "))\n",
    "\n",
    "# Show the figure\n",
    "fig.show()\n",
    "# fig.write_image(\"Sankey_Xe.jpg\")"
   ]
  }
 ],
 "metadata": {
  "kernelspec": {
   "display_name": "Python 3",
   "language": "python",
   "name": "python3"
  },
  "language_info": {
   "codemirror_mode": {
    "name": "ipython",
    "version": 3
   },
   "file_extension": ".py",
   "mimetype": "text/x-python",
   "name": "python",
   "nbconvert_exporter": "python",
   "pygments_lexer": "ipython3",
   "version": "3.11.9"
  }
 },
 "nbformat": 4,
 "nbformat_minor": 2
}
