{
 "cells": [
  {
   "cell_type": "code",
   "execution_count": 20,
   "metadata": {},
   "outputs": [],
   "source": [
    "path = r'C:/Users/ruw/Desktop'\n",
    "import sys # https://stackoverflow.com/questions/4383571/importing-files-from-different-folder\n",
    "sys.path.insert(1, rf'{path}\\RA\\penicilin\\Libaries')\n",
    "\n"
   ]
  },
  {
   "cell_type": "code",
   "execution_count": 21,
   "metadata": {},
   "outputs": [],
   "source": [
    "matching_database = \"ev391cutoff\"\n",
    "database = \"penicillin_cut_off\""
   ]
  },
  {
   "cell_type": "code",
   "execution_count": 22,
   "metadata": {},
   "outputs": [],
   "source": [
    "import reload_lib as rl\n",
    "# import lca\n",
    "import standards as s\n",
    "import sensitivity as st\n",
    "import brightway2 as bw \n",
    "\n",
    "import bw2data as bd\n",
    "import bw2calc as bc\n",
    "import pandas as pd\n",
    "import numpy as np\n",
    "\n",
    "import matplotlib.pyplot as plt\n",
    "\n",
    "\n",
    "import standards as s\n",
    "import database_manipulation as dm\n"
   ]
  },
  {
   "cell_type": "code",
   "execution_count": 23,
   "metadata": {},
   "outputs": [],
   "source": [
    "from lca import LCA\n",
    "\n",
    "var = LCA(path=path, matching_database=matching_database)\n"
   ]
  },
  {
   "cell_type": "code",
   "execution_count": 24,
   "metadata": {},
   "outputs": [
    {
     "data": {
      "text/plain": [
       "('ReCiPe 2016 v1.03, midpoint (H) - no biogenic',\n",
       " 'climate change',\n",
       " 'global warming potential (GWP1000)')"
      ]
     },
     "execution_count": 24,
     "metadata": {},
     "output_type": "execute_result"
    }
   ],
   "source": [
    "ics = var.lcia_impact_method()\n",
    "ics[1]"
   ]
  },
  {
   "cell_type": "code",
   "execution_count": 139,
   "metadata": {},
   "outputs": [],
   "source": [
    "def extract_penG_electricity(sub, lst, val):\n",
    "    val *= sub['amount']\n",
    "    elec1 = val\n",
    "    elec2 = val\n",
    "    elec_val = {}\n",
    "    for sub2x in sub.input.exchanges():\n",
    "        if \"electricity\" in sub2x['name']:\n",
    "            elec1 *= sub2x['amount']\n",
    "            elec_val[\"prod 1\"] = elec1\n",
    "        elif \"penicil\" in sub2x['name']:\n",
    "            lst.append({sub2x.input : sub2x['amount']})\n",
    "            elec2 *= sub2x['amount']\n",
    "            for sub3x in sub2x.input.exchanges():\n",
    "                if \"electricity\" in sub3x['name']:\n",
    "                    elec2 *=  sub3x['amount']\n",
    "                    key = sub3x.input\n",
    "                    elec_val[\"prod 2\"] = elec2\n",
    "    lst.append({key : elec1 + elec2})\n",
    "\n",
    "    return elec_val\n",
    "\n",
    "def extract_penG_activities(val, exc, lst):\n",
    "    for sub in exc.input.exchanges():\n",
    "        # print(sub)\n",
    "        if \"transport\" in sub['name']:\n",
    "            lst.append({sub.input : val*sub['amount']})\n",
    "        elif  \"filling\" in sub['name']:\n",
    "            elec_val = extract_penG_electricity(sub, lst, val)\n",
    "    return elec_val\n",
    "\n",
    "def extract_penV_activities(lst, val, exc):\n",
    "    elec_val = {}\n",
    "    for sub in exc.input.exchanges():\n",
    "        if 'transport' in sub['name']:\n",
    "            lst.append({sub.input : val*sub['amount']})\n",
    "        elif \"production\" in sub['name']:\n",
    "            val *= sub['amount']\n",
    "            for sub2x in sub.input.exchanges():\n",
    "                \n",
    "                elec1 = val\n",
    "                elec2 = val\n",
    "                elec3 = val\n",
    "                for sub2x in sub.input.exchanges():\n",
    "                    if \"electricity\" in sub2x['name']:\n",
    "                        elec1 *= sub2x['amount']\n",
    "                        elec_val[\"prod 1\"] = elec1\n",
    "                    elif \"tablet\" in sub2x['name']:\n",
    "                        elec2 *= sub2x['amount']\n",
    "                        elec3 *= sub2x['amount']\n",
    "                        for sub3x in sub2x.input.exchanges():\n",
    "                            if \"electricity\" in sub3x['name']:\n",
    "                                elec2 *=  sub3x['amount']\n",
    "                                elec_val[\"prod 2\"] = elec2\n",
    "                            elif \"penicil\" in sub3x['name']:\n",
    "                                if {sub3x.input : sub3x['amount']} not in lst:\n",
    "                                    lst.append({sub3x.input : sub3x['amount']})\n",
    "                                elec3 *= sub3x['amount']\n",
    "                                for sub4x in sub3x.input.exchanges():\n",
    "                                    if \"electricity\" in sub4x['name']:\n",
    "                                        elec3 *=  sub4x['amount']\n",
    "                                        key = sub4x.input\n",
    "                                        elec_val[\"prod 3\"] = elec3\n",
    "            lst.append({key : elec1 + elec2 + elec3})\n",
    "    return elec_val\n",
    "            "
   ]
  },
  {
   "cell_type": "code",
   "execution_count": 37,
   "metadata": {},
   "outputs": [],
   "source": [
    "system_path = var.system_path\n",
    "dm.import_databases(sensitivty=True)\n",
    "sheets_to_import = dm.extract_excel_sheets()\n"
   ]
  },
  {
   "cell_type": "code",
   "execution_count": 140,
   "metadata": {},
   "outputs": [],
   "source": [
    "pen_type =  [\"G\", \"V\"]\n",
    "func_unit = {}\n",
    "db = var.db\n",
    "for pt in pen_type:\n",
    "        temp_lst = []\n",
    "        for act in db:\n",
    "            if f\"Penicillin {pt}\" in act['name']:\n",
    "                  func_unit[act['name']] = {}"
   ]
  },
  {
   "cell_type": "code",
   "execution_count": null,
   "metadata": {},
   "outputs": [],
   "source": [
    "# Check if the database is case1\n",
    "for sheet in sheets_to_import:\n",
    "    data = pd.read_excel(system_path, sheet_name=sheet)\n",
    "    db_name = data.columns[1]\n",
    "    db = bd.Database(db_name)\n",
    "    \n",
    "    for pt in pen_type:\n",
    "        temp_lst = []\n",
    "        for act in db:\n",
    "            \n",
    "            if f\"Penicillin {pt}\" in act['name']:\n",
    "                for exc in act.exchanges():\n",
    "                    if exc['type'] == 'technosphere':\n",
    "                        val = exc['amount']\n",
    "                        temp_lst.append({exc.input : exc['amount']})\n",
    "                        if \"packaging of glass vials with penicillin G\" in exc.input['name']:\n",
    "                            elec_val_G = extract_penG_activities(val, exc, temp_lst)\n",
    "                        elif \"medicine strip\" in exc.input['name']:\n",
    "                           elec_val_V = extract_penV_activities(temp_lst, val, exc)\n",
    "                    func_unit[act['name']].update({db_name : temp_lst})\n",
    "                \n"
   ]
  },
  {
   "cell_type": "code",
   "execution_count": null,
   "metadata": {},
   "outputs": [
    {
     "name": "stdout",
     "output_type": "stream",
     "text": [
      "Performing LCIA for Penicillin G, defined system - penicillin_cut_off_IN\n",
      "Performing LCIA for Penicillin G, defined system - penicillin_cut_off_CN\n",
      "Performing LCIA for Penicillin G, defined system - penicillin_cut_off_IT\n",
      "Performing LCIA for Penicillin G, defined system - penicillin_cut_off_CH\n",
      "Performing LCIA for Penicillin G, defined system - penicillin_cut_off_US\n",
      "Performing LCIA for Penicillin G, defined system - penicillin_cut_off_DK\n",
      "Performing LCIA for Penicillin V, defined system - penicillin_cut_off_IN\n",
      "Performing LCIA for Penicillin V, defined system - penicillin_cut_off_CN\n",
      "Performing LCIA for Penicillin V, defined system - penicillin_cut_off_IT\n",
      "Performing LCIA for Penicillin V, defined system - penicillin_cut_off_CH\n",
      "Performing LCIA for Penicillin V, defined system - penicillin_cut_off_US\n",
      "Performing LCIA for Penicillin V, defined system - penicillin_cut_off_DK\n"
     ]
    }
   ],
   "source": [
    "# Initialize DataFrame to store results\n",
    "df_dct = {}\n",
    "\n",
    "for pen, fu_dct in func_unit.items():\n",
    "    # print(pen)\n",
    "    pen_arr = []\n",
    "    for country, fu in fu_dct.items():\n",
    "        print(f\"Performing LCIA for {pen} - {country}\")\n",
    "        idx_lst = []\n",
    "        for dct in fu:\n",
    "            idx_lst.append(list(dct.keys())[0])\n",
    "        idx_lst.sort\n",
    "        df = pd.DataFrame(0, index=idx_lst, columns=[ics[1]], dtype=object)\n",
    "        \n",
    "        # Set up and perform the LCA calculation\n",
    "        bd.calculation_setups[str(country)] = {'inv': fu, 'ia': [ics[1]]}\n",
    "            \n",
    "        mylca = bc.MultiLCA(str(country))\n",
    "        res = mylca.results\n",
    "        pen_arr.append(res)\n",
    "\n",
    "\n",
    "    df_dct[pen] = pen_arr\n",
    "    \n"
   ]
  },
  {
   "cell_type": "code",
   "execution_count": 155,
   "metadata": {},
   "outputs": [
    {
     "data": {
      "text/plain": [
       "0.29675193158802793"
      ]
     },
     "execution_count": 155,
     "metadata": {},
     "output_type": "execute_result"
    }
   ],
   "source": [
    "tot_elec_V = 0\n",
    "tot_elec_G = 0\n",
    "\n",
    "for val in elec_val_V.values():\n",
    "    tot_elec_V += val\n",
    "\n",
    "for val in elec_val_G.values():\n",
    "    tot_elec_G += val\n",
    "\n",
    "\n",
    "penV_prod_share = elec_val_V[\"prod 3\"]/tot_elec_V\n",
    "penG_prod_share = elec_val_G[\"prod 2\"]/tot_elec_G\n",
    "penG_prod_share"
   ]
  },
  {
   "cell_type": "code",
   "execution_count": 183,
   "metadata": {},
   "outputs": [],
   "source": [
    "impact_dct = {pen: None for pen in func_unit.keys()}\n",
    "for pen, fu in func_unit.items():\n",
    "    impact_dct[pen] = {}\n",
    "    for lst_idx, (country, lst) in enumerate(fu.items()):\n",
    "        for val_idx, act in enumerate(lst):\n",
    "            val = df_dct[pen][lst_idx][val_idx]\n",
    "            act_key = list(act.keys())[0]\n",
    "            if country not in impact_dct[pen]:\n",
    "                impact_dct[pen][country] = {}\n",
    "            impact_dct[pen][country][str(act_key)] = val[0]\n",
    "\n",
    "\n",
    "G = \"'packaging of glass vials with penicillin G'\"\n",
    "V = \"'packaging of a medicine strip'\"\n",
    "\n",
    "lst_GV = [G, V]\n",
    "\n",
    "for pen, res_dct in impact_dct.items():\n",
    "    for country, val_dct in res_dct.items():\n",
    "        for key, val in val_dct.items():\n",
    "            if \"electricity\" in str(key) and \"V\" in pen:\n",
    "                proc = f\"'manufacturing of raw penicillium V' (kilogram, {country[-2:]}, None)\"\n",
    "                pen_impact = val_dct[proc] \n",
    "                val_dct[proc] = pen_impact-(val*penV_prod_share)\n",
    "                pen_impact = val_dct[proc] \n",
    "            if \"electricity\" in str(key) and \"G\" in pen:\n",
    "                proc = f\"'manufacturing of raw penicillium G' (kilogram, {country[-2:]}, None)\"\n",
    "                pen_impact = val_dct[proc] \n",
    "                val_dct[proc] = pen_impact-(val*penG_prod_share)\n",
    "                pen_impact = val_dct[proc] \n",
    "\n",
    "for pen, res_dct in impact_dct.items():\n",
    "    for country, val_dct in res_dct.items():\n",
    "        for key, val in val_dct.items():\n",
    "            if (\"transport\" in str(key) or \"electricity\" in str(key) or \"raw penicillium\" in str(key)) and \"G\" in pen:\n",
    "                val_dct[G + f\" (unit, {country[-2:]}, None)\"] -= val\n",
    "            elif (\"transport\" in str(key) or \"electricity\" in str(key) or \"raw penicillium\" in str(key)) and \"V\" in pen:\n",
    "                val_dct[V + f\" (unit, {country[-2:]}, None)\"] -= val\n",
    "\n"
   ]
  },
  {
   "cell_type": "code",
   "execution_count": 189,
   "metadata": {},
   "outputs": [
    {
     "data": {
      "text/plain": [
       "dict_keys(['penicillin_cut_off_IN', 'penicillin_cut_off_CN', 'penicillin_cut_off_IT', 'penicillin_cut_off_CH', 'penicillin_cut_off_US', 'penicillin_cut_off_DK'])"
      ]
     },
     "execution_count": 189,
     "metadata": {},
     "output_type": "execute_result"
    }
   ],
   "source": [
    "func_unit[\"Penicillin G, defined system\"].keys()"
   ]
  },
  {
   "cell_type": "code",
   "execution_count": 158,
   "metadata": {},
   "outputs": [],
   "source": [
    "pen_contries_cat_dct = {\n",
    "    \"Penicillin manufacturing\": [\"raw penicillium\"],\n",
    "    \"Penicillin packaging\" : [ \"strip\", \"vial\"],\n",
    "    \"Electricity\": [\"electricity\"],\n",
    "    \"Transport\" : [\"transport\"],\n",
    "    \"Auxilary product\": [\"wipe\", \"glove\", \"stopcock\", \"water\", \"sodium\", \" connector\", \"IV\"],\n",
    "    \"Disposal\": [\"waste\"]\n",
    "    }"
   ]
  },
  {
   "cell_type": "code",
   "execution_count": null,
   "metadata": {},
   "outputs": [
    {
     "data": {
      "text/plain": [
       "'C:/Users/ruw/Desktop\\\\RA\\\\penicilin\\\\results\\\\sensitivity'"
      ]
     },
     "execution_count": 177,
     "metadata": {},
     "output_type": "execute_result"
    }
   ],
   "source": [
    "sens_path = s.join_path(var.path_github, \"results\\sensitivity\")\n"
   ]
  },
  {
   "cell_type": "code",
   "execution_count": 182,
   "metadata": {},
   "outputs": [
    {
     "data": {
      "application/vnd.microsoft.datawrangler.viewer.v0+json": {
       "columns": [
        {
         "name": "index",
         "rawType": "object",
         "type": "string"
        },
        {
         "name": "penicillin_cut_off_IN",
         "rawType": "object",
         "type": "unknown"
        },
        {
         "name": "penicillin_cut_off_CN",
         "rawType": "object",
         "type": "unknown"
        },
        {
         "name": "penicillin_cut_off_IT",
         "rawType": "object",
         "type": "unknown"
        },
        {
         "name": "penicillin_cut_off_CH",
         "rawType": "object",
         "type": "unknown"
        },
        {
         "name": "penicillin_cut_off_US",
         "rawType": "object",
         "type": "unknown"
        },
        {
         "name": "penicillin_cut_off_DK",
         "rawType": "object",
         "type": "unknown"
        }
       ],
       "conversionMethod": "pd.DataFrame",
       "ref": "a66e410b-1c06-47b7-afee-ed6460bb7e32",
       "rows": [
        [
         "Penicillin manufacturing",
         "0.018616181689583133",
         "0.018329190356625696",
         "0.015572367206242083",
         "0.015355400194600067",
         "0.018023523023750432",
         "0.015468035775820187"
        ],
        [
         "Penicillin packaging",
         "0.001504059391595298",
         "0.0014375018310642286",
         "0.0014823876930068636",
         "0.0016328161011968838",
         "0.0016031568603197051",
         "0.0019177427279422402"
        ],
        [
         "Electricity",
         "0.021592364598479807",
         "0.014589907013746708",
         "0.005642952533423935",
         "0.0005641968456726971",
         "0.007131753598366676",
         "0.0032191165370228187"
        ],
        [
         "Transport",
         "0.0007986909942743777",
         "0.0008985274607509473",
         "0.000723868213677089",
         "0.0004982098493807388",
         "0.0006500446282085551",
         "7.083552440917951e-05"
        ],
        [
         "Auxilary product",
         "0",
         "0",
         "0",
         "0",
         "0",
         "0"
        ],
        [
         "Disposal",
         "0.000736961690034027",
         "0.0007369616882399862",
         "0.0007369616906398739",
         "0.000736961690842587",
         "0.0007369616897888643",
         "0.0007396525635236039"
        ]
       ],
       "shape": {
        "columns": 6,
        "rows": 6
       }
      },
      "text/html": [
       "<div>\n",
       "<style scoped>\n",
       "    .dataframe tbody tr th:only-of-type {\n",
       "        vertical-align: middle;\n",
       "    }\n",
       "\n",
       "    .dataframe tbody tr th {\n",
       "        vertical-align: top;\n",
       "    }\n",
       "\n",
       "    .dataframe thead th {\n",
       "        text-align: right;\n",
       "    }\n",
       "</style>\n",
       "<table border=\"1\" class=\"dataframe\">\n",
       "  <thead>\n",
       "    <tr style=\"text-align: right;\">\n",
       "      <th></th>\n",
       "      <th>penicillin_cut_off_IN</th>\n",
       "      <th>penicillin_cut_off_CN</th>\n",
       "      <th>penicillin_cut_off_IT</th>\n",
       "      <th>penicillin_cut_off_CH</th>\n",
       "      <th>penicillin_cut_off_US</th>\n",
       "      <th>penicillin_cut_off_DK</th>\n",
       "    </tr>\n",
       "  </thead>\n",
       "  <tbody>\n",
       "    <tr>\n",
       "      <th>Penicillin manufacturing</th>\n",
       "      <td>0.018616</td>\n",
       "      <td>0.018329</td>\n",
       "      <td>0.015572</td>\n",
       "      <td>0.015355</td>\n",
       "      <td>0.018024</td>\n",
       "      <td>0.015468</td>\n",
       "    </tr>\n",
       "    <tr>\n",
       "      <th>Penicillin packaging</th>\n",
       "      <td>0.001504</td>\n",
       "      <td>0.001438</td>\n",
       "      <td>0.001482</td>\n",
       "      <td>0.001633</td>\n",
       "      <td>0.001603</td>\n",
       "      <td>0.001918</td>\n",
       "    </tr>\n",
       "    <tr>\n",
       "      <th>Electricity</th>\n",
       "      <td>0.021592</td>\n",
       "      <td>0.01459</td>\n",
       "      <td>0.005643</td>\n",
       "      <td>0.000564</td>\n",
       "      <td>0.007132</td>\n",
       "      <td>0.003219</td>\n",
       "    </tr>\n",
       "    <tr>\n",
       "      <th>Transport</th>\n",
       "      <td>0.000799</td>\n",
       "      <td>0.000899</td>\n",
       "      <td>0.000724</td>\n",
       "      <td>0.000498</td>\n",
       "      <td>0.00065</td>\n",
       "      <td>0.000071</td>\n",
       "    </tr>\n",
       "    <tr>\n",
       "      <th>Auxilary product</th>\n",
       "      <td>0</td>\n",
       "      <td>0</td>\n",
       "      <td>0</td>\n",
       "      <td>0</td>\n",
       "      <td>0</td>\n",
       "      <td>0</td>\n",
       "    </tr>\n",
       "    <tr>\n",
       "      <th>Disposal</th>\n",
       "      <td>0.000737</td>\n",
       "      <td>0.000737</td>\n",
       "      <td>0.000737</td>\n",
       "      <td>0.000737</td>\n",
       "      <td>0.000737</td>\n",
       "      <td>0.00074</td>\n",
       "    </tr>\n",
       "  </tbody>\n",
       "</table>\n",
       "</div>"
      ],
      "text/plain": [
       "                         penicillin_cut_off_IN penicillin_cut_off_CN  \\\n",
       "Penicillin manufacturing              0.018616              0.018329   \n",
       "Penicillin packaging                  0.001504              0.001438   \n",
       "Electricity                           0.021592               0.01459   \n",
       "Transport                             0.000799              0.000899   \n",
       "Auxilary product                             0                     0   \n",
       "Disposal                              0.000737              0.000737   \n",
       "\n",
       "                         penicillin_cut_off_IT penicillin_cut_off_CH  \\\n",
       "Penicillin manufacturing              0.015572              0.015355   \n",
       "Penicillin packaging                  0.001482              0.001633   \n",
       "Electricity                           0.005643              0.000564   \n",
       "Transport                             0.000724              0.000498   \n",
       "Auxilary product                             0                     0   \n",
       "Disposal                              0.000737              0.000737   \n",
       "\n",
       "                         penicillin_cut_off_US penicillin_cut_off_DK  \n",
       "Penicillin manufacturing              0.018024              0.015468  \n",
       "Penicillin packaging                  0.001603              0.001918  \n",
       "Electricity                           0.007132              0.003219  \n",
       "Transport                              0.00065              0.000071  \n",
       "Auxilary product                             0                     0  \n",
       "Disposal                              0.000737               0.00074  "
      ]
     },
     "execution_count": 182,
     "metadata": {},
     "output_type": "execute_result"
    }
   ],
   "source": [
    "df_res_dct = {}\n",
    "for p, (pen, res_dct) in enumerate(impact_dct.items()):\n",
    "    col = list(res_dct.keys())\n",
    "    idx = list(pen_contries_cat_dct.keys())\n",
    "    df = pd.DataFrame(0, index=idx, columns=col, dtype=object)\n",
    "\n",
    "    \n",
    "    for country, dct_ in res_dct.items():\n",
    "        for act, val in dct_.items():\n",
    "            \n",
    "            for cat, keywords in pen_contries_cat_dct.items():\n",
    "                # Check each keyword in the category\n",
    "                for keyword in keywords:\n",
    "                    if keyword in str(act):\n",
    "                        df.loc[cat, country] += val\n",
    "    excel_file = s.join_path(sens_path, f\"countries_pen_{pen_type[p]}.xlsx\")\n",
    "    s.save_LCIA_results(df, excel_file, f\"pen_{pen_type[p]}\")\n",
    "    df_res_dct[pen] = df\n",
    "df_res_dct[pen]\n"
   ]
  },
  {
   "cell_type": "code",
   "execution_count": 184,
   "metadata": {},
   "outputs": [
    {
     "data": {
      "text/plain": [
       "'Penicillin V, defined system'"
      ]
     },
     "execution_count": 184,
     "metadata": {},
     "output_type": "execute_result"
    }
   ],
   "source": [
    "pen"
   ]
  },
  {
   "cell_type": "code",
   "execution_count": 161,
   "metadata": {},
   "outputs": [],
   "source": [
    "xtick_txt = []\n",
    "for col in df.columns:\n",
    "    xtick_txt.append(col[-2:])"
   ]
  },
  {
   "cell_type": "code",
   "execution_count": null,
   "metadata": {},
   "outputs": [
    {
     "data": {
      "image/png": "[encoded data removed]",
      "text/plain": [
       "<Figure size 900x500 with 1 Axes>"
      ]
     },
     "metadata": {},
     "output_type": "display_data"
    },
    {
     "data": {
      "image/png": "[encoded data removed]",
      "text/plain": [
       "<Figure size 900x500 with 1 Axes>"
      ]
     },
     "metadata": {},
     "output_type": "display_data"
    }
   ],
   "source": [
    "width = 0.5\n",
    "\n",
    "\n",
    "for p, (pen, df) in enumerate(df_res_dct.items()):\n",
    "    colors = s.color_range(colorname=\"coolwarm\", color_quantity=len(df.index))\n",
    "    fig, ax = plt.subplots(figsize=(9, 5))\n",
    "    df.T.plot(\n",
    "        kind='bar',\n",
    "        stacked=True,\n",
    "        title=pen,\n",
    "        color=colors,\n",
    "        ax=ax,\n",
    "        width=width,\n",
    "        edgecolor=\"k\",\n",
    "        zorder=10\n",
    "    )\n",
    "\n",
    "    leg_color, _ = fig.gca().get_legend_handles_labels()\n",
    "    leg_txt = list(df.index)\n",
    "    if \"V\" in pen_type[p]:\n",
    "        leg_txt.pop(-2)\n",
    "        leg_color.pop(-2)\n",
    "        \n",
    "    # Reverse the order of handles and labels\n",
    "    leg_txt = leg_txt[::-1]\n",
    "    leg_color = leg_color[::-1]\n",
    "    \n",
    "\n",
    "\n",
    "    ax.legend(\n",
    "            leg_color,\n",
    "            leg_txt,\n",
    "            loc='upper left',\n",
    "            bbox_to_anchor=(0.995, 1),\n",
    "            ncol= 1,  # Adactjust the number of columns based on legend size\n",
    "            fontsize=10,\n",
    "            frameon=False\n",
    "        )\n",
    "    ax.set_title(f\"Global Warming Potential for 1 treatment of penicillin {pen_type[p]}\")\n",
    "    ax.set_ylabel('kilograms of CO$_2$-eq per treatment')\n",
    "    ax.set_xticklabels(xtick_txt, rotation=0)\n",
    "    ax.grid(axis='y', linestyle='--', alpha=0.7, zorder=-0)\n",
    "    plt.tight_layout()\n",
    "    plt.show()"
   ]
  }
 ],
 "metadata": {
  "kernelspec": {
   "display_name": "Python 3",
   "language": "python",
   "name": "python3"
  },
  "language_info": {
   "codemirror_mode": {
    "name": "ipython",
    "version": 3
   },
   "file_extension": ".py",
   "mimetype": "text/x-python",
   "name": "python",
   "nbconvert_exporter": "python",
   "pygments_lexer": "ipython3",
   "version": "3.11.9"
  }
 },
 "nbformat": 4,
 "nbformat_minor": 2
}
