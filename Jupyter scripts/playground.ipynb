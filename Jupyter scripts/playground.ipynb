{
 "cells": [
  {
   "cell_type": "code",
   "execution_count": 3,
   "metadata": {},
   "outputs": [],
   "source": [
    "path = r'C:/Users/ruw/Desktop'\n",
    "import sys # https://stackoverflow.com/questions/4383571/importing-files-from-different-folder\n",
    "sys.path.insert(1, rf'{path}\\RA\\penicilin\\Libaries')\n",
    "\n"
   ]
  },
  {
   "cell_type": "code",
   "execution_count": 4,
   "metadata": {},
   "outputs": [],
   "source": [
    "matching_database = \"ev391cutoff\"\n",
    "database = \"penicillin_cut_off\""
   ]
  },
  {
   "cell_type": "code",
   "execution_count": 5,
   "metadata": {},
   "outputs": [
    {
     "data": {
      "text/plain": [
       "Methods dictionary with 783 objects, including:\n",
       "\t('CML v4.8 2016', 'acidification', 'acidification (incl. fate, average Europe total, A&B)')\n",
       "\t('CML v4.8 2016', 'climate change', 'global warming potential (GWP100)')\n",
       "\t('CML v4.8 2016', 'ecotoxicity: freshwater', 'freshwater aquatic ecotoxicity (FAETP inf)')\n",
       "\t('CML v4.8 2016', 'ecotoxicity: marine', 'marine aquatic ecotoxicity (MAETP inf)')\n",
       "\t('CML v4.8 2016', 'ecotoxicity: terrestrial', 'terrestrial ecotoxicity (TETP inf)')\n",
       "\t('CML v4.8 2016', 'energy resources: non-renewable', 'abiotic depletion potential (ADP): fossil fuels')\n",
       "\t('CML v4.8 2016', 'eutrophication', 'eutrophication (fate not incl.)')\n",
       "\t('CML v4.8 2016', 'human toxicity', 'human toxicity (HTP inf)')\n",
       "\t('CML v4.8 2016', 'material resources: metals/minerals', 'abiotic depletion potential (ADP): elements (ultimate reserves)')\n",
       "\t('CML v4.8 2016', 'ozone depletion', 'ozone layer depletion (ODP steady state)')\n",
       "Use `list(this object)` to get the complete list."
      ]
     },
     "execution_count": 5,
     "metadata": {},
     "output_type": "execute_result"
    }
   ],
   "source": [
    "import reload_lib as rl\n",
    "# import lca\n",
    "import standards as s\n",
    "import sensitivity as st\n",
    "import brightway2 as bw \n",
    "\n",
    "bw.methods\n"
   ]
  },
  {
   "cell_type": "code",
   "execution_count": 6,
   "metadata": {},
   "outputs": [],
   "source": [
    "from lca import LCA\n",
    "\n",
    "var = LCA(path=path, matching_database=matching_database)\n"
   ]
  },
  {
   "cell_type": "code",
   "execution_count": 12,
   "metadata": {},
   "outputs": [
    {
     "data": {
      "text/plain": [
       "('ReCiPe 2016 v1.03, midpoint (H) - no biogenic',\n",
       " 'climate change',\n",
       " 'global warming potential (GWP1000)')"
      ]
     },
     "execution_count": 12,
     "metadata": {},
     "output_type": "execute_result"
    }
   ],
   "source": [
    "ics = var.lcia_impact_method()\n",
    "ics[1]"
   ]
  },
  {
   "cell_type": "code",
   "execution_count": 97,
   "metadata": {},
   "outputs": [
    {
     "name": "stdout",
     "output_type": "stream",
     "text": [
      "Initialization is completed for penicillin_cut_off_IN\n"
     ]
    }
   ],
   "source": [
    "data = var.LCA_initialization()"
   ]
  },
  {
   "cell_type": "code",
   "execution_count": null,
   "metadata": {},
   "outputs": [],
   "source": []
  },
  {
   "cell_type": "code",
   "execution_count": null,
   "metadata": {},
   "outputs": [],
   "source": [
    "endpoints_new_name = [\n",
    "            \"Ecosystem damage\",\n",
    "            \"Human health damage\",\n",
    "            \"Natural resources damage\"\n",
    "        ]"
   ]
  },
  {
   "cell_type": "code",
   "execution_count": 183,
   "metadata": {},
   "outputs": [
    {
     "data": {
      "text/plain": [
       "{'Terrestrial acidification potential (tap)': 'kg SO2-Eq',\n",
       " 'Global warming potential (gwp1000)': 'kg CO2-Eq',\n",
       " 'Freshwater ecotoxicity potential (fetp)': 'kg 1,4-DCB-Eq',\n",
       " 'Marine ecotoxicity potential (metp)': 'kg 1,4-DCB-Eq',\n",
       " 'Terrestrial ecotoxicity potential (tetp)': 'kg 1,4-DCB-Eq',\n",
       " 'Fossil fuel potential (ffp)': 'kg oil-Eq',\n",
       " 'Freshwater eutrophication potential (fep)': 'kg P-Eq',\n",
       " 'Marine eutrophication potential (mep)': 'kg N-Eq',\n",
       " 'Human toxicity potential (htpc)': 'kg 1,4-DCB-Eq',\n",
       " 'Human toxicity potential (htpnc)': 'kg 1,4-DCB-Eq',\n",
       " 'Ionising radiation potential (irp)': 'kg Co-60-Eq',\n",
       " 'Agricultural land occupation (lop)': 'm2*a crop-Eq',\n",
       " 'Surplus ore potential (sop)': 'kg Cu-Eq',\n",
       " 'Ozone depletion potential (odpinfinite)': 'kg CFC-11-Eq',\n",
       " 'Particulate matter formation potential (pmfp)': 'kg PM2.5-Eq',\n",
       " 'Photochemical oxidant formation potential: humans (hofp)': 'kg NOx-Eq',\n",
       " 'Photochemical oxidant formation potential: ecosystems (eofp)': 'kg NOx-Eq',\n",
       " 'Water consumption potential (wcp)': 'cubic meter',\n",
       " 'Ecosystem damage': 'species.yr',\n",
       " 'Human health damage': 'DALYs',\n",
       " 'Natural resources damage': 'USD 2013'}"
      ]
     },
     "execution_count": 183,
     "metadata": {},
     "output_type": "execute_result"
    }
   ],
   "source": [
    "impact_cat_unit_dct = {}\n",
    "end_counter = 0\n",
    "for m in bw.methods:\n",
    "    if 'ReCiPe 2016 v1.03, midpoint (H) - no biogenic' in str(m) and 'no LT' not in str(m):\n",
    "        method = bw.Method(m)\n",
    "        unit = method.metadata.get('unit', 'No unit found')\n",
    "        impact_cat_unit_dct[str(m[2]).capitalize()] = unit\n",
    "        # print(f\"Method: {m[2]}, Unit: {unit}\")\n",
    "    elif 'ReCiPe 2016 v1.03, endpoint (H) - no biogenic' in str(m) and 'no LT' not in str(m):\n",
    "        method = bw.Method(m)\n",
    "        unit = method.metadata.get('unit', 'No unit found')\n",
    "        \n",
    "\n",
    "        impact_cat_unit_dct[endpoints_new_name[end_counter]] = unit\n",
    "        end_counter += 1\n",
    "        \n",
    "impact_cat_unit_dct"
   ]
  },
  {
   "cell_type": "code",
   "execution_count": null,
   "metadata": {},
   "outputs": [],
   "source": []
  },
  {
   "cell_type": "code",
   "execution_count": 184,
   "metadata": {},
   "outputs": [
    {
     "data": {
      "text/plain": [
       "['Terrestrial acidification potential (tap)',\n",
       " 'Global warming potential (gwp1000)',\n",
       " 'Freshwater ecotoxicity potential (fetp)',\n",
       " 'Marine ecotoxicity potential (metp)',\n",
       " 'Terrestrial ecotoxicity potential (tetp)',\n",
       " 'Fossil fuel potential (ffp)',\n",
       " 'Freshwater eutrophication potential (fep)',\n",
       " 'Marine eutrophication potential (mep)',\n",
       " 'Human toxicity potential (htpc)',\n",
       " 'Human toxicity potential (htpnc)',\n",
       " 'Ionising radiation potential (irp)',\n",
       " 'Agricultural land occupation (lop)',\n",
       " 'Surplus ore potential (sop)',\n",
       " 'Ozone depletion potential (odpinfinite)',\n",
       " 'Particulate matter formation potential (pmfp)',\n",
       " 'Photochemical oxidant formation potential: humans (hofp)',\n",
       " 'Photochemical oxidant formation potential: ecosystems (eofp)',\n",
       " 'Water consumption potential (wcp)',\n",
       " 'Ecosystem quality',\n",
       " 'Human health',\n",
       " 'Natural resources']"
      ]
     },
     "execution_count": 184,
     "metadata": {},
     "output_type": "execute_result"
    }
   ],
   "source": [
    "df = s.import_LCIA_results(r\"C:\\Users\\ruw\\Desktop\\RA\\penicilin\\results\\LCIA\\LCIA_results.xlsx\", ic)\n",
    "df_tot, _ = var.dataframe_element_scaling(df)\n",
    "df_tot_T = df_tot.T\n",
    "ic_idx_lst = []\n",
    "for i in ic:\n",
    "    ic_idx_lst.append(str(i[2]).capitalize())\n",
    "ic_idx_lst"
   ]
  },
  {
   "cell_type": "code",
   "execution_count": 185,
   "metadata": {},
   "outputs": [
    {
     "data": {
      "text/plain": [
       "['Terrestrial acidification potential (tap)',\n",
       " 'Global warming potential (gwp1000)',\n",
       " 'Freshwater ecotoxicity potential (fetp)',\n",
       " 'Marine ecotoxicity potential (metp)',\n",
       " 'Terrestrial ecotoxicity potential (tetp)',\n",
       " 'Fossil fuel potential (ffp)',\n",
       " 'Freshwater eutrophication potential (fep)',\n",
       " 'Marine eutrophication potential (mep)',\n",
       " 'Human toxicity potential (htpc)',\n",
       " 'Human toxicity potential (htpnc)',\n",
       " 'Ionising radiation potential (irp)',\n",
       " 'Agricultural land occupation (lop)',\n",
       " 'Surplus ore potential (sop)',\n",
       " 'Ozone depletion potential (odpinfinite)',\n",
       " 'Particulate matter formation potential (pmfp)',\n",
       " 'Photochemical oxidant formation potential: humans (hofp)',\n",
       " 'Photochemical oxidant formation potential: ecosystems (eofp)',\n",
       " 'Water consumption potential (wcp)',\n",
       " 'Ecosystem damage',\n",
       " 'Human health damage',\n",
       " 'Natural resources damage']"
      ]
     },
     "execution_count": 185,
     "metadata": {},
     "output_type": "execute_result"
    }
   ],
   "source": [
    "for end in endpoints_new_name:\n",
    "    for x, iil in enumerate(ic_idx_lst):\n",
    "        iil = iil.replace(\" quality\", \"\")\n",
    "        if iil.lower() in end.lower():\n",
    "            ic_idx_lst[x] = end\n",
    "\n",
    "\n",
    "ic_idx_lst"
   ]
  },
  {
   "cell_type": "code",
   "execution_count": 186,
   "metadata": {},
   "outputs": [
    {
     "data": {
      "application/vnd.microsoft.datawrangler.viewer.v0+json": {
       "columns": [
        {
         "name": "index",
         "rawType": "object",
         "type": "string"
        },
        {
         "name": "Penicillin G, defined system",
         "rawType": "object",
         "type": "unknown"
        },
        {
         "name": "Penicillin V, defined system",
         "rawType": "object",
         "type": "unknown"
        }
       ],
       "conversionMethod": "pd.DataFrame",
       "ref": "ed3e1e43-c468-46f9-ab96-e134b42a8163",
       "rows": [
        [
         "Terrestrial acidification potential (tap)",
         "0.013737252235405787",
         "0.00026953588946985324"
        ],
        [
         "Global warming potential (gwp1000)",
         "4.042015347601866",
         "0.07523535901802467"
        ],
        [
         "Freshwater ecotoxicity potential (fetp)",
         "0.28562287433070677",
         "0.005920771614723823"
        ],
        [
         "Marine ecotoxicity potential (metp)",
         "0.38022984505560425",
         "0.0077849511921518535"
        ],
        [
         "Terrestrial ecotoxicity potential (tetp)",
         "15.130730215814678",
         "0.2915305236169629"
        ],
        [
         "Fossil fuel potential (ffp)",
         "1.1367892907202846",
         "0.02015620143279974"
        ],
        [
         "Freshwater eutrophication potential (fep)",
         "0.0027348806330220023",
         "6.368039558866752e-05"
        ],
        [
         "Marine eutrophication potential (mep)",
         "0.00039438880763757896",
         "6.929240373529041e-06"
        ],
        [
         "Human toxicity potential (htpc)",
         "0.5266607085556384",
         "0.0143290992601228"
        ],
        [
         "Human toxicity potential (htpnc)",
         "6.338767046762988",
         "0.13573971274540012"
        ],
        [
         "Ionising radiation potential (irp)",
         "1.2505011097851775",
         "0.039666225903825424"
        ],
        [
         "Agricultural land occupation (lop)",
         "0.25420076215201187",
         "0.0024115249984943228"
        ],
        [
         "Surplus ore potential (sop)",
         "0.16398876340977567",
         "0.004521254423241537"
        ],
        [
         "Ozone depletion potential (odpinfinite)",
         "1.8514255366824621e-06",
         "3.5380117737463734e-08"
        ],
        [
         "Particulate matter formation potential (pmfp)",
         "0.006487072185573489",
         "0.00010995825605212629"
        ],
        [
         "Photochemical oxidant formation potential: humans (hofp)",
         "0.00873488571470898",
         "0.00014654311712629687"
        ],
        [
         "Photochemical oxidant formation potential: ecosystems (eofp)",
         "0.009048612796666484",
         "0.00015135703598906716"
        ],
        [
         "Water consumption potential (wcp)",
         "0.13357080679096628",
         "0.0039973151540209735"
        ],
        [
         "Ecosystem damage",
         "1.9896433225021764e-08",
         "3.596526759787584e-10"
        ],
        [
         "Human health damage",
         "1.1337004273188664e-05",
         "2.2677987672799326e-07"
        ],
        [
         "Natural resources damage",
         "0.3068775512625162",
         "0.00533910208103247"
        ]
       ],
       "shape": {
        "columns": 2,
        "rows": 21
       }
      },
      "text/html": [
       "<div>\n",
       "<style scoped>\n",
       "    .dataframe tbody tr th:only-of-type {\n",
       "        vertical-align: middle;\n",
       "    }\n",
       "\n",
       "    .dataframe tbody tr th {\n",
       "        vertical-align: top;\n",
       "    }\n",
       "\n",
       "    .dataframe thead th {\n",
       "        text-align: right;\n",
       "    }\n",
       "</style>\n",
       "<table border=\"1\" class=\"dataframe\">\n",
       "  <thead>\n",
       "    <tr style=\"text-align: right;\">\n",
       "      <th></th>\n",
       "      <th>Penicillin G, defined system</th>\n",
       "      <th>Penicillin V, defined system</th>\n",
       "    </tr>\n",
       "  </thead>\n",
       "  <tbody>\n",
       "    <tr>\n",
       "      <th>Terrestrial acidification potential (tap)</th>\n",
       "      <td>0.013737</td>\n",
       "      <td>0.00027</td>\n",
       "    </tr>\n",
       "    <tr>\n",
       "      <th>Global warming potential (gwp1000)</th>\n",
       "      <td>4.042015</td>\n",
       "      <td>0.075235</td>\n",
       "    </tr>\n",
       "    <tr>\n",
       "      <th>Freshwater ecotoxicity potential (fetp)</th>\n",
       "      <td>0.285623</td>\n",
       "      <td>0.005921</td>\n",
       "    </tr>\n",
       "    <tr>\n",
       "      <th>Marine ecotoxicity potential (metp)</th>\n",
       "      <td>0.38023</td>\n",
       "      <td>0.007785</td>\n",
       "    </tr>\n",
       "    <tr>\n",
       "      <th>Terrestrial ecotoxicity potential (tetp)</th>\n",
       "      <td>15.13073</td>\n",
       "      <td>0.291531</td>\n",
       "    </tr>\n",
       "    <tr>\n",
       "      <th>Fossil fuel potential (ffp)</th>\n",
       "      <td>1.136789</td>\n",
       "      <td>0.020156</td>\n",
       "    </tr>\n",
       "    <tr>\n",
       "      <th>Freshwater eutrophication potential (fep)</th>\n",
       "      <td>0.002735</td>\n",
       "      <td>0.000064</td>\n",
       "    </tr>\n",
       "    <tr>\n",
       "      <th>Marine eutrophication potential (mep)</th>\n",
       "      <td>0.000394</td>\n",
       "      <td>0.000007</td>\n",
       "    </tr>\n",
       "    <tr>\n",
       "      <th>Human toxicity potential (htpc)</th>\n",
       "      <td>0.526661</td>\n",
       "      <td>0.014329</td>\n",
       "    </tr>\n",
       "    <tr>\n",
       "      <th>Human toxicity potential (htpnc)</th>\n",
       "      <td>6.338767</td>\n",
       "      <td>0.13574</td>\n",
       "    </tr>\n",
       "    <tr>\n",
       "      <th>Ionising radiation potential (irp)</th>\n",
       "      <td>1.250501</td>\n",
       "      <td>0.039666</td>\n",
       "    </tr>\n",
       "    <tr>\n",
       "      <th>Agricultural land occupation (lop)</th>\n",
       "      <td>0.254201</td>\n",
       "      <td>0.002412</td>\n",
       "    </tr>\n",
       "    <tr>\n",
       "      <th>Surplus ore potential (sop)</th>\n",
       "      <td>0.163989</td>\n",
       "      <td>0.004521</td>\n",
       "    </tr>\n",
       "    <tr>\n",
       "      <th>Ozone depletion potential (odpinfinite)</th>\n",
       "      <td>0.000002</td>\n",
       "      <td>0.0</td>\n",
       "    </tr>\n",
       "    <tr>\n",
       "      <th>Particulate matter formation potential (pmfp)</th>\n",
       "      <td>0.006487</td>\n",
       "      <td>0.00011</td>\n",
       "    </tr>\n",
       "    <tr>\n",
       "      <th>Photochemical oxidant formation potential: humans (hofp)</th>\n",
       "      <td>0.008735</td>\n",
       "      <td>0.000147</td>\n",
       "    </tr>\n",
       "    <tr>\n",
       "      <th>Photochemical oxidant formation potential: ecosystems (eofp)</th>\n",
       "      <td>0.009049</td>\n",
       "      <td>0.000151</td>\n",
       "    </tr>\n",
       "    <tr>\n",
       "      <th>Water consumption potential (wcp)</th>\n",
       "      <td>0.133571</td>\n",
       "      <td>0.003997</td>\n",
       "    </tr>\n",
       "    <tr>\n",
       "      <th>Ecosystem damage</th>\n",
       "      <td>0.0</td>\n",
       "      <td>0.0</td>\n",
       "    </tr>\n",
       "    <tr>\n",
       "      <th>Human health damage</th>\n",
       "      <td>0.000011</td>\n",
       "      <td>0.0</td>\n",
       "    </tr>\n",
       "    <tr>\n",
       "      <th>Natural resources damage</th>\n",
       "      <td>0.306878</td>\n",
       "      <td>0.005339</td>\n",
       "    </tr>\n",
       "  </tbody>\n",
       "</table>\n",
       "</div>"
      ],
      "text/plain": [
       "                                                   Penicillin G, defined system  \\\n",
       "Terrestrial acidification potential (tap)                              0.013737   \n",
       "Global warming potential (gwp1000)                                     4.042015   \n",
       "Freshwater ecotoxicity potential (fetp)                                0.285623   \n",
       "Marine ecotoxicity potential (metp)                                     0.38023   \n",
       "Terrestrial ecotoxicity potential (tetp)                               15.13073   \n",
       "Fossil fuel potential (ffp)                                            1.136789   \n",
       "Freshwater eutrophication potential (fep)                              0.002735   \n",
       "Marine eutrophication potential (mep)                                  0.000394   \n",
       "Human toxicity potential (htpc)                                        0.526661   \n",
       "Human toxicity potential (htpnc)                                       6.338767   \n",
       "Ionising radiation potential (irp)                                     1.250501   \n",
       "Agricultural land occupation (lop)                                     0.254201   \n",
       "Surplus ore potential (sop)                                            0.163989   \n",
       "Ozone depletion potential (odpinfinite)                                0.000002   \n",
       "Particulate matter formation potential (pmfp)                          0.006487   \n",
       "Photochemical oxidant formation potential: huma...                     0.008735   \n",
       "Photochemical oxidant formation potential: ecos...                     0.009049   \n",
       "Water consumption potential (wcp)                                      0.133571   \n",
       "Ecosystem damage                                                            0.0   \n",
       "Human health damage                                                    0.000011   \n",
       "Natural resources damage                                               0.306878   \n",
       "\n",
       "                                                   Penicillin V, defined system  \n",
       "Terrestrial acidification potential (tap)                               0.00027  \n",
       "Global warming potential (gwp1000)                                     0.075235  \n",
       "Freshwater ecotoxicity potential (fetp)                                0.005921  \n",
       "Marine ecotoxicity potential (metp)                                    0.007785  \n",
       "Terrestrial ecotoxicity potential (tetp)                               0.291531  \n",
       "Fossil fuel potential (ffp)                                            0.020156  \n",
       "Freshwater eutrophication potential (fep)                              0.000064  \n",
       "Marine eutrophication potential (mep)                                  0.000007  \n",
       "Human toxicity potential (htpc)                                        0.014329  \n",
       "Human toxicity potential (htpnc)                                        0.13574  \n",
       "Ionising radiation potential (irp)                                     0.039666  \n",
       "Agricultural land occupation (lop)                                     0.002412  \n",
       "Surplus ore potential (sop)                                            0.004521  \n",
       "Ozone depletion potential (odpinfinite)                                     0.0  \n",
       "Particulate matter formation potential (pmfp)                           0.00011  \n",
       "Photochemical oxidant formation potential: huma...                     0.000147  \n",
       "Photochemical oxidant formation potential: ecos...                     0.000151  \n",
       "Water consumption potential (wcp)                                      0.003997  \n",
       "Ecosystem damage                                                            0.0  \n",
       "Human health damage                                                         0.0  \n",
       "Natural resources damage                                               0.005339  "
      ]
     },
     "execution_count": 186,
     "metadata": {},
     "output_type": "execute_result"
    }
   ],
   "source": [
    "df_tot_T.index = ic_idx_lst\n",
    "df_tot_T"
   ]
  },
  {
   "cell_type": "code",
   "execution_count": 187,
   "metadata": {},
   "outputs": [
    {
     "data": {
      "application/vnd.microsoft.datawrangler.viewer.v0+json": {
       "columns": [
        {
         "name": "index",
         "rawType": "object",
         "type": "string"
        },
        {
         "name": "Penicillin G, defined system",
         "rawType": "object",
         "type": "unknown"
        },
        {
         "name": "Penicillin V, defined system",
         "rawType": "object",
         "type": "unknown"
        },
        {
         "name": "Unit",
         "rawType": "object",
         "type": "string"
        }
       ],
       "conversionMethod": "pd.DataFrame",
       "ref": "683046fb-3904-4189-945a-202fb95fade4",
       "rows": [
        [
         "Terrestrial acidification potential (tap)",
         "0.013737252235405787",
         "0.00026953588946985324",
         "kg SO2-Eq"
        ],
        [
         "Global warming potential (gwp1000)",
         "4.042015347601866",
         "0.07523535901802467",
         "kg CO2-Eq"
        ],
        [
         "Freshwater ecotoxicity potential (fetp)",
         "0.28562287433070677",
         "0.005920771614723823",
         "kg 1,4-DCB-Eq"
        ],
        [
         "Marine ecotoxicity potential (metp)",
         "0.38022984505560425",
         "0.0077849511921518535",
         "kg 1,4-DCB-Eq"
        ],
        [
         "Terrestrial ecotoxicity potential (tetp)",
         "15.130730215814678",
         "0.2915305236169629",
         "kg 1,4-DCB-Eq"
        ],
        [
         "Fossil fuel potential (ffp)",
         "1.1367892907202846",
         "0.02015620143279974",
         "kg oil-Eq"
        ],
        [
         "Freshwater eutrophication potential (fep)",
         "0.0027348806330220023",
         "6.368039558866752e-05",
         "kg P-Eq"
        ],
        [
         "Marine eutrophication potential (mep)",
         "0.00039438880763757896",
         "6.929240373529041e-06",
         "kg N-Eq"
        ],
        [
         "Human toxicity potential (htpc)",
         "0.5266607085556384",
         "0.0143290992601228",
         "kg 1,4-DCB-Eq"
        ],
        [
         "Human toxicity potential (htpnc)",
         "6.338767046762988",
         "0.13573971274540012",
         "kg 1,4-DCB-Eq"
        ],
        [
         "Ionising radiation potential (irp)",
         "1.2505011097851775",
         "0.039666225903825424",
         "kg Co-60-Eq"
        ],
        [
         "Agricultural land occupation (lop)",
         "0.25420076215201187",
         "0.0024115249984943228",
         "m2*a crop-Eq"
        ],
        [
         "Surplus ore potential (sop)",
         "0.16398876340977567",
         "0.004521254423241537",
         "kg Cu-Eq"
        ],
        [
         "Ozone depletion potential (odpinfinite)",
         "1.8514255366824621e-06",
         "3.5380117737463734e-08",
         "kg CFC-11-Eq"
        ],
        [
         "Particulate matter formation potential (pmfp)",
         "0.006487072185573489",
         "0.00010995825605212629",
         "kg PM2.5-Eq"
        ],
        [
         "Photochemical oxidant formation potential: humans (hofp)",
         "0.00873488571470898",
         "0.00014654311712629687",
         "kg NOx-Eq"
        ],
        [
         "Photochemical oxidant formation potential: ecosystems (eofp)",
         "0.009048612796666484",
         "0.00015135703598906716",
         "kg NOx-Eq"
        ],
        [
         "Water consumption potential (wcp)",
         "0.13357080679096628",
         "0.0039973151540209735",
         "cubic meter"
        ],
        [
         "Ecosystem damage",
         "1.9896433225021764e-08",
         "3.596526759787584e-10",
         "species.yr"
        ],
        [
         "Human health damage",
         "1.1337004273188664e-05",
         "2.2677987672799326e-07",
         "DALYs"
        ],
        [
         "Natural resources damage",
         "0.3068775512625162",
         "0.00533910208103247",
         "USD 2013"
        ]
       ],
       "shape": {
        "columns": 3,
        "rows": 21
       }
      },
      "text/html": [
       "<div>\n",
       "<style scoped>\n",
       "    .dataframe tbody tr th:only-of-type {\n",
       "        vertical-align: middle;\n",
       "    }\n",
       "\n",
       "    .dataframe tbody tr th {\n",
       "        vertical-align: top;\n",
       "    }\n",
       "\n",
       "    .dataframe thead th {\n",
       "        text-align: right;\n",
       "    }\n",
       "</style>\n",
       "<table border=\"1\" class=\"dataframe\">\n",
       "  <thead>\n",
       "    <tr style=\"text-align: right;\">\n",
       "      <th></th>\n",
       "      <th>Penicillin G, defined system</th>\n",
       "      <th>Penicillin V, defined system</th>\n",
       "      <th>Unit</th>\n",
       "    </tr>\n",
       "  </thead>\n",
       "  <tbody>\n",
       "    <tr>\n",
       "      <th>Terrestrial acidification potential (tap)</th>\n",
       "      <td>0.013737</td>\n",
       "      <td>0.00027</td>\n",
       "      <td>kg SO2-Eq</td>\n",
       "    </tr>\n",
       "    <tr>\n",
       "      <th>Global warming potential (gwp1000)</th>\n",
       "      <td>4.042015</td>\n",
       "      <td>0.075235</td>\n",
       "      <td>kg CO2-Eq</td>\n",
       "    </tr>\n",
       "    <tr>\n",
       "      <th>Freshwater ecotoxicity potential (fetp)</th>\n",
       "      <td>0.285623</td>\n",
       "      <td>0.005921</td>\n",
       "      <td>kg 1,4-DCB-Eq</td>\n",
       "    </tr>\n",
       "    <tr>\n",
       "      <th>Marine ecotoxicity potential (metp)</th>\n",
       "      <td>0.38023</td>\n",
       "      <td>0.007785</td>\n",
       "      <td>kg 1,4-DCB-Eq</td>\n",
       "    </tr>\n",
       "    <tr>\n",
       "      <th>Terrestrial ecotoxicity potential (tetp)</th>\n",
       "      <td>15.13073</td>\n",
       "      <td>0.291531</td>\n",
       "      <td>kg 1,4-DCB-Eq</td>\n",
       "    </tr>\n",
       "    <tr>\n",
       "      <th>Fossil fuel potential (ffp)</th>\n",
       "      <td>1.136789</td>\n",
       "      <td>0.020156</td>\n",
       "      <td>kg oil-Eq</td>\n",
       "    </tr>\n",
       "    <tr>\n",
       "      <th>Freshwater eutrophication potential (fep)</th>\n",
       "      <td>0.002735</td>\n",
       "      <td>0.000064</td>\n",
       "      <td>kg P-Eq</td>\n",
       "    </tr>\n",
       "    <tr>\n",
       "      <th>Marine eutrophication potential (mep)</th>\n",
       "      <td>0.000394</td>\n",
       "      <td>0.000007</td>\n",
       "      <td>kg N-Eq</td>\n",
       "    </tr>\n",
       "    <tr>\n",
       "      <th>Human toxicity potential (htpc)</th>\n",
       "      <td>0.526661</td>\n",
       "      <td>0.014329</td>\n",
       "      <td>kg 1,4-DCB-Eq</td>\n",
       "    </tr>\n",
       "    <tr>\n",
       "      <th>Human toxicity potential (htpnc)</th>\n",
       "      <td>6.338767</td>\n",
       "      <td>0.13574</td>\n",
       "      <td>kg 1,4-DCB-Eq</td>\n",
       "    </tr>\n",
       "    <tr>\n",
       "      <th>Ionising radiation potential (irp)</th>\n",
       "      <td>1.250501</td>\n",
       "      <td>0.039666</td>\n",
       "      <td>kg Co-60-Eq</td>\n",
       "    </tr>\n",
       "    <tr>\n",
       "      <th>Agricultural land occupation (lop)</th>\n",
       "      <td>0.254201</td>\n",
       "      <td>0.002412</td>\n",
       "      <td>m2*a crop-Eq</td>\n",
       "    </tr>\n",
       "    <tr>\n",
       "      <th>Surplus ore potential (sop)</th>\n",
       "      <td>0.163989</td>\n",
       "      <td>0.004521</td>\n",
       "      <td>kg Cu-Eq</td>\n",
       "    </tr>\n",
       "    <tr>\n",
       "      <th>Ozone depletion potential (odpinfinite)</th>\n",
       "      <td>0.000002</td>\n",
       "      <td>0.0</td>\n",
       "      <td>kg CFC-11-Eq</td>\n",
       "    </tr>\n",
       "    <tr>\n",
       "      <th>Particulate matter formation potential (pmfp)</th>\n",
       "      <td>0.006487</td>\n",
       "      <td>0.00011</td>\n",
       "      <td>kg PM2.5-Eq</td>\n",
       "    </tr>\n",
       "    <tr>\n",
       "      <th>Photochemical oxidant formation potential: humans (hofp)</th>\n",
       "      <td>0.008735</td>\n",
       "      <td>0.000147</td>\n",
       "      <td>kg NOx-Eq</td>\n",
       "    </tr>\n",
       "    <tr>\n",
       "      <th>Photochemical oxidant formation potential: ecosystems (eofp)</th>\n",
       "      <td>0.009049</td>\n",
       "      <td>0.000151</td>\n",
       "      <td>kg NOx-Eq</td>\n",
       "    </tr>\n",
       "    <tr>\n",
       "      <th>Water consumption potential (wcp)</th>\n",
       "      <td>0.133571</td>\n",
       "      <td>0.003997</td>\n",
       "      <td>cubic meter</td>\n",
       "    </tr>\n",
       "    <tr>\n",
       "      <th>Ecosystem damage</th>\n",
       "      <td>0.0</td>\n",
       "      <td>0.0</td>\n",
       "      <td>species.yr</td>\n",
       "    </tr>\n",
       "    <tr>\n",
       "      <th>Human health damage</th>\n",
       "      <td>0.000011</td>\n",
       "      <td>0.0</td>\n",
       "      <td>DALYs</td>\n",
       "    </tr>\n",
       "    <tr>\n",
       "      <th>Natural resources damage</th>\n",
       "      <td>0.306878</td>\n",
       "      <td>0.005339</td>\n",
       "      <td>USD 2013</td>\n",
       "    </tr>\n",
       "  </tbody>\n",
       "</table>\n",
       "</div>"
      ],
      "text/plain": [
       "                                                   Penicillin G, defined system  \\\n",
       "Terrestrial acidification potential (tap)                              0.013737   \n",
       "Global warming potential (gwp1000)                                     4.042015   \n",
       "Freshwater ecotoxicity potential (fetp)                                0.285623   \n",
       "Marine ecotoxicity potential (metp)                                     0.38023   \n",
       "Terrestrial ecotoxicity potential (tetp)                               15.13073   \n",
       "Fossil fuel potential (ffp)                                            1.136789   \n",
       "Freshwater eutrophication potential (fep)                              0.002735   \n",
       "Marine eutrophication potential (mep)                                  0.000394   \n",
       "Human toxicity potential (htpc)                                        0.526661   \n",
       "Human toxicity potential (htpnc)                                       6.338767   \n",
       "Ionising radiation potential (irp)                                     1.250501   \n",
       "Agricultural land occupation (lop)                                     0.254201   \n",
       "Surplus ore potential (sop)                                            0.163989   \n",
       "Ozone depletion potential (odpinfinite)                                0.000002   \n",
       "Particulate matter formation potential (pmfp)                          0.006487   \n",
       "Photochemical oxidant formation potential: huma...                     0.008735   \n",
       "Photochemical oxidant formation potential: ecos...                     0.009049   \n",
       "Water consumption potential (wcp)                                      0.133571   \n",
       "Ecosystem damage                                                            0.0   \n",
       "Human health damage                                                    0.000011   \n",
       "Natural resources damage                                               0.306878   \n",
       "\n",
       "                                                   Penicillin V, defined system  \\\n",
       "Terrestrial acidification potential (tap)                               0.00027   \n",
       "Global warming potential (gwp1000)                                     0.075235   \n",
       "Freshwater ecotoxicity potential (fetp)                                0.005921   \n",
       "Marine ecotoxicity potential (metp)                                    0.007785   \n",
       "Terrestrial ecotoxicity potential (tetp)                               0.291531   \n",
       "Fossil fuel potential (ffp)                                            0.020156   \n",
       "Freshwater eutrophication potential (fep)                              0.000064   \n",
       "Marine eutrophication potential (mep)                                  0.000007   \n",
       "Human toxicity potential (htpc)                                        0.014329   \n",
       "Human toxicity potential (htpnc)                                        0.13574   \n",
       "Ionising radiation potential (irp)                                     0.039666   \n",
       "Agricultural land occupation (lop)                                     0.002412   \n",
       "Surplus ore potential (sop)                                            0.004521   \n",
       "Ozone depletion potential (odpinfinite)                                     0.0   \n",
       "Particulate matter formation potential (pmfp)                           0.00011   \n",
       "Photochemical oxidant formation potential: huma...                     0.000147   \n",
       "Photochemical oxidant formation potential: ecos...                     0.000151   \n",
       "Water consumption potential (wcp)                                      0.003997   \n",
       "Ecosystem damage                                                            0.0   \n",
       "Human health damage                                                         0.0   \n",
       "Natural resources damage                                               0.005339   \n",
       "\n",
       "                                                             Unit  \n",
       "Terrestrial acidification potential (tap)               kg SO2-Eq  \n",
       "Global warming potential (gwp1000)                      kg CO2-Eq  \n",
       "Freshwater ecotoxicity potential (fetp)             kg 1,4-DCB-Eq  \n",
       "Marine ecotoxicity potential (metp)                 kg 1,4-DCB-Eq  \n",
       "Terrestrial ecotoxicity potential (tetp)            kg 1,4-DCB-Eq  \n",
       "Fossil fuel potential (ffp)                             kg oil-Eq  \n",
       "Freshwater eutrophication potential (fep)                 kg P-Eq  \n",
       "Marine eutrophication potential (mep)                     kg N-Eq  \n",
       "Human toxicity potential (htpc)                     kg 1,4-DCB-Eq  \n",
       "Human toxicity potential (htpnc)                    kg 1,4-DCB-Eq  \n",
       "Ionising radiation potential (irp)                    kg Co-60-Eq  \n",
       "Agricultural land occupation (lop)                   m2*a crop-Eq  \n",
       "Surplus ore potential (sop)                              kg Cu-Eq  \n",
       "Ozone depletion potential (odpinfinite)              kg CFC-11-Eq  \n",
       "Particulate matter formation potential (pmfp)         kg PM2.5-Eq  \n",
       "Photochemical oxidant formation potential: huma...      kg NOx-Eq  \n",
       "Photochemical oxidant formation potential: ecos...      kg NOx-Eq  \n",
       "Water consumption potential (wcp)                     cubic meter  \n",
       "Ecosystem damage                                       species.yr  \n",
       "Human health damage                                         DALYs  \n",
       "Natural resources damage                                 USD 2013  "
      ]
     },
     "execution_count": 187,
     "metadata": {},
     "output_type": "execute_result"
    }
   ],
   "source": [
    "for idx, row in df_tot_T.iterrows():\n",
    "    # print(idxkc)\n",
    "    df_tot_T.at[idx,\"Unit\"] = impact_cat_unit_dct[idx]\n",
    "\n",
    "df_tot_T"
   ]
  }
 ],
 "metadata": {
  "kernelspec": {
   "display_name": "Python 3",
   "language": "python",
   "name": "python3"
  },
  "language_info": {
   "codemirror_mode": {
    "name": "ipython",
    "version": 3
   },
   "file_extension": ".py",
   "mimetype": "text/x-python",
   "name": "python",
   "nbconvert_exporter": "python",
   "pygments_lexer": "ipython3",
   "version": "3.11.9"
  }
 },
 "nbformat": 4,
 "nbformat_minor": 2
}
