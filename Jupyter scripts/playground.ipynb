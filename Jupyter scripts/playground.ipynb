{
 "cells": [
  {
   "cell_type": "code",
   "execution_count": 2,
   "metadata": {},
   "outputs": [],
   "source": [
    "import pandas as pd"
   ]
  },
  {
   "cell_type": "code",
   "execution_count": null,
   "metadata": {},
   "outputs": [],
   "source": []
  },
  {
   "cell_type": "code",
   "execution_count": 7,
   "metadata": {},
   "outputs": [],
   "source": [
    "file = r\"C:\\Users\\ruw\\Desktop\\RA\\penicilin\\data\\cf.xlsx\"\n",
    "sheets = [\"recipe\", \"ecotox\"]"
   ]
  },
  {
   "cell_type": "code",
   "execution_count": null,
   "metadata": {},
   "outputs": [
    {
     "data": {
      "application/vnd.microsoft.datawrangler.viewer.v0+json": {
       "columns": [
        {
         "name": "index",
         "rawType": "object",
         "type": "string"
        },
        {
         "name": "freshwater (H)",
         "rawType": "float64",
         "type": "float"
        },
        {
         "name": "marine (H)",
         "rawType": "float64",
         "type": "float"
        },
        {
         "name": "terrestial (H)",
         "rawType": "float64",
         "type": "float"
        }
       ],
       "conversionMethod": "pd.DataFrame",
       "ref": "1ec8bd80-e7e2-4687-b586-3d290f3f1bdf",
       "rows": [
        [
         "1,2-Dichlorobenzene",
         "0.836",
         "0.141",
         "1.76"
        ],
        [
         "1-Pentanol",
         "0.0411",
         "0.00125",
         "0.695"
        ],
        [
         "2,4-D",
         "2.62",
         "0.145",
         "0.00054"
        ],
        [
         "2-Methyl-1-propanol",
         "0.0248",
         "0.00144",
         "0.798"
        ],
        [
         "2-Propanol",
         "0.00477",
         "0.000299",
         "0.0188"
        ],
        [
         "2-chlorobenzaldehyde",
         "3.7",
         "0.332",
         "34.2"
        ],
        [
         "4-Methyl-2-pentanol",
         "0.0331",
         "0.00189",
         "0.39"
        ],
        [
         "4-Methyl-2-pentanone",
         "0.0653",
         "0.00155",
         "9.68e-05"
        ],
        [
         "Acenaphthene",
         "14.1",
         "0.63",
         "1.61"
        ],
        [
         "Acephate",
         "0.89",
         "0.0492",
         "7.9e-05"
        ],
        [
         "Acetaldehyde",
         "0.144",
         "0.00944",
         "0.339"
        ],
        [
         "Acetic acid",
         "0.169",
         "0.00238",
         "0.00669"
        ],
        [
         "Acetone",
         "0.00217",
         "0.000503",
         "0.0236"
        ],
        [
         "Acetonitrile",
         "0.00874",
         "0.00239",
         "0.305"
        ],
        [
         "Acetyl chloride",
         "0.282",
         "0.0853",
         "15.6"
        ],
        [
         "Acrolein",
         "69.4",
         "3.24",
         "423.0"
        ],
        [
         "Acrylate",
         "0.132",
         "0.00186",
         "0.00425"
        ],
        [
         "Acrylonitrile",
         "0.441",
         "0.052",
         "3.13"
        ],
        [
         "Allyl chloride",
         "0.309",
         "0.00546",
         "0.0173"
        ],
        [
         "Alpha-cypermethrin",
         "82800.0",
         "16200.0",
         "3630.0"
        ],
        [
         "Aniline",
         "1.05",
         "0.0257",
         "0.622"
        ],
        [
         "Anthracene",
         "354.0",
         "28.9",
         "71.1"
        ],
        [
         "Antimony ion",
         "340.0",
         "460.0",
         "1.68e-14"
        ],
        [
         "Arsenic ion",
         "62.2",
         "86.3",
         "3.62e-15"
        ],
        [
         "Atrazine",
         "179.0",
         "14.9",
         "10.1"
        ],
        [
         "Azoxystrobin",
         "156.0",
         "13.0",
         "6.1e-05"
        ],
        [
         "Barium II",
         "2.79",
         "3.93",
         "1.33e-16"
        ],
        [
         "Benzaldehyde",
         "0.744",
         "0.0395",
         "0.582"
        ],
        [
         "Benzene",
         "0.0868",
         "0.00485",
         "0.0859"
        ],
        [
         "Benzene, chloro-",
         "0.748",
         "0.0377",
         "0.922"
        ],
        [
         "Benzene, ethyl-",
         "0.293",
         "0.00563",
         "0.0425"
        ],
        [
         "Benzene, hexachloro-",
         "24.6",
         "11.0",
         "48.4"
        ],
        [
         "Benzene, pentachloro-",
         "15.2",
         "21.9",
         "76.3"
        ],
        [
         "Benzo(a)pyrene",
         "134.0",
         "12.2",
         "0.445"
        ],
        [
         "Benzyl alcohol",
         "0.285",
         "0.00699",
         "0.0477"
        ],
        [
         "Beryllium II",
         "55.9",
         "72.0",
         "6.62e-15"
        ],
        [
         "Beta-cyfluthrin",
         "21200.0",
         "4150.0",
         "308.0"
        ],
        [
         "Bifenthrin",
         "12200.0",
         "2500.0",
         "801.0"
        ],
        [
         "Bisphenol A",
         "44.9",
         "2.49",
         "0.0064"
        ],
        [
         "Bromopropane",
         "0.129",
         "0.00353",
         "0.0782"
        ],
        [
         "Butanol",
         "0.0183",
         "0.000557",
         "0.0186"
        ],
        [
         "Butyl acetate",
         "0.0771",
         "0.00305",
         "0.368"
        ],
        [
         "Cadmium II",
         "16.8",
         "19.6",
         "8.73e-16"
        ],
        [
         "Carbendazim",
         "46.0",
         "2.54",
         "0.0417"
        ],
        [
         "Carbon disulfide",
         "0.349",
         "0.137",
         "0.853"
        ],
        [
         "Carboxin",
         "26.1",
         "1.44",
         "0.242"
        ],
        [
         "Carboxylic acids, unspecified",
         "0.0948",
         "0.00133",
         "0.00159"
        ],
        [
         "Carfentrazone-ethyl",
         "4130.0",
         "795.0",
         "123.0"
        ],
        [
         "Chloramine",
         "217.0",
         "5.16",
         "3.26e-06"
        ],
        [
         "Chloroacetic acid",
         "9.0",
         "0.214",
         "0.00068"
        ]
       ],
       "shape": {
        "columns": 3,
        "rows": 169
       }
      },
      "text/html": [
       "<div>\n",
       "<style scoped>\n",
       "    .dataframe tbody tr th:only-of-type {\n",
       "        vertical-align: middle;\n",
       "    }\n",
       "\n",
       "    .dataframe tbody tr th {\n",
       "        vertical-align: top;\n",
       "    }\n",
       "\n",
       "    .dataframe thead th {\n",
       "        text-align: right;\n",
       "    }\n",
       "</style>\n",
       "<table border=\"1\" class=\"dataframe\">\n",
       "  <thead>\n",
       "    <tr style=\"text-align: right;\">\n",
       "      <th></th>\n",
       "      <th>freshwater (H)</th>\n",
       "      <th>marine (H)</th>\n",
       "      <th>terrestial (H)</th>\n",
       "    </tr>\n",
       "  </thead>\n",
       "  <tbody>\n",
       "    <tr>\n",
       "      <th>1,2-Dichlorobenzene</th>\n",
       "      <td>0.83600</td>\n",
       "      <td>0.141000</td>\n",
       "      <td>1.760000e+00</td>\n",
       "    </tr>\n",
       "    <tr>\n",
       "      <th>1-Pentanol</th>\n",
       "      <td>0.04110</td>\n",
       "      <td>0.001250</td>\n",
       "      <td>6.950000e-01</td>\n",
       "    </tr>\n",
       "    <tr>\n",
       "      <th>2,4-D</th>\n",
       "      <td>2.62000</td>\n",
       "      <td>0.145000</td>\n",
       "      <td>5.400000e-04</td>\n",
       "    </tr>\n",
       "    <tr>\n",
       "      <th>2-Methyl-1-propanol</th>\n",
       "      <td>0.02480</td>\n",
       "      <td>0.001440</td>\n",
       "      <td>7.980000e-01</td>\n",
       "    </tr>\n",
       "    <tr>\n",
       "      <th>2-Propanol</th>\n",
       "      <td>0.00477</td>\n",
       "      <td>0.000299</td>\n",
       "      <td>1.880000e-02</td>\n",
       "    </tr>\n",
       "    <tr>\n",
       "      <th>...</th>\n",
       "      <td>...</td>\n",
       "      <td>...</td>\n",
       "      <td>...</td>\n",
       "    </tr>\n",
       "    <tr>\n",
       "      <th>Zinc II</th>\n",
       "      <td>211.00000</td>\n",
       "      <td>299.000000</td>\n",
       "      <td>1.290000e-14</td>\n",
       "    </tr>\n",
       "    <tr>\n",
       "      <th>m-Xylene</th>\n",
       "      <td>0.49200</td>\n",
       "      <td>0.008900</td>\n",
       "      <td>2.670000e-02</td>\n",
       "    </tr>\n",
       "    <tr>\n",
       "      <th>o-Xylene</th>\n",
       "      <td>0.52500</td>\n",
       "      <td>0.009910</td>\n",
       "      <td>6.200000e-02</td>\n",
       "    </tr>\n",
       "    <tr>\n",
       "      <th>t-Butyl methyl ether</th>\n",
       "      <td>0.00670</td>\n",
       "      <td>0.000414</td>\n",
       "      <td>3.400000e-02</td>\n",
       "    </tr>\n",
       "    <tr>\n",
       "      <th>t-Butylamine</th>\n",
       "      <td>1.12000</td>\n",
       "      <td>0.026700</td>\n",
       "      <td>8.400000e-01</td>\n",
       "    </tr>\n",
       "  </tbody>\n",
       "</table>\n",
       "<p>169 rows × 3 columns</p>\n",
       "</div>"
      ],
      "text/plain": [
       "                      freshwater (H)  marine (H)  terrestial (H)\n",
       "1,2-Dichlorobenzene          0.83600    0.141000    1.760000e+00\n",
       "1-Pentanol                   0.04110    0.001250    6.950000e-01\n",
       "2,4-D                        2.62000    0.145000    5.400000e-04\n",
       "2-Methyl-1-propanol          0.02480    0.001440    7.980000e-01\n",
       "2-Propanol                   0.00477    0.000299    1.880000e-02\n",
       "...                              ...         ...             ...\n",
       "Zinc II                    211.00000  299.000000    1.290000e-14\n",
       "m-Xylene                     0.49200    0.008900    2.670000e-02\n",
       "o-Xylene                     0.52500    0.009910    6.200000e-02\n",
       "t-Butyl methyl ether         0.00670    0.000414    3.400000e-02\n",
       "t-Butylamine                 1.12000    0.026700    8.400000e-01\n",
       "\n",
       "[169 rows x 3 columns]"
      ]
     },
     "execution_count": 9,
     "metadata": {},
     "output_type": "execute_result"
    }
   ],
   "source": [
    "recipe = pd.read_excel(io=file, sheet_name=sheets[0], index_col=0)\n",
    "ecotox = pd.read_excel(io=file, sheet_name=sheets[1], index_col=0)\n"
   ]
  },
  {
   "cell_type": "code",
   "execution_count": 23,
   "metadata": {},
   "outputs": [],
   "source": [
    "scaling_factors = pd.DataFrame(None,index=recipe.index, columns=recipe.columns)"
   ]
  },
  {
   "cell_type": "code",
   "execution_count": null,
   "metadata": {},
   "outputs": [
    {
     "data": {
      "text/plain": [
       "1,2-Dichlorobenzene       586.984454\n",
       "1,4-Butanediol              7.309332\n",
       "1-Pentanol                 15.568038\n",
       "2-Methyl-1-propanol         8.538837\n",
       "2-Propanol                  2.463417\n",
       "                            ...     \n",
       "Zinc II                 38584.584793\n",
       "m-Xylene                  293.377640\n",
       "o-Xylene                  220.767481\n",
       "t-Butyl methyl ether        6.633173\n",
       "t-Butylamine              125.389298\n",
       "Name: ecotox, Length: 99, dtype: float64"
      ]
     },
     "execution_count": 13,
     "metadata": {},
     "output_type": "execute_result"
    }
   ],
   "source": []
  },
  {
   "cell_type": "code",
   "execution_count": 24,
   "metadata": {},
   "outputs": [
    {
     "data": {
      "application/vnd.microsoft.datawrangler.viewer.v0+json": {
       "columns": [
        {
         "name": "index",
         "rawType": "object",
         "type": "string"
        },
        {
         "name": "freshwater (H)",
         "rawType": "object",
         "type": "unknown"
        },
        {
         "name": "marine (H)",
         "rawType": "object",
         "type": "unknown"
        },
        {
         "name": "terrestial (H)",
         "rawType": "object",
         "type": "unknown"
        }
       ],
       "conversionMethod": "pd.DataFrame",
       "ref": "df15a81d-df85-4f4f-ac8c-256e426bd65d",
       "rows": [
        [
         "1,2-Dichlorobenzene",
         "0.0014242285207235583",
         "0.00024021079117466713",
         "0.002998375833102228"
        ],
        [
         "1-Pentanol",
         "0.0026400243751346242",
         "8.029271213913092e-05",
         "0.044642747949356784"
        ],
        [
         "2,4-D",
         null,
         null,
         null
        ],
        [
         "2-Methyl-1-propanol",
         "0.0029043767475753035",
         "0.00016864123050437248",
         "0.09345534857117307"
        ],
        [
         "2-Propanol",
         "0.0019363351476653265",
         "0.00012137614447629616",
         "0.00763167731155307"
        ],
        [
         "2-chlorobenzaldehyde",
         null,
         null,
         null
        ],
        [
         "4-Methyl-2-pentanol",
         "0.002271437643901383",
         "0.00012969840323183126",
         "0.02676316257164772"
        ],
        [
         "4-Methyl-2-pentanone",
         "0.010836965535576587",
         "0.0002572327194508991",
         "1.6064598221191632e-05"
        ],
        [
         "Acenaphthene",
         "0.0034258122467000648",
         "0.0001530682067674497",
         "0.0003911743061834826"
        ],
        [
         "Acephate",
         null,
         null,
         null
        ],
        [
         "Acetaldehyde",
         "0.0030526278163702575",
         "0.00020011671240649468",
         "0.007186394651038316"
        ],
        [
         "Acetic acid",
         "0.0033909102084423034",
         "4.7753646722441904e-05",
         "0.00013423188931644382"
        ],
        [
         "Acetone",
         "0.0017884973089629381",
         "0.00041456873106375937",
         "0.0194509384753573"
        ],
        [
         "Acetonitrile",
         "0.0008866908812547413",
         "0.00024247038972526682",
         "0.030942874002596807"
        ],
        [
         "Acetyl chloride",
         "0.002111844027889035",
         "0.0006387953743933855",
         "0.11682541430875513"
        ],
        [
         "Acrolein",
         null,
         null,
         null
        ],
        [
         "Acrylate",
         null,
         null,
         null
        ],
        [
         "Acrylonitrile",
         "0.0012425776666958172",
         "0.00014651709448567458",
         "0.008819202033464644"
        ],
        [
         "Allyl chloride",
         "0.002058517939721637",
         "3.637381213877067e-05",
         "0.00011525035714299132"
        ],
        [
         "Alpha-cypermethrin",
         null,
         null,
         null
        ],
        [
         "Aniline",
         "0.0016649513700742196",
         "4.07516668675309e-05",
         "0.0009862854782725376"
        ],
        [
         "Anthracene",
         null,
         null,
         null
        ],
        [
         "Antimony ion",
         "0.2783421028197934",
         "0.3765804920503087",
         "1.3753374492272142e-17"
        ],
        [
         "Arsenic ion",
         "0.00408601629326368",
         "0.005669183377952662",
         "2.3780352060473506e-19"
        ],
        [
         "Atrazine",
         null,
         null,
         null
        ],
        [
         "Azoxystrobin",
         null,
         null,
         null
        ],
        [
         "Barium II",
         "0.0018281812242309182",
         "0.002575180004024197",
         "8.714985764254915e-20"
        ],
        [
         "Benzaldehyde",
         null,
         null,
         null
        ],
        [
         "Benzene",
         "0.0013154891703872848",
         "7.350371516564898e-05",
         "0.0013018493057173706"
        ],
        [
         "Benzene, chloro-",
         "0.0019020394833723202",
         "9.586482422879207e-05",
         "0.002344492518274438"
        ],
        [
         "Benzene, ethyl-",
         "0.0016752973187441234",
         "3.2190866568359776e-05",
         "0.00024300387729223635"
        ],
        [
         "Benzene, hexachloro-",
         null,
         null,
         null
        ],
        [
         "Benzene, pentachloro-",
         null,
         null,
         null
        ],
        [
         "Benzo(a)pyrene",
         null,
         null,
         null
        ],
        [
         "Benzyl alcohol",
         "0.0014218889287787326",
         "3.4873696884783654e-05",
         "0.00023797930492191422"
        ],
        [
         "Beryllium II",
         "0.01502949378693833",
         "0.019358203088722",
         "1.779879228435273e-18"
        ],
        [
         "Beta-cyfluthrin",
         null,
         null,
         null
        ],
        [
         "Bifenthrin",
         null,
         null,
         null
        ],
        [
         "Bisphenol A",
         null,
         null,
         null
        ],
        [
         "Bromopropane",
         null,
         null,
         null
        ],
        [
         "Butanol",
         "0.0033178838429214793",
         "0.00010098695631187234",
         "0.003372275381330028"
        ],
        [
         "Butyl acetate",
         "0.0027172956045022727",
         "0.00010749353558666578",
         "0.012969711834719018"
        ],
        [
         "Cadmium II",
         "0.0017297668290936928",
         "0.002018061300609308",
         "8.988609772611867e-20"
        ],
        [
         "Carbendazim",
         null,
         null,
         null
        ],
        [
         "Carbon disulfide",
         "0.0022747554478991412",
         "0.0008929555769690039",
         "0.005559789103317958"
        ],
        [
         "Carboxin",
         null,
         null,
         null
        ],
        [
         "Carboxylic acids, unspecified",
         null,
         null,
         null
        ],
        [
         "Carfentrazone-ethyl",
         null,
         null,
         null
        ],
        [
         "Chloramine",
         "0.003015852035269641",
         "7.171334793544399e-05",
         "4.5307270207276634e-11"
        ],
        [
         "Chloroacetic acid",
         "0.0030736967496087187",
         "7.308567826847399e-05",
         "2.322348655259921e-07"
        ]
       ],
       "shape": {
        "columns": 3,
        "rows": 169
       }
      },
      "text/html": [
       "<div>\n",
       "<style scoped>\n",
       "    .dataframe tbody tr th:only-of-type {\n",
       "        vertical-align: middle;\n",
       "    }\n",
       "\n",
       "    .dataframe tbody tr th {\n",
       "        vertical-align: top;\n",
       "    }\n",
       "\n",
       "    .dataframe thead th {\n",
       "        text-align: right;\n",
       "    }\n",
       "</style>\n",
       "<table border=\"1\" class=\"dataframe\">\n",
       "  <thead>\n",
       "    <tr style=\"text-align: right;\">\n",
       "      <th></th>\n",
       "      <th>freshwater (H)</th>\n",
       "      <th>marine (H)</th>\n",
       "      <th>terrestial (H)</th>\n",
       "    </tr>\n",
       "  </thead>\n",
       "  <tbody>\n",
       "    <tr>\n",
       "      <th>1,2-Dichlorobenzene</th>\n",
       "      <td>0.001424</td>\n",
       "      <td>0.00024</td>\n",
       "      <td>0.002998</td>\n",
       "    </tr>\n",
       "    <tr>\n",
       "      <th>1-Pentanol</th>\n",
       "      <td>0.00264</td>\n",
       "      <td>0.00008</td>\n",
       "      <td>0.044643</td>\n",
       "    </tr>\n",
       "    <tr>\n",
       "      <th>2,4-D</th>\n",
       "      <td>NaN</td>\n",
       "      <td>NaN</td>\n",
       "      <td>NaN</td>\n",
       "    </tr>\n",
       "    <tr>\n",
       "      <th>2-Methyl-1-propanol</th>\n",
       "      <td>0.002904</td>\n",
       "      <td>0.000169</td>\n",
       "      <td>0.093455</td>\n",
       "    </tr>\n",
       "    <tr>\n",
       "      <th>2-Propanol</th>\n",
       "      <td>0.001936</td>\n",
       "      <td>0.000121</td>\n",
       "      <td>0.007632</td>\n",
       "    </tr>\n",
       "    <tr>\n",
       "      <th>...</th>\n",
       "      <td>...</td>\n",
       "      <td>...</td>\n",
       "      <td>...</td>\n",
       "    </tr>\n",
       "    <tr>\n",
       "      <th>Zinc II</th>\n",
       "      <td>0.005469</td>\n",
       "      <td>0.007749</td>\n",
       "      <td>0.0</td>\n",
       "    </tr>\n",
       "    <tr>\n",
       "      <th>m-Xylene</th>\n",
       "      <td>0.001677</td>\n",
       "      <td>0.00003</td>\n",
       "      <td>0.000091</td>\n",
       "    </tr>\n",
       "    <tr>\n",
       "      <th>o-Xylene</th>\n",
       "      <td>0.002378</td>\n",
       "      <td>0.000045</td>\n",
       "      <td>0.000281</td>\n",
       "    </tr>\n",
       "    <tr>\n",
       "      <th>t-Butyl methyl ether</th>\n",
       "      <td>0.00101</td>\n",
       "      <td>0.000062</td>\n",
       "      <td>0.005126</td>\n",
       "    </tr>\n",
       "    <tr>\n",
       "      <th>t-Butylamine</th>\n",
       "      <td>0.008932</td>\n",
       "      <td>0.000213</td>\n",
       "      <td>0.006699</td>\n",
       "    </tr>\n",
       "  </tbody>\n",
       "</table>\n",
       "<p>169 rows × 3 columns</p>\n",
       "</div>"
      ],
      "text/plain": [
       "                     freshwater (H) marine (H) terrestial (H)\n",
       "1,2-Dichlorobenzene        0.001424    0.00024       0.002998\n",
       "1-Pentanol                  0.00264    0.00008       0.044643\n",
       "2,4-D                           NaN        NaN            NaN\n",
       "2-Methyl-1-propanol        0.002904   0.000169       0.093455\n",
       "2-Propanol                 0.001936   0.000121       0.007632\n",
       "...                             ...        ...            ...\n",
       "Zinc II                    0.005469   0.007749            0.0\n",
       "m-Xylene                   0.001677    0.00003       0.000091\n",
       "o-Xylene                   0.002378   0.000045       0.000281\n",
       "t-Butyl methyl ether        0.00101   0.000062       0.005126\n",
       "t-Butylamine               0.008932   0.000213       0.006699\n",
       "\n",
       "[169 rows x 3 columns]"
      ]
     },
     "execution_count": 24,
     "metadata": {},
     "output_type": "execute_result"
    }
   ],
   "source": [
    "for rcol in recipe.columns:\n",
    "    for ridx, rrow in recipe.iterrows():\n",
    "        for ecol in ecotox.columns:\n",
    "            for eidx, erow in ecotox.iterrows():\n",
    "                if ridx == eidx:\n",
    "                    scaling_factors.at[ridx, rcol] = float(rrow[rcol])/float(erow[ecol])\n",
    "\n",
    "scaling_factors"
   ]
  },
  {
   "cell_type": "code",
   "execution_count": 26,
   "metadata": {},
   "outputs": [],
   "source": [
    "scaling_factors = scaling_factors.dropna()"
   ]
  },
  {
   "cell_type": "code",
   "execution_count": 27,
   "metadata": {},
   "outputs": [],
   "source": [
    "file_name = r\"C:\\Users\\ruw\\Desktop\\RA\\penicilin\\data\\scaling_factors.xlsx\"\n",
    "\n",
    "with pd.ExcelWriter(file_name) as writer:\n",
    "        scaling_factors.to_excel(writer, sheet_name=\"scaling factors\", index=True, header=True)"
   ]
  },
  {
   "cell_type": "code",
   "execution_count": 1,
   "metadata": {},
   "outputs": [],
   "source": [
    "from time import time"
   ]
  },
  {
   "cell_type": "code",
   "execution_count": 1,
   "metadata": {},
   "outputs": [],
   "source": [
    "import bw2data as bd\n",
    "bd.projects.set_current(\"Penicillin\")"
   ]
  },
  {
   "cell_type": "code",
   "execution_count": 2,
   "metadata": {},
   "outputs": [
    {
     "data": {
      "text/plain": [
       "Databases dictionary with 6 object(s):\n",
       "\tbiosphere3\n",
       "\tev391consq\n",
       "\tev391cutoff\n",
       "\tpenicillin_consq\n",
       "\tpenicillin_cut_off\n",
       "\ttest"
      ]
     },
     "execution_count": 2,
     "metadata": {},
     "output_type": "execute_result"
    }
   ],
   "source": [
    "bd.databases"
   ]
  },
  {
   "cell_type": "code",
   "execution_count": 22,
   "metadata": {},
   "outputs": [
    {
     "data": {
      "text/plain": [
       "'manufacturing of vial of penicillin' (unit, FR, None)"
      ]
     },
     "execution_count": 22,
     "metadata": {},
     "output_type": "execute_result"
    }
   ],
   "source": [
    "db = bd.Database(\"penicillin_cut_off\")\n",
    "our_activity = [act for act in db][0]\n",
    "our_activity"
   ]
  },
  {
   "cell_type": "code",
   "execution_count": 23,
   "metadata": {},
   "outputs": [
    {
     "name": "stdout",
     "output_type": "stream",
     "text": [
      "Exchange: 1 unit 'manufacturing of vial of penicillin' (unit, FR, None) to 'manufacturing of vial of penicillin' (unit, FR, None)>\n",
      "Exchange: 0.006 kilogram 'market for aluminium alloy, AlLi' (kilogram, GLO, None) to 'manufacturing of vial of penicillin' (unit, FR, None)>\n",
      "Exchange: 3.733333333333333e-05 kilowatt hour 'electricity production, hydro, pumped storage' (kilowatt hour, FR, None) to 'manufacturing of vial of penicillin' (unit, FR, None)>\n",
      "Exchange: 0.00603125 kilogram 'market for extrusion, plastic pipes' (kilogram, GLO, None) to 'manufacturing of vial of penicillin' (unit, FR, None)>\n",
      "Exchange: 0.00775 kilogram 'market for furniture, wooden' (kilogram, GLO, None) to 'manufacturing of vial of penicillin' (unit, FR, None)>\n",
      "Exchange: 0.02634 kilogram 'market for glass tube, borosilicate' (kilogram, GLO, None) to 'manufacturing of vial of penicillin' (unit, FR, None)>\n",
      "Exchange: 0.01065652 kilogram 'market for injection moulding' (kilogram, GLO, None) to 'manufacturing of vial of penicillin' (unit, FR, None)>\n",
      "Exchange: 0.01065625 kilogram 'market for polypropylene, granulate' (kilogram, GLO, None) to 'manufacturing of vial of penicillin' (unit, FR, None)>\n",
      "Exchange: 0.0006 kilogram 'raw penicillium G' (kilogram, FR, None) to 'manufacturing of vial of penicillin' (unit, FR, None)>\n",
      "Exchange: 0.0005 kilogram 'market for synthetic rubber' (kilogram, GLO, None) to 'manufacturing of vial of penicillin' (unit, FR, None)>\n",
      "Exchange: 0.03893653 ton kilometer 'market for transport, freight, lorry 7.5-16 metric ton, EURO6' (ton kilometer, RER, None) to 'manufacturing of vial of penicillin' (unit, FR, None)>\n",
      "Exchange: 0.0813281016 ton kilometer 'market for transport, freight, sea, container ship with reefer, cooling' (ton kilometer, GLO, None) to 'manufacturing of vial of penicillin' (unit, FR, None)>\n"
     ]
    }
   ],
   "source": [
    "for exc in our_activity.exchanges():\n",
    "    print(exc)"
   ]
  },
  {
   "cell_type": "code",
   "execution_count": 5,
   "metadata": {},
   "outputs": [
    {
     "data": {
      "text/plain": [
       "['pill sc1' (unit, DK, None),\n",
       " 'vial sc1' (kilogram, DK, None),\n",
       " 'pill sc2' (unit, DK, None),\n",
       " 'vial sc2' (kilogram, DK, None),\n",
       " 'combined sc3' (kilogram, DK, None)]"
      ]
     },
     "execution_count": 5,
     "metadata": {},
     "output_type": "execute_result"
    }
   ],
   "source": [
    "db = bd.Database(\"penicillin_cut_off\")\n",
    "scenarios = [\"sc1\", \"sc2\", \"sc3\"] \n",
    "flow = []\n",
    "    # Check if the database is case1\n",
    "for sc in scenarios:\n",
    "    for act in db:\n",
    "        temp = act['name']\n",
    "        # Check if the flow is valid and add to the flow list\n",
    "        if (\"pill\" in temp or( \"vial\" in temp and \"sc\" in temp) or 'combined' in temp) and sc in temp:\n",
    "            flow.append(act)\n",
    "\n",
    "flow"
   ]
  },
  {
   "cell_type": "code",
   "execution_count": 6,
   "metadata": {},
   "outputs": [
    {
     "data": {
      "text/plain": [
       "{'pill sc1' (unit, DK, None): {},\n",
       " 'vial sc1' (kilogram, DK, None): {},\n",
       " 'pill sc2' (unit, DK, None): {},\n",
       " 'vial sc2' (kilogram, DK, None): {},\n",
       " 'combined sc3' (kilogram, DK, None): {}}"
      ]
     },
     "execution_count": 6,
     "metadata": {},
     "output_type": "execute_result"
    }
   ],
   "source": [
    "dct = {f: {} for f in flow}\n",
    "dct"
   ]
  },
  {
   "cell_type": "code",
   "execution_count": 130,
   "metadata": {},
   "outputs": [],
   "source": [
    "def find_exchanges(exc):\n",
    "    for lvl in exc.input.exchanges():\n",
    "        if \"ev391cutoff\" == lvl['database'] and \"technosphere\" in lvl[\"type\"]:\n",
    "            dct[act].update({lvl.input: exc['amount'] * lvl['amount']})\n",
    "        else:\n",
    "            find_exchanges(lvl)"
   ]
  },
  {
   "cell_type": "code",
   "execution_count": null,
   "metadata": {},
   "outputs": [],
   "source": [
    "def find_exchanges(exc, dct, act):\n",
    "    stack = [exc]\n",
    "    while stack:\n",
    "        current_exc = stack.pop()\n",
    "        try:\n",
    "            for lvl in current_exc.input.exchanges():\n",
    "                # print(lvl[\"name\"], lvl)\n",
    "                if \"ev391cutoff\" == lvl['database'] and lvl[\"type\"] == \"technosphere\":\n",
    "                    dct[act].update({lvl.input: current_exc['amount'] * lvl['amount']})\n",
    "                else:\n",
    "                    if lvl.input != lvl.output:\n",
    "                        stack.append(lvl)\n",
    "        except KeyError as e:\n",
    "            print(f\"{e} for {lvl['name']}\")"
   ]
  },
  {
   "cell_type": "code",
   "execution_count": null,
   "metadata": {},
   "outputs": [],
   "source": [
    "def extract_exchanges_for_MC(flow):\n",
    "    dct = {f: {} for f in flow}\n",
    "    for act in flow:\n",
    "        for exc in act.exchanges():\n",
    "            if \"technosphere\" in exc[\"type\"]:\n",
    "                if \"ev391cutoff\" == exc['database']:\n",
    "                    dct[act].update({exc.input: exc['amount']})\n",
    "                else:\n",
    "                    find_exchanges(exc, dct, act)\n",
    "    return dct"
   ]
  },
  {
   "cell_type": "code",
   "execution_count": 3,
   "metadata": {},
   "outputs": [],
   "source": [
    "path = r'C:/Users/ruw/Desktop'\n",
    "import sys # https://stackoverflow.com/questions/4383571/importing-files-from-different-folder\n",
    "sys.path.insert(1, rf'{path}\\RA\\penicilin\\Libaries')"
   ]
  },
  {
   "cell_type": "code",
   "execution_count": 4,
   "metadata": {},
   "outputs": [],
   "source": [
    "import reload_lib as rl"
   ]
  },
  {
   "cell_type": "code",
   "execution_count": 5,
   "metadata": {},
   "outputs": [],
   "source": [
    "import MC\n",
    "rl.reload_lib(MC)"
   ]
  },
  {
   "cell_type": "code",
   "execution_count": 6,
   "metadata": {},
   "outputs": [],
   "source": [
    "from MC import monte_carlo as mc\n",
    "from life_cycle_assessment import lcia_impact_method"
   ]
  },
  {
   "cell_type": "code",
   "execution_count": 8,
   "metadata": {},
   "outputs": [
    {
     "data": {
      "text/plain": [
       "['pill sc1' (unit, DK, None),\n",
       " 'vial sc1' (kilogram, DK, None),\n",
       " 'pill sc2' (unit, DK, None),\n",
       " 'vial sc2' (kilogram, DK, None),\n",
       " 'combined sc3' (kilogram, DK, None)]"
      ]
     },
     "execution_count": 8,
     "metadata": {},
     "output_type": "execute_result"
    }
   ],
   "source": [
    "rl.reload_lib(MC)\n",
    "init = mc()\n",
    "dct, uncert = init.extract_exchanges_for_MC()\n",
    "\n",
    "activities = init.actvities\n",
    "activities"
   ]
  },
  {
   "cell_type": "code",
   "execution_count": null,
   "metadata": {},
   "outputs": [],
   "source": [
    "import bw2calc as bc\n",
    "import bw2data as bd\n",
    "import brightway2 as bw"
   ]
  },
  {
   "cell_type": "code",
   "execution_count": 109,
   "metadata": {},
   "outputs": [
    {
     "data": {
      "text/plain": [
       "('ReCiPe 2016 v1.03, midpoint (H) - no biogenic',\n",
       " 'climate change',\n",
       " 'global warming potential (GWP1000)')"
      ]
     },
     "execution_count": 109,
     "metadata": {},
     "output_type": "execute_result"
    }
   ],
   "source": [
    "method = lcia_impact_method()[1]\n",
    "method"
   ]
  },
  {
   "cell_type": "code",
   "execution_count": 13,
   "metadata": {},
   "outputs": [],
   "source": [
    "bd.projects.set_current(\"Penicillin\")"
   ]
  },
  {
   "cell_type": "code",
   "execution_count": 14,
   "metadata": {},
   "outputs": [],
   "source": [
    "import numpy as np"
   ]
  },
  {
   "cell_type": "code",
   "execution_count": null,
   "metadata": {},
   "outputs": [],
   "source": [
    "uncert_dct = {}\n",
    "techno = {}\n",
    "for key, dct_act in init.dct.items():\n",
    "    uncert_dct[key] = {}\n",
    "    techno[key] = {}\n",
    "    for act in dct_act.keys():\n",
    "        for exc in act.exchanges():\n",
    "            unc = exc.uncertainty\n",
    "            if exc[\"type\"] == \"technosphere\"  and unc[\"uncertainty type\"] == 2:\n",
    "                techno[key].update({act : {exc.input : exc.uncertainty}})"
   ]
  },
  {
   "cell_type": "code",
   "execution_count": null,
   "metadata": {},
   "outputs": [],
   "source": [
    "sc_uncrt = {}\n",
    "for sc in activities:\n",
    "    loc = 0\n",
    "    scale = 0\n",
    "    sc_uncrt[sc] = {}\n",
    "    try:\n",
    "        for act, uncrt_dct in techno[sc].items():\n",
    "            for uncrt in uncrt_dct.values():\n",
    "                loc += uncrt['loc']\n",
    "                scale += uncrt['scale']\n",
    "        sc_uncrt[sc].update({'loc' : loc/len(techno[sc])})\n",
    "        sc_uncrt[sc].update({'scale' : scale/len(techno[sc])})\n",
    "    except KeyError:\n",
    "        pass"
   ]
  },
  {
   "cell_type": "code",
   "execution_count": 76,
   "metadata": {},
   "outputs": [],
   "source": [
    "import pandas as pd\n",
    "from time import time"
   ]
  },
  {
   "cell_type": "code",
   "execution_count": 93,
   "metadata": {},
   "outputs": [
    {
     "name": "stdout",
     "output_type": "stream",
     "text": [
      "Iterration 1 of 2\n",
      "Iterration 1 took 77.69 seconds\n",
      "Iterration 2 of 2\n",
      "Iterration 2 took 52.94 seconds\n"
     ]
    },
    {
     "data": {
      "application/vnd.microsoft.datawrangler.viewer.v0+json": {
       "columns": [
        {
         "name": "index",
         "rawType": "object",
         "type": "unknown"
        },
        {
         "name": "1",
         "rawType": "object",
         "type": "unknown"
        },
        {
         "name": "2",
         "rawType": "object",
         "type": "unknown"
        }
       ],
       "conversionMethod": "pd.DataFrame",
       "ref": "ce66b378-1226-4008-ab90-599953800b62",
       "rows": [
        [
         "'pill sc1' (unit, DK, None)",
         "9.203258673846099e-05",
         "0.00017071613016885867"
        ],
        [
         "'vial sc1' (kilogram, DK, None)",
         "0.004141890951158957",
         "0.002189797496091104"
        ],
        [
         "'pill sc2' (unit, DK, None)",
         "0.0026473453872402908",
         "0.003321894417903362"
        ],
        [
         "'vial sc2' (kilogram, DK, None)",
         "0.03444703191899663",
         "0.04016318501092259"
        ],
        [
         "'combined sc3' (kilogram, DK, None)",
         "0.0657685167297627",
         "0.015754121734646673"
        ]
       ],
       "shape": {
        "columns": 2,
        "rows": 5
       }
      },
      "text/html": [
       "<div>\n",
       "<style scoped>\n",
       "    .dataframe tbody tr th:only-of-type {\n",
       "        vertical-align: middle;\n",
       "    }\n",
       "\n",
       "    .dataframe tbody tr th {\n",
       "        vertical-align: top;\n",
       "    }\n",
       "\n",
       "    .dataframe thead th {\n",
       "        text-align: right;\n",
       "    }\n",
       "</style>\n",
       "<table border=\"1\" class=\"dataframe\">\n",
       "  <thead>\n",
       "    <tr style=\"text-align: right;\">\n",
       "      <th></th>\n",
       "      <th>1</th>\n",
       "      <th>2</th>\n",
       "    </tr>\n",
       "  </thead>\n",
       "  <tbody>\n",
       "    <tr>\n",
       "      <th>[production amount, reference product, location, unit, name, worksheet name, database, code]</th>\n",
       "      <td>9.203258673846099e-05</td>\n",
       "      <td>0.00017071613016885867</td>\n",
       "    </tr>\n",
       "    <tr>\n",
       "      <th>[production amount, reference product, location, unit, name, worksheet name, database, code]</th>\n",
       "      <td>0.004141890951158957</td>\n",
       "      <td>0.002189797496091104</td>\n",
       "    </tr>\n",
       "    <tr>\n",
       "      <th>[production amount, reference product, location, unit, name, worksheet name, database, code]</th>\n",
       "      <td>0.0026473453872402908</td>\n",
       "      <td>0.003321894417903362</td>\n",
       "    </tr>\n",
       "    <tr>\n",
       "      <th>[production amount, reference product, location, unit, name, worksheet name, database, code]</th>\n",
       "      <td>0.03444703191899663</td>\n",
       "      <td>0.04016318501092259</td>\n",
       "    </tr>\n",
       "    <tr>\n",
       "      <th>[production amount, reference product, location, unit, name, worksheet name, database, code]</th>\n",
       "      <td>0.0657685167297627</td>\n",
       "      <td>0.015754121734646673</td>\n",
       "    </tr>\n",
       "  </tbody>\n",
       "</table>\n",
       "</div>"
      ],
      "text/plain": [
       "                                                                        1  \\\n",
       "[production amount, reference product, location...  9.203258673846099e-05   \n",
       "[production amount, reference product, location...   0.004141890951158957   \n",
       "[production amount, reference product, location...  0.0026473453872402908   \n",
       "[production amount, reference product, location...    0.03444703191899663   \n",
       "[production amount, reference product, location...     0.0657685167297627   \n",
       "\n",
       "                                                                         2  \n",
       "[production amount, reference product, location...  0.00017071613016885867  \n",
       "[production amount, reference product, location...    0.002189797496091104  \n",
       "[production amount, reference product, location...    0.003321894417903362  \n",
       "[production amount, reference product, location...     0.04016318501092259  \n",
       "[production amount, reference product, location...    0.015754121734646673  "
      ]
     },
     "execution_count": 93,
     "metadata": {},
     "output_type": "execute_result"
    }
   ],
   "source": [
    "sampled_data = {}\n",
    "\n",
    "itterations = 2\n",
    "\n",
    "df_mc = pd.DataFrame(0, index=activities, columns=list(range(1,itterations+1)), dtype=object)\n",
    "\n",
    "# try:\n",
    "results_dct = {}\n",
    "for itt in range(itterations):\n",
    "    start = time()\n",
    "    func_unit_MC = []\n",
    "    print(f\"Iterration {itt+1} of {itterations}\")\n",
    "    for act, uncert in sc_uncrt.items():\n",
    "        mean = np.exp(uncert['loc'])\n",
    "        sigma = uncert['scale']\n",
    "        new_val = np.random.lognormal(mean, sigma)\n",
    "        func_unit_MC.append({act : new_val})\n",
    "\n",
    "    bd.calculation_setups[f'MC_{itt+1}'] = {'inv': func_unit_MC, 'ia': [method[0]]}\n",
    "    MC_res = bc.MultiLCA(f'MC_{itt+1}')\n",
    "    MC_results_array = MC_res.results\n",
    "\n",
    "    # Store results in DataFrame\n",
    "    for idx, res in enumerate(MC_results_array):\n",
    "        df_mc.iat[idx, itt] = res\n",
    "    print(f\"Iterration {itt+1} took {round(time() - start,2)} seconds\")\n",
    "\n",
    "df_mc"
   ]
  },
  {
   "cell_type": "code",
   "execution_count": 100,
   "metadata": {},
   "outputs": [
    {
     "data": {
      "text/plain": [
       "{'pill sc1' (unit, DK, None): array([9.20325867e-05, 1.70716130e-04]),\n",
       " 'vial sc1' (kilogram, DK, None): array([0.00414189, 0.0021898 ]),\n",
       " 'pill sc2' (unit, DK, None): array([0.00264735, 0.00332189]),\n",
       " 'vial sc2' (kilogram, DK, None): array([0.03444703, 0.04016319]),\n",
       " 'combined sc3' (kilogram, DK, None): array([0.06576852, 0.01575412])}"
      ]
     },
     "execution_count": 100,
     "metadata": {},
     "output_type": "execute_result"
    }
   ],
   "source": [
    "dct_MC = {}\n",
    "\n",
    "for idx,row in df_mc.iterrows():\n",
    "    arr_temp = np.zeros(itterations)\n",
    "    for col in df_mc.columns:\n",
    "        arr_temp[col-1] = row[col]\n",
    "        # print(arr_res[col-1], idx,row[col])\n",
    "    dct_MC[idx] = arr_temp\n",
    "dct_MC"
   ]
  },
  {
   "cell_type": "code",
   "execution_count": 106,
   "metadata": {},
   "outputs": [
    {
     "name": "stdout",
     "output_type": "stream",
     "text": [
      "'pill sc1' (unit, DK, None) [9.20325867e-05 1.70716130e-04] Mean\n",
      "'pill sc1' (unit, DK, None) [9.20325867e-05 1.70716130e-04] Median\n",
      "'pill sc1' (unit, DK, None) [9.20325867e-05 1.70716130e-04] Standard Deviation\n",
      "'pill sc1' (unit, DK, None) [9.20325867e-05 1.70716130e-04] Minimum\n",
      "'pill sc1' (unit, DK, None) [9.20325867e-05 1.70716130e-04] Maximum\n",
      "'vial sc1' (kilogram, DK, None) [0.00414189 0.0021898 ] Mean\n",
      "'vial sc1' (kilogram, DK, None) [0.00414189 0.0021898 ] Median\n",
      "'vial sc1' (kilogram, DK, None) [0.00414189 0.0021898 ] Standard Deviation\n",
      "'vial sc1' (kilogram, DK, None) [0.00414189 0.0021898 ] Minimum\n",
      "'vial sc1' (kilogram, DK, None) [0.00414189 0.0021898 ] Maximum\n",
      "'pill sc2' (unit, DK, None) [0.00264735 0.00332189] Mean\n",
      "'pill sc2' (unit, DK, None) [0.00264735 0.00332189] Median\n",
      "'pill sc2' (unit, DK, None) [0.00264735 0.00332189] Standard Deviation\n",
      "'pill sc2' (unit, DK, None) [0.00264735 0.00332189] Minimum\n",
      "'pill sc2' (unit, DK, None) [0.00264735 0.00332189] Maximum\n",
      "'vial sc2' (kilogram, DK, None) [0.03444703 0.04016319] Mean\n",
      "'vial sc2' (kilogram, DK, None) [0.03444703 0.04016319] Median\n",
      "'vial sc2' (kilogram, DK, None) [0.03444703 0.04016319] Standard Deviation\n",
      "'vial sc2' (kilogram, DK, None) [0.03444703 0.04016319] Minimum\n",
      "'vial sc2' (kilogram, DK, None) [0.03444703 0.04016319] Maximum\n",
      "'combined sc3' (kilogram, DK, None) [0.06576852 0.01575412] Mean\n",
      "'combined sc3' (kilogram, DK, None) [0.06576852 0.01575412] Median\n",
      "'combined sc3' (kilogram, DK, None) [0.06576852 0.01575412] Standard Deviation\n",
      "'combined sc3' (kilogram, DK, None) [0.06576852 0.01575412] Minimum\n",
      "'combined sc3' (kilogram, DK, None) [0.06576852 0.01575412] Maximum\n"
     ]
    },
    {
     "data": {
      "text/plain": [
       "{'pill sc1' (unit, DK, None): {'Mean': 0.00013137435845365984,\n",
       "  'Median': 0.00013137435845365984,\n",
       "  'Standard Deviation': 3.934177171519884e-05,\n",
       "  'Minimum': 9.203258673846099e-05,\n",
       "  'Maximum': 0.00017071613016885867},\n",
       " 'vial sc1' (kilogram, DK, None): {'Mean': 0.00316584422362503,\n",
       "  'Median': 0.00316584422362503,\n",
       "  'Standard Deviation': 0.0009760467275339265,\n",
       "  'Minimum': 0.002189797496091104,\n",
       "  'Maximum': 0.004141890951158957},\n",
       " 'pill sc2' (unit, DK, None): {'Mean': 0.0029846199025718263,\n",
       "  'Median': 0.0029846199025718263,\n",
       "  'Standard Deviation': 0.0003372745153315355,\n",
       "  'Minimum': 0.0026473453872402908,\n",
       "  'Maximum': 0.003321894417903362},\n",
       " 'vial sc2' (kilogram, DK, None): {'Mean': 0.037305108464959616,\n",
       "  'Median': 0.037305108464959616,\n",
       "  'Standard Deviation': 0.0028580765459629807,\n",
       "  'Minimum': 0.03444703191899663,\n",
       "  'Maximum': 0.04016318501092259},\n",
       " 'combined sc3' (kilogram, DK, None): {'Mean': 0.04076131923220468,\n",
       "  'Median': 0.04076131923220468,\n",
       "  'Standard Deviation': 0.02500719749755801,\n",
       "  'Minimum': 0.015754121734646673,\n",
       "  'Maximum': 0.0657685167297627}}"
      ]
     },
     "execution_count": 106,
     "metadata": {},
     "output_type": "execute_result"
    }
   ],
   "source": [
    "data_proccessing = ['Mean', 'Median', 'Standard Deviation', 'Minimum', 'Maximum']\n",
    "data_proccessing_dct = {}\n",
    "\n",
    "for act, arr in dct_MC.items():\n",
    "    data_proccessing_dct[act] = {}\n",
    "    for dp in data_proccessing:\n",
    "        print(act, arr, dp)\n",
    "        if 'mean' in dp.lower():\n",
    "            data_proccessing_dct[act].update({dp : np.mean(arr)})\n",
    "                # print(index)\n",
    "        elif 'median' in dp.lower():\n",
    "            data_proccessing_dct[act].update({dp : np.median(arr)})\n",
    "            # print(index)\n",
    "        elif 'standard' in dp.lower():\n",
    "            data_proccessing_dct[act].update({dp : np.std(arr)})\n",
    "            # print(index)\n",
    "        elif 'minimum' in dp.lower():\n",
    "            data_proccessing_dct[act].update({dp : np.min(arr)})\n",
    "            # print(index)\n",
    "        elif 'maximum' in dp.lower():\n",
    "            data_proccessing_dct[act].update({dp : np.max(arr)})\n",
    "data_proccessing_dct"
   ]
  }
 ],
 "metadata": {
  "kernelspec": {
   "display_name": "Python 3",
   "language": "python",
   "name": "python3"
  },
  "language_info": {
   "codemirror_mode": {
    "name": "ipython",
    "version": 3
   },
   "file_extension": ".py",
   "mimetype": "text/x-python",
   "name": "python",
   "nbconvert_exporter": "python",
   "pygments_lexer": "ipython3",
   "version": "3.11.9"
  }
 },
 "nbformat": 4,
 "nbformat_minor": 2
}
